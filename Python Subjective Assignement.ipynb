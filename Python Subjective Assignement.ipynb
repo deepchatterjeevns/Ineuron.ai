{
 "cells": [
  {
   "cell_type": "markdown",
   "metadata": {
    "colab_type": "text",
    "id": "X8EcAtKWU2kZ"
   },
   "source": [
    "## Q1.Write a Python program to get the string from the given string where all the occurrence of its first char has been changed to '$,' except first char itself?\n",
    "\n",
    "Sample String: 'prospect'\n",
    "\n",
    "Expected Result : 'pros$ect'"
   ]
  },
  {
   "cell_type": "code",
   "execution_count": 1,
   "metadata": {},
   "outputs": [
    {
     "name": "stdout",
     "output_type": "stream",
     "text": [
      "pros$ect\n"
     ]
    }
   ],
   "source": [
    "def change_char(str):\n",
    "    first_char = str[0]\n",
    "    str = str.replace(first_char,'$') \n",
    "    str = first_char + str[1:]\n",
    "    return str\n",
    "\n",
    "# Example\n",
    "Sample_String = 'prospect'\n",
    "result = change_char(Sample_String )\n",
    "print(result)\n",
    "                        "
   ]
  },
  {
   "cell_type": "markdown",
   "metadata": {
    "colab_type": "text",
    "id": "P6Lmoc3_scXb"
   },
   "source": [
    "## Q2.Write a Python program to get the single string from the two given strings, and separated by the space and swap the first two characters of each string?\n",
    "\n",
    "Sample String : 'abc', 'xyz'.\n",
    "\n",
    "Expected Result: 'xyc abz'"
   ]
  },
  {
   "cell_type": "code",
   "execution_count": 2,
   "metadata": {},
   "outputs": [
    {
     "name": "stdout",
     "output_type": "stream",
     "text": [
      "xyc abz\n"
     ]
    }
   ],
   "source": [
    "def swap_string(str1,str2):\n",
    "    new_str1, new_str2 = str2[:-1]+str1[-1], str1[:-1]+str2[-1]\n",
    "    return (f'{new_str1} {new_str2}')\n",
    "\n",
    "result = swap_string('abc','xyz')\n",
    "print(result)"
   ]
  },
  {
   "cell_type": "markdown",
   "metadata": {
    "colab_type": "text",
    "id": "C20X-QZLtowo"
   },
   "source": [
    "## Q3. Write thePython program to add 'ing' at the end of thegiven string (length of the string shouldbe at least 3). Ifgiven string already ends with 'ing,'then add 'ly' instead. Ifstring length of the given string is less than 3, leave it unchanged?\n",
    "\n",
    "Sample string:'abc'\n",
    "\n",
    "Expected result:'abcing'\n",
    "\n",
    "Sample string:'string'\n",
    "\n",
    "Expected result: 'stringly'"
   ]
  },
  {
   "cell_type": "code",
   "execution_count": 9,
   "metadata": {},
   "outputs": [
    {
     "name": "stdout",
     "output_type": "stream",
     "text": [
      "abcing\n",
      "stringly\n"
     ]
    }
   ],
   "source": [
    "def add_ing(str):\n",
    "    if len(str)<3:\n",
    "        return str\n",
    "    elif str[-3:]=='ing':\n",
    "        return str + 'ly'\n",
    "    else:\n",
    "        return str + 'ing'\n",
    "    \n",
    "#Examples\n",
    "Sample_string_1 = 'abc'\n",
    "result1 = add_ing(Sample_string_1)\n",
    "print(result1)\n",
    "\n",
    "Sample_string_2 = 'string'\n",
    "result2 = add_ing(Sample_string_2)\n",
    "print(result2)    "
   ]
  },
  {
   "cell_type": "markdown",
   "metadata": {
    "colab_type": "text",
    "id": "aAnTVnrNvjH3"
   },
   "source": [
    "### Q4. Write the Python program to find the first appearance of the substring 'not' and 'poor' from the given string, if 'not' follows the 'poor', replace the whole 'not'...'poor' substring with 'good'.Return the resulting string.\n",
    "\n",
    "Sample string: 'The lyrics are not that poor!''The lyrics arepoor!'\n",
    "\n",
    "Expected Result: 'The lyrics are good!''The lyrics are poor!'"
   ]
  },
  {
   "cell_type": "code",
   "execution_count": 1,
   "metadata": {},
   "outputs": [
    {
     "name": "stdout",
     "output_type": "stream",
     "text": [
      "The lyrics is good!\n",
      "The lyrics is poor!\n"
     ]
    }
   ],
   "source": [
    "def not_poor(str1): \n",
    "    snot = str1.find('not') \n",
    "    spoor = str1.find('poor')\n",
    "    if spoor > snot and snot>0 and spoor>0: \n",
    "        str1 = str1.replace(str1[snot:(spoor+4)], 'good') \n",
    "        return str1 \n",
    "    else: \n",
    "        return str1 \n",
    "\n",
    "print(not_poor('The lyrics is not that poor!'))\n",
    "print(not_poor('The lyrics is poor!'))"
   ]
  },
  {
   "cell_type": "markdown",
   "metadata": {
    "colab_type": "text",
    "id": "m8pQ0cWWJ8EW"
   },
   "source": [
    "### Q5.Write the Python program to remove the characters which have odd index values of a given string."
   ]
  },
  {
   "cell_type": "code",
   "execution_count": 11,
   "metadata": {},
   "outputs": [
    {
     "name": "stdout",
     "output_type": "stream",
     "text": [
      "hrces\n"
     ]
    }
   ],
   "source": [
    "def rem_odd_char(str):\n",
    "    return \"\".join(str[index] for index in range(len(str)) if index%2 != 0 )\n",
    "\n",
    "#Example\n",
    "print(rem_odd_char('characters'))"
   ]
  },
  {
   "cell_type": "markdown",
   "metadata": {
    "colab_type": "text",
    "id": "852eD2iJMZJG"
   },
   "source": [
    "### Q6. Write the Python function to get a string made of 4 copies of the last two characters of the specified string (length must be at least 2).\n",
    "\n",
    "Sample functionandresult :\n",
    "\n",
    "insert-end('Python') -> abababab\n",
    "\n",
    "insert-end('Exercises') -> jkjkjkjk"
   ]
  },
  {
   "cell_type": "code",
   "execution_count": 14,
   "metadata": {},
   "outputs": [
    {
     "name": "stdout",
     "output_type": "stream",
     "text": [
      "onononon\n",
      "eseseses\n"
     ]
    }
   ],
   "source": [
    "def insert_end(str):\n",
    "    try:\n",
    "        if len(str)>=2:\n",
    "            return str[-2:]*4\n",
    "    except:\n",
    "        print('Enter a string of more than 2 characters')\n",
    "        \n",
    "#Examples\n",
    "print(insert_end('Python'))\n",
    "print(insert_end('Exercises'))"
   ]
  },
  {
   "cell_type": "markdown",
   "metadata": {
    "colab_type": "text",
    "id": "7UclKb1tO_uu"
   },
   "source": [
    "### Q7. Write the python function to get a string made of its first three characters of a specified string. If the length of the string is less than 3 then return the original string.\n",
    "\n",
    "Sample function and result :\n",
    "\n",
    "first-three('ipy') -> ipy\n",
    "\n",
    "first-three('python') -> pyt"
   ]
  },
  {
   "cell_type": "code",
   "execution_count": 15,
   "metadata": {},
   "outputs": [
    {
     "name": "stdout",
     "output_type": "stream",
     "text": [
      "ipy\n",
      "pyt\n"
     ]
    }
   ],
   "source": [
    "def first_three(str):\n",
    "    if len(str) >= 3:\n",
    "        return str[:3]\n",
    "    else:\n",
    "        return str\n",
    "\n",
    "print(first_three('ipy'))\n",
    "print(first_three('python'))"
   ]
  },
  {
   "cell_type": "markdown",
   "metadata": {
    "colab_type": "text",
    "id": "BnyB129JO_sw"
   },
   "source": [
    "### Q8. Write the python program to print the following floating numbers upto 2 decimal places?"
   ]
  },
  {
   "cell_type": "code",
   "execution_count": 16,
   "metadata": {},
   "outputs": [
    {
     "data": {
      "text/plain": [
       "3.15"
      ]
     },
     "execution_count": 16,
     "metadata": {},
     "output_type": "execute_result"
    }
   ],
   "source": [
    "# Function with rounding\n",
    "def two_decimals(number):\n",
    "    return float('{:.2f}'.format(number))\n",
    "\n",
    "#Example\n",
    "two_decimals(3.14576)"
   ]
  },
  {
   "cell_type": "code",
   "execution_count": 20,
   "metadata": {},
   "outputs": [
    {
     "data": {
      "text/plain": [
       "312.14"
      ]
     },
     "execution_count": 20,
     "metadata": {},
     "output_type": "execute_result"
    }
   ],
   "source": [
    "# Function without rounding\n",
    "def two_dec(number):\n",
    "    numbers = str(number)\n",
    "    dot_index = numbers.find('.')\n",
    "    two_decimals = numbers[:dot_index] + numbers[dot_index:dot_index+3]\n",
    "    return float(two_decimals)\n",
    "\n",
    "#Example\n",
    "two_dec(312.14576)"
   ]
  },
  {
   "cell_type": "markdown",
   "metadata": {
    "colab_type": "text",
    "id": "AC_Tb6oMRsHg"
   },
   "source": [
    "### Q9. Write the Python program to format a number with a percentage?"
   ]
  },
  {
   "cell_type": "code",
   "execution_count": 23,
   "metadata": {},
   "outputs": [
    {
     "name": "stdout",
     "output_type": "stream",
     "text": [
      "200%\n"
     ]
    }
   ],
   "source": [
    "def format_num(number):\n",
    "    return (f'{number}%')\n",
    "\n",
    "print(format_num(200))"
   ]
  },
  {
   "cell_type": "markdown",
   "metadata": {
    "colab_type": "text",
    "id": "Kab49GVGTDDb"
   },
   "source": [
    "#### Q10. Write thePython program to count occurrences of a substring in a String?"
   ]
  },
  {
   "cell_type": "code",
   "execution_count": 2,
   "metadata": {},
   "outputs": [
    {
     "name": "stdout",
     "output_type": "stream",
     "text": [
      "\n",
      "1\n",
      "\n"
     ]
    }
   ],
   "source": [
    "str1 = 'The quick brown fox jumps over the lazy dog.' \n",
    "print() \n",
    "print(str1.count(\"fox\")) \n",
    "print()"
   ]
  },
  {
   "cell_type": "markdown",
   "metadata": {
    "colab_type": "text",
    "id": "BwyzxCo9W7p_"
   },
   "source": [
    "### Q11. Write the Python program to count repeated characters in a string."
   ]
  },
  {
   "cell_type": "code",
   "execution_count": 3,
   "metadata": {},
   "outputs": [
    {
     "name": "stdout",
     "output_type": "stream",
     "text": [
      "o 4\n",
      "e 3\n",
      "t 2\n",
      "h 2\n",
      "u 2\n",
      "r 2\n"
     ]
    }
   ],
   "source": [
    "import collections \n",
    "str1 = 'thequickbrownfoxjumpsoverthelazydog' \n",
    "d = collections.defaultdict(int) \n",
    "for c in str1: \n",
    "    d[c] += 1\n",
    "for c in sorted(d, key=d.get, reverse=True): \n",
    "    if d[c] > 1: \n",
    "        print('%s %d' % (c, d[c]))"
   ]
  },
  {
   "cell_type": "markdown",
   "metadata": {
    "colab_type": "text",
    "id": "b0RrqFDalIDt"
   },
   "source": [
    "### Q12. Write the Python program to print the square and cube symbol in the area of a rectangle and volume of a cylinder?\n",
    "\n",
    "Sample output-\n",
    "\n",
    "The area of the rectangle is 1256.66 cm2\n",
    "\n",
    "The volume of the cylinder is 1254.725 cm3"
   ]
  },
  {
   "cell_type": "code",
   "execution_count": 24,
   "metadata": {},
   "outputs": [
    {
     "name": "stdout",
     "output_type": "stream",
     "text": [
      "The area of rectangle is 1256.66cm²\n",
      "The volume of cylinder is 1254.725cm³\n"
     ]
    }
   ],
   "source": [
    "def square(num):\n",
    "    print(f'The area of rectangle is {num}cm\\u00b2')\n",
    "    \n",
    "    \n",
    "def cube(num):\n",
    "    print(f'The volume of cylinder is {num}cm\\u00b3')\n",
    "    \n",
    "#Examples\n",
    "square(1256.66)\n",
    "cube(1254.725)"
   ]
  },
  {
   "cell_type": "markdown",
   "metadata": {
    "colab_type": "text",
    "id": "b7yQ0vm-m54K"
   },
   "source": [
    "### Q13. Write thePython program to check if a string contains all letters of the alphabet?"
   ]
  },
  {
   "cell_type": "code",
   "execution_count": 86,
   "metadata": {
    "colab": {
     "base_uri": "https://localhost:8080/",
     "height": 33
    },
    "colab_type": "code",
    "id": "YEnL5zdBm9RM",
    "outputId": "93b5f4fa-baa6-4726-8cc8-3d7636468fef"
   },
   "outputs": [
    {
     "name": "stdout",
     "output_type": "stream",
     "text": [
      "True\n",
      "False\n"
     ]
    }
   ],
   "source": [
    "def is_contains_allalphabets(str):\n",
    "    contains_all_apphabets = True\n",
    "    for char in 'ABCDEFGHIJKLMNOPQRSTUVWXYZ':\n",
    "        if char not in str.upper():\n",
    "            contains_all_apphabets = False\n",
    "            break\n",
    "    return contains_all_apphabets\n",
    "\n",
    "print(is_contains_allalphabets('abcdefghijklmnopqrstuvwxyz'))\n",
    "print(is_contains_allalphabets('abcdefghijklmnopqrstuvwxz'))"
   ]
  },
  {
   "cell_type": "markdown",
   "metadata": {
    "colab_type": "text",
    "id": "1D5-VJLtpAZ6"
   },
   "source": [
    "### Q14. Write the Python program to find the second most repeated word in a given string?"
   ]
  },
  {
   "cell_type": "code",
   "execution_count": 0,
   "metadata": {
    "colab": {
     "base_uri": "https://localhost:8080/",
     "height": 33
    },
    "colab_type": "code",
    "id": "Y9w2Hhy_pFIe",
    "outputId": "242ca984-ab33-4c6b-d1ba-d819c33939aa"
   },
   "outputs": [
    {
     "name": "stdout",
     "output_type": "stream",
     "text": [
      "('is', 2)\n"
     ]
    }
   ],
   "source": [
    "import collections\n",
    "\n",
    "_list_of_words = 'where there is a will thee is a way'.split()\n",
    "_dict_repeated_words = {}\n",
    "for i in range(len(_list_of_words)):\n",
    "    word = _list_of_words[i]\n",
    "    if word in _dict_repeated_words.keys():\n",
    "        _dict_repeated_words[word] = _dict_repeated_words[word] + 1\n",
    "    else:\n",
    "        _dict_repeated_words[word] = 1\n",
    "else:\n",
    "    _dict_repeated_words = sorted(_dict_repeated_words.items(), key=lambda kv: kv[1])\n",
    "    print(_dict_repeated_words[-2])"
   ]
  },
  {
   "cell_type": "markdown",
   "metadata": {
    "colab_type": "text",
    "id": "Fd4OhEqIuuJp"
   },
   "source": [
    "### Q15. Write the Python program to find the minimum window in the given string,which will contains all the characters of another given strings?\n",
    "\n",
    "Example 1\n",
    "\n",
    "Input : string1 = \" PRWSOERIUSFK \"\n",
    "\n",
    "string2 = \" OSU \"\n",
    "\n",
    "Output: Minimum window is \"OERIUS\""
   ]
  },
  {
   "cell_type": "code",
   "execution_count": 88,
   "metadata": {
    "colab": {},
    "colab_type": "code",
    "id": "NuXTIscnzuWc"
   },
   "outputs": [
    {
     "name": "stdout",
     "output_type": "stream",
     "text": [
      "Minimum window is OERIUS\n"
     ]
    }
   ],
   "source": [
    "import collections\n",
    "def min_window(str1, str2):\n",
    "    result_char, missing_char = collections.Counter(str2), len(str2)\n",
    "    i = p = q = 0\n",
    "    for j, c in enumerate(str1, 1):\n",
    "        missing_char -= result_char[c] > 0\n",
    "        result_char[c] -= 1\n",
    "        if not missing_char:\n",
    "            while i < q and result_char[str1[i]] < 0:\n",
    "                result_char[str1[i]] += 1\n",
    "                i += 1\n",
    "            if not q or j - i <= q - p:\n",
    "                p, q = i, j\n",
    "    return str1[p:q]\n",
    "           \n",
    "str1 = \"PRWSOERIUSFK\"\n",
    "str2 = \"OSU\"\n",
    "print(\"Minimum window is\", min_window(str1,str2))"
   ]
  },
  {
   "cell_type": "markdown",
   "metadata": {
    "colab_type": "text",
    "id": "MwgKAFjn3_Y6"
   },
   "source": [
    "### Q16. Write the Python program to find smallest window that contains all characters of the given string?\n",
    "\n",
    "Original Strings:\n",
    "\n",
    "asdaewsqgtwwsa\n",
    "\n",
    "Smallest window that contains all characters of the said string:\n",
    "\n",
    "Daewsqgt"
   ]
  },
  {
   "cell_type": "code",
   "execution_count": 90,
   "metadata": {
    "colab": {},
    "colab_type": "code",
    "id": "95BTmNFl4Td-"
   },
   "outputs": [
    {
     "name": "stdout",
     "output_type": "stream",
     "text": [
      "Original Strings:\n",
      " asdaewsqgtwwsa\n",
      "\n",
      "Smallest window that contains all characters of the said string:\n",
      "daewsqgt\n"
     ]
    }
   ],
   "source": [
    "from collections import defaultdict   \n",
    "\n",
    "def find_sub_string(str): \n",
    "    str_len = len(str) \n",
    "      \n",
    "    # Count all distinct characters. \n",
    "    dist_count_char = len(set([x for x in str])) \n",
    "  \n",
    "    ctr, start_pos, start_pos_index, min_len = 0, 0, -1, 9999999999\n",
    "    curr_count = defaultdict(lambda: 0) \n",
    "    for i in range(str_len): \n",
    "        curr_count[str[i]] += 1\n",
    " \n",
    "        if curr_count[str[i]] == 1: \n",
    "            ctr += 1\n",
    "  \n",
    "        if ctr == dist_count_char: \n",
    "            while curr_count[str[start_pos]] > 1: \n",
    "                if curr_count[str[start_pos]] > 1: \n",
    "                    curr_count[str[start_pos]] -= 1\n",
    "                start_pos += 1\n",
    "  \n",
    "            len_window = i - start_pos + 1\n",
    "            if min_len > len_window: \n",
    "                min_len = len_window \n",
    "                start_pos_index = start_pos \n",
    "    return str[start_pos_index: start_pos_index + min_len] \n",
    "      \n",
    "str1 = \"asdaewsqgtwwsa\"\n",
    "print(\"Original Strings:\\n\",str1)\n",
    "print(\"\\nSmallest window that contains all characters of the said string:\")\n",
    "print(find_sub_string(str1))"
   ]
  },
  {
   "cell_type": "markdown",
   "metadata": {
    "colab_type": "text",
    "id": "EOXj3Swf4UAM"
   },
   "source": [
    "### Q17. Write thePython program to count number of substrings from a given string of lowercase alphabets with exactly k distinct (given) characters?\n",
    "\n",
    "Input a string (lowercase alphabets): wolf\n",
    "\n",
    "Input k:4\n",
    "\n",
    "Number of substrings with exactly 4 distinct characters:1"
   ]
  },
  {
   "cell_type": "code",
   "execution_count": 4,
   "metadata": {},
   "outputs": [
    {
     "name": "stdout",
     "output_type": "stream",
     "text": [
      "Input a string (lowercase alphabets):wolf\n",
      "Input k: 4\n",
      "Number of substrings with exactly 4 distinct characters : 1\n"
     ]
    }
   ],
   "source": [
    "def count_k_dist(str1, k): \n",
    "    str_len = len(str1) \n",
    "    result = 0\n",
    "    ctr = [0] * 27\n",
    "    for i in range(0, str_len): \n",
    "        dist_ctr = 0\n",
    "        ctr = [0] * 27\n",
    "        for j in range(i, str_len): \n",
    "            if(ctr[ord(str1[j]) - 97] == 0): \n",
    "                dist_ctr += 1\n",
    "            ctr[ord(str1[j]) - 97] += 1\n",
    "            if(dist_ctr == k): \n",
    "                result += 1 \n",
    "            if(dist_ctr > k): \n",
    "                break\n",
    "    return result\n",
    "str1 = input(\"Input a string (lowercase alphabets):\") \n",
    "k = int(input(\"Input k: \"))\n",
    "\n",
    "print(\"Number of substrings with exactly\", k, \"distinct characters : \", end = \"\") \n",
    "print(count_k_dist(str1, k))"
   ]
  },
  {
   "cell_type": "markdown",
   "metadata": {
    "colab_type": "text",
    "id": "AjNf9ot86M4_"
   },
   "source": [
    "### Q18. Write thePython program to count number of non-empty substrings of the given string?\n",
    "\n",
    "Input a string:  w3resource\n",
    "\n",
    "Number of substrings:55"
   ]
  },
  {
   "cell_type": "code",
   "execution_count": 92,
   "metadata": {},
   "outputs": [
    {
     "name": "stdout",
     "output_type": "stream",
     "text": [
      "Input a string: w3resource\n",
      "Number of substrings:\n",
      "55\n"
     ]
    }
   ],
   "source": [
    "def number_of_substrings(str): \n",
    "    str_len = len(str) \n",
    "    return int(str_len * (str_len + 1) / 2) \n",
    "\n",
    "str1 = input(\"Input a string: \")\n",
    "print(\"Number of substrings:\") \n",
    "print(number_of_substrings(str1))"
   ]
  },
  {
   "cell_type": "markdown",
   "metadata": {
    "colab_type": "text",
    "id": "D5RiQYFL6YQC"
   },
   "source": [
    "### Q19.Write thePython program to count number of substrings with same first and last characters of thegiven string?"
   ]
  },
  {
   "cell_type": "code",
   "execution_count": 93,
   "metadata": {},
   "outputs": [
    {
     "name": "stdout",
     "output_type": "stream",
     "text": [
      "Input a string: vijay\n",
      "5\n"
     ]
    }
   ],
   "source": [
    "def no_of_substring_with_equalEnds(str1): \n",
    "    result = 0; \n",
    "    n = len(str1); \n",
    "    for i in range(n): \n",
    "        for j in range(i, n): \n",
    "            if (str1[i] == str1[j]): \n",
    "                result = result + 1\n",
    "    return result \n",
    "str1 = input(\"Input a string: \")\n",
    "print(no_of_substring_with_equalEnds(str1))"
   ]
  },
  {
   "cell_type": "markdown",
   "metadata": {
    "colab_type": "text",
    "id": "6cG4vGyM6baj"
   },
   "source": [
    "### Q20.Write thePython program to count the number of strings where the string length is 2 or more, and first and last character are same from a given list of strings."
   ]
  },
  {
   "cell_type": "code",
   "execution_count": 1,
   "metadata": {},
   "outputs": [
    {
     "name": "stdout",
     "output_type": "stream",
     "text": [
      "2\n"
     ]
    }
   ],
   "source": [
    "def count_str(word_list):\n",
    "    _ = [word for word in word_list if len(word)>=2 and word[0] == word[-1]]\n",
    "    return len(_)\n",
    "\n",
    "#examples\n",
    "ex_list = ['abc', 'xyz', 'wxw', '1331']\n",
    "print(count_str(ex_list))"
   ]
  },
  {
   "cell_type": "markdown",
   "metadata": {
    "colab_type": "text",
    "id": "KFhT0xj_8dzj"
   },
   "source": [
    "### Q21.Write the Python program to get a list, sorted in increasing orderby the last element in each tuple from the given list of non-empty tuples?\n",
    "\n",
    "Sample List -[(2, 5), (1, 2), (4, 4), (2, 3), (2, 1)]\n",
    "\n",
    "Expected Result -[(2, 1), (1, 2), (2, 3), (4, 4), (2, 5)]\n"
   ]
  },
  {
   "cell_type": "code",
   "execution_count": 0,
   "metadata": {
    "colab": {
     "base_uri": "https://localhost:8080/",
     "height": 33
    },
    "colab_type": "code",
    "id": "VASdCK4P8zUY",
    "outputId": "a80a9d6b-5d09-4673-c054-36412de78390"
   },
   "outputs": [
    {
     "name": "stdout",
     "output_type": "stream",
     "text": [
      "[(2, 1), (1, 2), (2, 3), (4, 4), (2, 5)]\n"
     ]
    }
   ],
   "source": [
    "from collections import defaultdict\n",
    "_dict = defaultdict(list)\n",
    "_list_of_tuples = [(2, 5), (1, 2), (4, 4), (2, 3), (2, 1)]\n",
    "\n",
    "for tpl in _list_of_tuples:\n",
    "    _dict[tpl[1]] = tpl\n",
    "else:\n",
    "    _sorted_dict = sorted(_dict.items(), key=lambda kv: kv[0])\n",
    "    _sorted_dict = collections.OrderedDict(_sorted_dict)\n",
    "    print([value for value in _sorted_dict.values()])\n"
   ]
  },
  {
   "cell_type": "markdown",
   "metadata": {
    "colab_type": "text",
    "id": "NVDAIIrqAea5"
   },
   "source": [
    "### Q22. Write thePython program to remove duplicates from a list?"
   ]
  },
  {
   "cell_type": "code",
   "execution_count": 3,
   "metadata": {},
   "outputs": [
    {
     "name": "stdout",
     "output_type": "stream",
     "text": [
      "[10, 20, 30, 50, 60, 40, 80]\n"
     ]
    }
   ],
   "source": [
    "def rem_duplicate(list):\n",
    "    unique_no = []\n",
    "    for num in list:\n",
    "        if num not in unique_no:\n",
    "            unique_no.append(num)\n",
    "    return unique_no\n",
    "\n",
    "#example\n",
    "ex_list = [10,20,30,20,10,50,60,40,80,50,40]\n",
    "unique_nums = rem_duplicate(ex_list)\n",
    "print(unique_nums)"
   ]
  },
  {
   "cell_type": "markdown",
   "metadata": {
    "colab_type": "text",
    "id": "KN96bivPB6fH"
   },
   "source": [
    "### Q23. Write the Python program to find the list of words that are longer than n from a given list of words?"
   ]
  },
  {
   "cell_type": "code",
   "execution_count": 0,
   "metadata": {
    "colab": {
     "base_uri": "https://localhost:8080/",
     "height": 33
    },
    "colab_type": "code",
    "id": "j1fQ6xUDCqem",
    "outputId": "237a9788-97bb-44d4-b520-51a19b7a3690"
   },
   "outputs": [
    {
     "data": {
      "text/plain": [
       "['Artificial Intelligence', 'Neural Networks']"
      ]
     },
     "execution_count": 218,
     "metadata": {
      "tags": []
     },
     "output_type": "execute_result"
    }
   ],
   "source": [
    "def filter_long_words(seq, n):\n",
    "    return [word for word in seq if len(word) > n ]\n",
    "\n",
    "words = ['Artificial Intelligence','Deep Learning', 'Neural Networks', 'Data Mining', 'Data Labeling']\n",
    "filter_long_words(words, 14)"
   ]
  },
  {
   "cell_type": "markdown",
   "metadata": {
    "colab_type": "text",
    "id": "fYgW7e8DDASe"
   },
   "source": [
    "### Q24. Write the Python program to print a specified list after removing the0th, 4th,and 5th elements?\n",
    "\n",
    "Sample List -['Red', 'Green', 'White', 'Black', 'Pink', 'Yellow']\n",
    "\n",
    "Expected Output -['Green', 'White', 'Black']\n"
   ]
  },
  {
   "cell_type": "code",
   "execution_count": 5,
   "metadata": {},
   "outputs": [
    {
     "name": "stdout",
     "output_type": "stream",
     "text": [
      "['Green', 'White', 'Black']\n"
     ]
    }
   ],
   "source": [
    "color = ['Red', 'Green', 'White', 'Black', 'Pink', 'Yellow'] \n",
    "color = [x for (i,x) in enumerate(color) if i not in (0,4,5)] \n",
    "print(color)"
   ]
  },
  {
   "cell_type": "markdown",
   "metadata": {
    "colab_type": "text",
    "id": "EuhowLJyEZPC"
   },
   "source": [
    "### Q25. Write the Python program to generate all permutations of a list in Python?"
   ]
  },
  {
   "cell_type": "code",
   "execution_count": 6,
   "metadata": {},
   "outputs": [
    {
     "name": "stdout",
     "output_type": "stream",
     "text": [
      "[(1, 2, 3), (1, 3, 2), (2, 1, 3), (2, 3, 1), (3, 1, 2), (3, 2, 1)]\n"
     ]
    }
   ],
   "source": [
    "import itertools \n",
    "print(list(itertools.permutations([1,2,3])))"
   ]
  },
  {
   "cell_type": "markdown",
   "metadata": {
    "colab_type": "text",
    "id": "RwtUSKtrHUYs"
   },
   "source": [
    "## Q26. Write the Python program to convert a pair of values into a sorted unique array?"
   ]
  },
  {
   "cell_type": "code",
   "execution_count": 7,
   "metadata": {},
   "outputs": [
    {
     "name": "stdout",
     "output_type": "stream",
     "text": [
      "Original List:  [(1, 2), (3, 4), (1, 2), (5, 6), (7, 8), (1, 2), (3, 4), (3, 4), (7, 8), (9, 10)]\n",
      "Sorted Unique Data: [1, 2, 3, 4, 5, 6, 7, 8, 9, 10]\n"
     ]
    }
   ],
   "source": [
    "L = [(1, 2), (3, 4), (1, 2), (5, 6), (7, 8), (1, 2), (3, 4), (3, 4), (7, 8), (9, 10)] \n",
    "print(\"Original List: \", L) \n",
    "print(\"Sorted Unique Data:\",sorted(set().union(*L)))"
   ]
  },
  {
   "cell_type": "markdown",
   "metadata": {
    "colab_type": "text",
    "id": "J-Vabm9gI8d9"
   },
   "source": [
    "### Q27. Write the Python class to convert an integer to a roman numeral?"
   ]
  },
  {
   "cell_type": "code",
   "execution_count": 4,
   "metadata": {},
   "outputs": [],
   "source": [
    "class num_to_rom():\n",
    "    def __init__(self,number):\n",
    "        self.num = number\n",
    "        \n",
    "    \n",
    "    #https://stackoverflow.com/questions/28777219/basic-program-to-convert-integer-to-roman-numerals/28777781\n",
    "    def num2roman(self):\n",
    "        roman = ''\n",
    "        \n",
    "        num_map = [(1000, 'M'), (900, 'CM'), (500, 'D'), (400, 'CD'), (100, 'C'), (90, 'XC'),\n",
    "           (50, 'L'), (40, 'XL'), (10, 'X'), (9, 'IX'), (5, 'V'), (4, 'IV'), (1, 'I')]\n",
    "\n",
    "        while self.num > 0:\n",
    "            for i, r in num_map:\n",
    "                while self.num >= i:\n",
    "                    roman += r\n",
    "                    self.num -= i\n",
    "\n",
    "        return roman\n",
    "    \n",
    "    "
   ]
  },
  {
   "cell_type": "code",
   "execution_count": 5,
   "metadata": {},
   "outputs": [
    {
     "name": "stdout",
     "output_type": "stream",
     "text": [
      "CCCLXIX\n"
     ]
    }
   ],
   "source": [
    "ex_num = num_to_rom(369)\n",
    "print(ex_num.num2roman())"
   ]
  },
  {
   "cell_type": "code",
   "execution_count": 8,
   "metadata": {},
   "outputs": [],
   "source": [
    "class num_to_rom():\n",
    "    def __init__(self):\n",
    "        pass\n",
    "        \n",
    "    \n",
    "    #https://stackoverflow.com/questions/28777219/basic-program-to-convert-integer-to-roman-numerals/28777781\n",
    "    def num2roman(self,num):\n",
    "        roman = ''\n",
    "        \n",
    "        num_map = [(1000, 'M'), (900, 'CM'), (500, 'D'), (400, 'CD'), (100, 'C'), (90, 'XC'),\n",
    "           (50, 'L'), (40, 'XL'), (10, 'X'), (9, 'IX'), (5, 'V'), (4, 'IV'), (1, 'I')]\n",
    "\n",
    "        while num > 0:\n",
    "            for i, r in num_map:\n",
    "                while num >= i:\n",
    "                    roman += r\n",
    "                    num -= i\n",
    "\n",
    "        return roman"
   ]
  },
  {
   "cell_type": "code",
   "execution_count": 9,
   "metadata": {},
   "outputs": [
    {
     "name": "stdout",
     "output_type": "stream",
     "text": [
      "CCCLXIX\n"
     ]
    }
   ],
   "source": [
    "ex_num = num_to_rom()\n",
    "print(ex_num.num2roman(369))"
   ]
  },
  {
   "cell_type": "markdown",
   "metadata": {
    "colab_type": "text",
    "id": "lkg4v_UePT65"
   },
   "source": [
    "### Q28 Write the Python class to convert a Roman numeral to an integer?"
   ]
  },
  {
   "cell_type": "code",
   "execution_count": 8,
   "metadata": {},
   "outputs": [
    {
     "name": "stdout",
     "output_type": "stream",
     "text": [
      "3986\n",
      "4000\n",
      "100\n"
     ]
    }
   ],
   "source": [
    "class py_solution: \n",
    "    def roman_to_int(self, s): \n",
    "        rom_val = {'I': 1, 'V': 5, 'X': 10, 'L': 50, 'C': 100, 'D': 500, 'M': 1000}\n",
    "\n",
    "        int_val = 0 \n",
    "        for i in range(len(s)): \n",
    "            if i > 0 and rom_val[s[i]] > rom_val[s[i - 1]]: \n",
    "                int_val += rom_val[s[i]] - 2 * rom_val[s[i - 1]] \n",
    "            else: \n",
    "                int_val += rom_val[s[i]] \n",
    "        return int_val\n",
    "print(py_solution().roman_to_int('MMMCMLXXXVI')) \n",
    "print(py_solution().roman_to_int('MMMM')) \n",
    "print(py_solution().roman_to_int('C'))"
   ]
  },
  {
   "cell_type": "code",
   "execution_count": 7,
   "metadata": {},
   "outputs": [],
   "source": [
    "def roman_to_int(roman, values={'M': 1000, 'D': 500, 'C': 100, 'L': 50, \n",
    "                                'X': 10, 'V': 5, 'I': 1}):\n",
    "    \"\"\"Convert from Roman numerals to an integer.\"\"\"\n",
    "    numbers = []\n",
    "    for char in roman:\n",
    "        numbers.append(values[char]) \n",
    "    total = 0\n",
    "    for num1, num2 in zip(numbers, numbers[1:]):\n",
    "        if num1 >= num2:\n",
    "            total += num1\n",
    "        else:\n",
    "            total -= num1\n",
    "    return total + num2"
   ]
  },
  {
   "cell_type": "code",
   "execution_count": 8,
   "metadata": {},
   "outputs": [
    {
     "data": {
      "text/plain": [
       "1900"
      ]
     },
     "execution_count": 8,
     "metadata": {},
     "output_type": "execute_result"
    }
   ],
   "source": [
    "roman_to_int(\"MCM\")"
   ]
  },
  {
   "cell_type": "markdown",
   "metadata": {
    "colab_type": "text",
    "id": "MSWE3mDKU6pZ"
   },
   "source": [
    "### Q29. Write the Python class to find the validity of the string of the parentheses, '(', ')', '{', '}', '[' and '] and the brackets must be closed in the correct order, example -\"()\" and \"()[]{}\" are valid but \"[)\",\"({[)]\" and \"{{{\"are invalid"
   ]
  },
  {
   "cell_type": "code",
   "execution_count": 9,
   "metadata": {},
   "outputs": [
    {
     "name": "stdout",
     "output_type": "stream",
     "text": [
      "True\n",
      "False\n",
      "True\n"
     ]
    }
   ],
   "source": [
    "class py_solution: \n",
    "    def is_valid_parenthese(self, str1): \n",
    "        stack, pchar = [], {\"(\": \")\", \"{\": \"}\", \"[\": \"]\"} \n",
    "        for parenthese in str1: \n",
    "            if parenthese in pchar: \n",
    "                stack.append(parenthese) \n",
    "            elif len(stack) == 0 or pchar[stack.pop()] != parenthese: \n",
    "                return False \n",
    "        return len(stack) == 0\n",
    "\n",
    "print(py_solution().is_valid_parenthese(\"(){}[]\")) \n",
    "print(py_solution().is_valid_parenthese(\"()[{)}\")) \n",
    "print(py_solution().is_valid_parenthese(\"()\"))"
   ]
  },
  {
   "cell_type": "markdown",
   "metadata": {
    "colab_type": "text",
    "id": "6gwvVqj8nVNy"
   },
   "source": [
    "### Q30. Write thePython class to get all possible unique subsets from a set of distinct integers?\n",
    "\n",
    "Input -[4, 5, 6]\n",
    "\n",
    "Output -[[], [6], [5], [5, 6], [4], [4, 6], [4, 5], [4, 5, 6]]"
   ]
  },
  {
   "cell_type": "code",
   "execution_count": 10,
   "metadata": {},
   "outputs": [
    {
     "name": "stdout",
     "output_type": "stream",
     "text": [
      "[[], [6], [5], [5, 6], [4], [4, 6], [4, 5], [4, 5, 6]]\n"
     ]
    }
   ],
   "source": [
    "class py_solution: \n",
    "    def sub_sets(self, sset): \n",
    "        return self.subsetsRecur([], sorted(sset))\n",
    "    def subsetsRecur(self, current, sset): \n",
    "        if sset: \n",
    "            return self.subsetsRecur(current, sset[1:]) + self.subsetsRecur(current + [sset[0]], sset[1:]) \n",
    "        return [current]\n",
    "\n",
    "print(py_solution().sub_sets([4,5,6]))"
   ]
  },
  {
   "cell_type": "markdown",
   "metadata": {
    "colab_type": "text",
    "id": "fihNK9_x0HCr"
   },
   "source": [
    "### Q31. Write the Python class to find a pair of elements (indices of the two numbers) from a given array whose sum equals the specific target number?\n",
    "\n",
    "Input: numbers-[10,20,10,40,50,60,70], target=50\n",
    "\n",
    "Output-3, 4"
   ]
  },
  {
   "cell_type": "code",
   "execution_count": 11,
   "metadata": {
    "colab": {
     "base_uri": "https://localhost:8080/",
     "height": 34
    },
    "colab_type": "code",
    "id": "nrKNUg1KVn2j",
    "outputId": "4c14563d-601a-4f37-a4ce-42b896729a35"
   },
   "outputs": [
    {
     "name": "stdout",
     "output_type": "stream",
     "text": [
      "index1=2, index2=3\n"
     ]
    }
   ],
   "source": [
    "class py_solution: \n",
    "    def twoSum(self, nums, target): \n",
    "        lookup = {} \n",
    "        for i, num in enumerate(nums): \n",
    "            if target - num in lookup: \n",
    "                return (lookup[target - num], i ) \n",
    "            lookup[num] = i \n",
    "            \n",
    "print(\"index1=%d, index2=%d\" % py_solution().twoSum((10,20,10,40,50,60,70),50))"
   ]
  },
  {
   "cell_type": "markdown",
   "metadata": {
    "colab_type": "text",
    "id": "SIUDP1_DYDVg"
   },
   "source": [
    "### Q32. Write the Python class to find the three elements that sum to zero from the set of n real numbers?\n",
    "\n",
    "Input array-[-25, -10, -7, -3, 2, 4, 8, 10]\n",
    "\n",
    "Output -[[-10, 2, 8], [-7, -3, 10]]"
   ]
  },
  {
   "cell_type": "code",
   "execution_count": 12,
   "metadata": {},
   "outputs": [
    {
     "name": "stdout",
     "output_type": "stream",
     "text": [
      "[[-10, 2, 8], [-7, -3, 10]]\n"
     ]
    }
   ],
   "source": [
    "class py_solution: \n",
    "    def threeSum(self, nums): \n",
    "        nums, result, i = sorted(nums), [], 0 \n",
    "        while i < len(nums) - 2: \n",
    "            j, k = i + 1, len(nums) - 1 \n",
    "            while j < k: \n",
    "                if nums[i] + nums[j] + nums[k] < 0: \n",
    "                    j += 1 \n",
    "                elif nums[i] + nums[j] + nums[k] > 0:\n",
    "                    k -= 1 \n",
    "                else: \n",
    "                    result.append([nums[i], nums[j], nums[k]]) \n",
    "                    j, k = j + 1, k - 1 \n",
    "                    while j < k and nums[j] == nums[j - 1]: \n",
    "                        j += 1 \n",
    "                    while j < k and nums[k] == nums[k + 1]: \n",
    "                        k -= 1 \n",
    "            i += 1 \n",
    "            while i < len(nums) - 2 and nums[i] == nums[i - 1]: \n",
    "                i += 1 \n",
    "        return result    \n",
    "    \n",
    "print(py_solution().threeSum([-25, -10, -7, -3, 2, 4, 8, 10]))"
   ]
  },
  {
   "cell_type": "markdown",
   "metadata": {
    "colab_type": "text",
    "id": "L5itbE6btz0S"
   },
   "source": [
    "#### Q33. Write the Python class to implement pow(x, n)?"
   ]
  },
  {
   "cell_type": "code",
   "execution_count": 13,
   "metadata": {
    "colab": {
     "base_uri": "https://localhost:8080/",
     "height": 34
    },
    "colab_type": "code",
    "id": "D7ZxBk6Juj4w",
    "outputId": "f8b2a581-4755-4537-c25d-4769080f056e"
   },
   "outputs": [
    {
     "data": {
      "text/plain": [
       "27"
      ]
     },
     "execution_count": 13,
     "metadata": {},
     "output_type": "execute_result"
    }
   ],
   "source": [
    "class Power:\n",
    "    def __init__(self):\n",
    "        pass\n",
    "    \n",
    "    def of(self, x, n):\n",
    "        return x**n\n",
    "      \n",
    "\n",
    "power = Power()\n",
    "power.of(3,3)"
   ]
  },
  {
   "cell_type": "markdown",
   "metadata": {
    "colab_type": "text",
    "id": "zYIdnf9xvP_4"
   },
   "source": [
    "#### Q34. Write the Python class which has two methods get_String and print_String. get_String accept thestring from the user and print_String print the string in upper case."
   ]
  },
  {
   "cell_type": "code",
   "execution_count": 1,
   "metadata": {},
   "outputs": [
    {
     "name": "stdout",
     "output_type": "stream",
     "text": [
      "I will win\n",
      "I WILL WIN\n"
     ]
    }
   ],
   "source": [
    "class IOString(): \n",
    "    def __init__(self): \n",
    "        self.str1 = \"\"\n",
    "    def get_String(self): \n",
    "        self.str1 = input()\n",
    "    def print_String(self): print(self.str1.upper())\n",
    "str1 = IOString() \n",
    "str1.get_String()  \n",
    "str1.print_String()"
   ]
  },
  {
   "cell_type": "markdown",
   "metadata": {
    "colab_type": "text",
    "id": "b18nzGsEwv4k"
   },
   "source": [
    "#### Q35. Write the Python class named Rectangle constructed by a length and width and themethod which will compute the area of the rectangle?"
   ]
  },
  {
   "cell_type": "code",
   "execution_count": 2,
   "metadata": {},
   "outputs": [
    {
     "name": "stdout",
     "output_type": "stream",
     "text": [
      "Area of Rectangle is 2000\n"
     ]
    }
   ],
   "source": [
    "class Rectangle:\n",
    "    def __init__(self, length, width):\n",
    "        self.length = length\n",
    "        self.width = width\n",
    "\n",
    "    def area(self):\n",
    "        return self.length * self.width\n",
    "\n",
    "rectangle = Rectangle(40,50)\n",
    "print( 'Area of Rectangle is', rectangle.area() )"
   ]
  },
  {
   "cell_type": "markdown",
   "metadata": {
    "colab_type": "text",
    "id": "o0SQn16qx7o0"
   },
   "source": [
    "### Q36. Write the Python class named Circle constructed by the radius and two methods which will compute the area and perimeter of the circle?"
   ]
  },
  {
   "cell_type": "code",
   "execution_count": 0,
   "metadata": {
    "colab": {
     "base_uri": "https://localhost:8080/",
     "height": 51
    },
    "colab_type": "code",
    "id": "fekpTasNyEC1",
    "outputId": "57f9fdea-798c-4d80-ed70-82bda6c5b652"
   },
   "outputs": [
    {
     "name": "stdout",
     "output_type": "stream",
     "text": [
      "Area = 430.10837999999995\n",
      "Perimeter = 73.52279999999999\n"
     ]
    }
   ],
   "source": [
    "class Circle:\n",
    "    def __init__(self, radius):\n",
    "        self.radius = radius\n",
    "\n",
    "    def area(self):\n",
    "        return 3.142 * (self.radius * self.radius)\n",
    "\n",
    "    def perimeter(self):\n",
    "        return 2 * 3.142 * self.radius\n",
    "\n",
    "circle = Circle(11.7)\n",
    "print( 'Area =', circle.area())\n",
    "print( 'Perimeter =', circle.perimeter())\n"
   ]
  },
  {
   "cell_type": "markdown",
   "metadata": {
    "colab_type": "text",
    "id": "AIduB7dq0D5R"
   },
   "source": [
    "### Q37. Write the Python program to get the class name of an instance in Python?"
   ]
  },
  {
   "cell_type": "code",
   "execution_count": 0,
   "metadata": {
    "colab": {
     "base_uri": "https://localhost:8080/",
     "height": 34
    },
    "colab_type": "code",
    "id": "gaXYn4Rb0Wr8",
    "outputId": "4e1e06f5-a6a9-4573-cd82-dbd188fb90e8"
   },
   "outputs": [
    {
     "name": "stdout",
     "output_type": "stream",
     "text": [
      "Circle\n"
     ]
    }
   ],
   "source": [
    "class Circle:\n",
    "    def __init__(self, radius):\n",
    "        self.radius = radius\n",
    "\n",
    "    def area(self):\n",
    "        return 3.142 * (self.radius * self.radius)\n",
    "\n",
    "    def perimeter(self):\n",
    "        return 2 * 3.142 * self.radius\n",
    "\n",
    "circle = Circle(11.7)\n",
    "print(type(circle).__name__)"
   ]
  },
  {
   "cell_type": "markdown",
   "metadata": {
    "colab_type": "text",
    "id": "Fv48HNAU1ttP"
   },
   "source": [
    "#### Q38. Write thePython program to count the number of students of individual class?"
   ]
  },
  {
   "cell_type": "code",
   "execution_count": 0,
   "metadata": {
    "colab": {
     "base_uri": "https://localhost:8080/",
     "height": 34
    },
    "colab_type": "code",
    "id": "SAso4uz-2dxb",
    "outputId": "e91d5e79-6edd-41b2-cc32-b46229133e2b"
   },
   "outputs": [
    {
     "name": "stdout",
     "output_type": "stream",
     "text": [
      "Counter({'VI': 3, 'V': 2, 'VII': 1})\n"
     ]
    }
   ],
   "source": [
    "from collections import Counter\n",
    "classes = (\n",
    "    ('V', 1),\n",
    "    ('VI', 1),\n",
    "    ('V', 2),\n",
    "    ('VI', 2),\n",
    "    ('VI', 3),\n",
    "    ('VII', 1),\n",
    ")\n",
    "students = Counter(class_name for class_name, no_students in classes)\n",
    "print(students)"
   ]
  },
  {
   "cell_type": "markdown",
   "metadata": {
    "colab_type": "text",
    "id": "2RRn23743DRx"
   },
   "source": [
    "### Q39. Write thePython program to create an instance of an OrderedDict using thegiven dictionary andsort dictionary during the creation and printmembers of the dictionary in reverse order?"
   ]
  },
  {
   "cell_type": "code",
   "execution_count": 0,
   "metadata": {
    "colab": {
     "base_uri": "https://localhost:8080/",
     "height": 238
    },
    "colab_type": "code",
    "id": "7YWE1zxh3ZbA",
    "outputId": "33a4a301-fb80-486b-c9c2-b98a1a2ee4c2"
   },
   "outputs": [
    {
     "name": "stdout",
     "output_type": "stream",
     "text": [
      "Afghanistan 93\n",
      "Albania 355\n",
      "Algeria 213\n",
      "Andorra 376\n",
      "Angola 244\n",
      "\n",
      "In reverse order\n",
      "\n",
      "Angola 244\n",
      "Andorra 376\n",
      "Algeria 213\n",
      "Albania 355\n",
      "Afghanistan 93\n"
     ]
    }
   ],
   "source": [
    "from collections import OrderedDict\n",
    "dict = OrderedDict({'Afghanistan': 93, 'Albania': 355, 'Algeria': 213, 'Andorra': 376, 'Angola': 244})\n",
    "\n",
    "for key, value in dict.items():\n",
    "    print(key, value)\n",
    "\n",
    "print('\\nIn reverse order\\n')\n",
    "for key in reversed(dict):\n",
    "    print(key, dict[key])"
   ]
  },
  {
   "cell_type": "markdown",
   "metadata": {
    "colab_type": "text",
    "id": "A7rjygTw8ewL"
   },
   "source": [
    "### Q40. Write thePython program to compare two unordered lists (not sets)?"
   ]
  },
  {
   "cell_type": "code",
   "execution_count": 0,
   "metadata": {
    "colab": {
     "base_uri": "https://localhost:8080/",
     "height": 34
    },
    "colab_type": "code",
    "id": "BCjTemkQ8hJw",
    "outputId": "8a4c0223-1fe5-40f9-982a-5c85a09883a9"
   },
   "outputs": [
    {
     "name": "stdout",
     "output_type": "stream",
     "text": [
      "False\n"
     ]
    }
   ],
   "source": [
    "from collections import Counter\n",
    "\n",
    "def comparelist(list1, list2):\n",
    "    return Counter(list1) == Counter(list2)\n",
    "\n",
    "print(comparelist([1,2,3], [1,3,4]))"
   ]
  },
  {
   "cell_type": "markdown",
   "metadata": {
    "colab_type": "text",
    "id": "TUMDcIoC9mR2"
   },
   "source": [
    "### Q41. Write thePython program to get an array buffer information?"
   ]
  },
  {
   "cell_type": "code",
   "execution_count": 0,
   "metadata": {
    "colab": {
     "base_uri": "https://localhost:8080/",
     "height": 50
    },
    "colab_type": "code",
    "id": "odQpyBWgXqQD",
    "outputId": "4a1cef1b-b594-4970-86aa-cc296f795e11"
   },
   "outputs": [
    {
     "name": "stdout",
     "output_type": "stream",
     "text": [
      "Array buffer start address in memory and number of elements.\n",
      " (140312645457528, 2)\n"
     ]
    }
   ],
   "source": [
    "from array import array\n",
    "arr = array(\"I\", (1,2))\n",
    "print('Array buffer start address in memory and number of elements.\\n',arr.buffer_info())"
   ]
  },
  {
   "cell_type": "markdown",
   "metadata": {
    "colab_type": "text",
    "id": "4eZpoUeHcaLy"
   },
   "source": [
    "### Q42. Write thePython program to convert an array to an array of machine values and return thebytes representation?"
   ]
  },
  {
   "cell_type": "code",
   "execution_count": 3,
   "metadata": {
    "colab": {
     "base_uri": "https://localhost:8080/",
     "height": 100
    },
    "colab_type": "code",
    "id": "DhR07y0QcdWD",
    "outputId": "90faa850-971f-464d-99e2-963d3a194287"
   },
   "outputs": [
    {
     "name": "stdout",
     "output_type": "stream",
     "text": [
      "Array buffer start address in memory and number of elements.\n",
      "(28729136416, 2)\n"
     ]
    }
   ],
   "source": [
    "from array import array \n",
    "a = array(\"I\", (12,25)) \n",
    "print(\"Array buffer start address in memory and number of elements.\") \n",
    "print(a.buffer_info())"
   ]
  },
  {
   "cell_type": "markdown",
   "metadata": {
    "colab_type": "text",
    "id": "6vlTYmlIsDFp"
   },
   "source": [
    "### Q43. Write thePython program to read a string and interpreting the string as an array of machine values?"
   ]
  },
  {
   "cell_type": "code",
   "execution_count": 4,
   "metadata": {
    "colab": {
     "base_uri": "https://localhost:8080/",
     "height": 67
    },
    "colab_type": "code",
    "id": "gYuDLuq5sFF1",
    "outputId": "8d88df7c-8007-46bd-ea98-681e66ee7db2"
   },
   "outputs": [
    {
     "name": "stdout",
     "output_type": "stream",
     "text": [
      "Original array:\n",
      "A1: array('i', [1, 2, 3, 4, 5, 6])\n",
      "Array of bytes: b'010000000200000003000000040000000500000006000000'\n"
     ]
    }
   ],
   "source": [
    "import array \n",
    "import binascii \n",
    "a = array.array('i', [1,2,3,4,5,6]) \n",
    "print(\"Original array:\") \n",
    "print('A1:', a) \n",
    "bytes_array = a.tobytes() \n",
    "print('Array of bytes:', binascii.hexlify(bytes_array))"
   ]
  },
  {
   "cell_type": "markdown",
   "metadata": {
    "colab_type": "text",
    "id": "9Q4AvLJas9_o"
   },
   "source": [
    "### Q44. Write the Python program to push three items into the heap and return the smallest item from the heap. Also, return and popthe smallest item from the heap?"
   ]
  },
  {
   "cell_type": "code",
   "execution_count": 0,
   "metadata": {
    "colab": {
     "base_uri": "https://localhost:8080/",
     "height": 217
    },
    "colab_type": "code",
    "id": "kLD7Syvltafq",
    "outputId": "f5733a76-007a-4799-e988-ccc5de8bfa2e"
   },
   "outputs": [
    {
     "name": "stdout",
     "output_type": "stream",
     "text": [
      "Items in the heap-\n",
      "('VI', 1)\n",
      "('VII', 2)\n",
      "('VIII', 3)\n",
      "-----------------\n",
      "The smallest item in the heap:\n",
      "[('VI', 1)]\n",
      "-----------------\n",
      "\n",
      "Pop the smallest item in the heap:\n",
      "('VII', 2)\n",
      "('VIII', 3)\n"
     ]
    }
   ],
   "source": [
    "import heapq\n",
    "\n",
    "heap = []\n",
    "heapq.heappush(heap, ('VI', 1))\n",
    "heapq.heappush(heap, ('VII', 2))\n",
    "heapq.heappush(heap, ('VIII' ,3))\n",
    "print('Items in the heap-')\n",
    "for item in heap:\n",
    "    print(item)\n",
    "print('-----------------')\n",
    "\n",
    "print('The smallest item in the heap:')\n",
    "print(heapq.nsmallest(1, heap)) \n",
    "\n",
    "print('-----------------\\n')\n",
    "print('Pop the smallest item in the heap:')\n",
    "heapq.heappop(heap)\n",
    "\n",
    "for item in heap:\n",
    "    print(item)"
   ]
  },
  {
   "cell_type": "markdown",
   "metadata": {
    "colab_type": "text",
    "id": "-GfgqEU9wrkX"
   },
   "source": [
    "### Q45. Write the Python program to locate the left insertion point for a specified value in sorted order?"
   ]
  },
  {
   "cell_type": "code",
   "execution_count": 0,
   "metadata": {
    "colab": {
     "base_uri": "https://localhost:8080/",
     "height": 50
    },
    "colab_type": "code",
    "id": "oUk7HF8mwtyj",
    "outputId": "a8bc1ed5-ccf2-4957-d8bc-b0baeba7c6a4"
   },
   "outputs": [
    {
     "name": "stdout",
     "output_type": "stream",
     "text": [
      "4\n",
      "2\n"
     ]
    }
   ],
   "source": [
    "import bisect\n",
    "def index(a, x):\n",
    "    i = bisect.bisect_left(a, x)\n",
    "    return i\n",
    "    \n",
    "a = [1,2,4,5]\n",
    "print(index(a, 6))\n",
    "print(index(a, 3))"
   ]
  },
  {
   "cell_type": "markdown",
   "metadata": {
    "colab_type": "text",
    "id": "GSOgVg8yxkf1"
   },
   "source": [
    "### Q46. Write thePython program to create theFIFO queue?"
   ]
  },
  {
   "cell_type": "code",
   "execution_count": 0,
   "metadata": {
    "colab": {
     "base_uri": "https://localhost:8080/",
     "height": 33
    },
    "colab_type": "code",
    "id": "ig4GaQgDx57F",
    "outputId": "79df9569-8a2e-40e1-8ad5-0969321fe09f"
   },
   "outputs": [
    {
     "name": "stdout",
     "output_type": "stream",
     "text": [
      "0 1 2 3 "
     ]
    }
   ],
   "source": [
    "import queue\n",
    "\n",
    "q = queue.Queue()\n",
    "q.put(0)\n",
    "q.put(1)\n",
    "q.put(2)\n",
    "q.put(3)\n",
    "\n",
    "while not q.empty():\n",
    "    print(q.get(), end=\" \")\n"
   ]
  },
  {
   "cell_type": "markdown",
   "metadata": {
    "colab_type": "text",
    "id": "4bcWnk_byqgx"
   },
   "source": [
    "### Q47. Write the Python program to calculate the harmonic sum of n-1.Note: The harmonic sum is the sum of reciprocals of the positive Integers?"
   ]
  },
  {
   "cell_type": "code",
   "execution_count": 0,
   "metadata": {
    "colab": {
     "base_uri": "https://localhost:8080/",
     "height": 33
    },
    "colab_type": "code",
    "id": "JgZjMFoVzL13",
    "outputId": "2e2dd353-d1fe-4a03-9a6e-ffbf050c2c39"
   },
   "outputs": [
    {
     "name": "stdout",
     "output_type": "stream",
     "text": [
      "2.9289682539682538\n"
     ]
    }
   ],
   "source": [
    "n = 10\n",
    "sum = 1\n",
    "for i in range(2, n+1):\n",
    "    sum += 1/i\n",
    "print(sum)"
   ]
  },
  {
   "cell_type": "markdown",
   "metadata": {
    "colab_type": "text",
    "id": "wFuZUsrQ1s7U"
   },
   "source": [
    "### Q48. Write the NumPy program to create a 2d array with 6 on the border and 0 inside?"
   ]
  },
  {
   "cell_type": "code",
   "execution_count": 0,
   "metadata": {
    "colab": {
     "base_uri": "https://localhost:8080/",
     "height": 251
    },
    "colab_type": "code",
    "id": "p4IzziTL1vBt",
    "outputId": "f2c2bdce-e4ee-444f-d737-28db5871cac3"
   },
   "outputs": [
    {
     "name": "stdout",
     "output_type": "stream",
     "text": [
      "Original array-\n",
      "[[6 6 6 6 6]\n",
      " [6 6 6 6 6]\n",
      " [6 6 6 6 6]\n",
      " [6 6 6 6 6]\n",
      " [6 6 6 6 6]]\n",
      "\n",
      "\n",
      "6 on the border and 0 inside in the array-\n",
      "[[6 6 6 6 6]\n",
      " [6 0 0 0 6]\n",
      " [6 0 0 0 6]\n",
      " [6 0 0 0 6]\n",
      " [6 6 6 6 6]]\n"
     ]
    }
   ],
   "source": [
    "import numpy as np\n",
    "arr = np.zeros((5,5), dtype = int)\n",
    "arr[:] = 6\n",
    "print('Original array-')\n",
    "print(arr)\n",
    "arr[1:-1, 1:-1] = 0\n",
    "print('\\n\\n6 on the border and 0 inside in the array-')\n",
    "print(arr)"
   ]
  },
  {
   "cell_type": "markdown",
   "metadata": {
    "colab_type": "text",
    "id": "iwErjuYw6tQP"
   },
   "source": [
    "### Q49. Write the NumPy program to create a 8x8 matrix and fillit with the checkerboard pattern?"
   ]
  },
  {
   "cell_type": "code",
   "execution_count": 0,
   "metadata": {
    "colab": {
     "base_uri": "https://localhost:8080/",
     "height": 150
    },
    "colab_type": "code",
    "id": "aHglA8LA69UK",
    "outputId": "bca3e0a5-84d2-478d-d1ee-b067f89484d5"
   },
   "outputs": [
    {
     "data": {
      "text/plain": [
       "array([[3, 9, 3, 9, 3, 9, 3, 9],\n",
       "       [3, 9, 3, 9, 3, 9, 3, 9],\n",
       "       [3, 9, 3, 9, 3, 9, 3, 9],\n",
       "       [3, 9, 3, 9, 3, 9, 3, 9],\n",
       "       [3, 9, 3, 9, 3, 9, 3, 9],\n",
       "       [3, 9, 3, 9, 3, 9, 3, 9],\n",
       "       [3, 9, 3, 9, 3, 9, 3, 9],\n",
       "       [3, 9, 3, 9, 3, 9, 3, 9]])"
      ]
     },
     "execution_count": 94,
     "metadata": {
      "tags": []
     },
     "output_type": "execute_result"
    }
   ],
   "source": [
    "import numpy as np\n",
    "arr = np.zeros((8,8), dtype=int)\n",
    "arr[:] = [3,9,3,9,3,9,3,9]\n",
    "arr"
   ]
  },
  {
   "cell_type": "markdown",
   "metadata": {
    "colab_type": "text",
    "id": "7ez4KugO74TG"
   },
   "source": [
    "### Q50. Write theNumPy program to create an empty and a full array"
   ]
  },
  {
   "cell_type": "code",
   "execution_count": 0,
   "metadata": {
    "colab": {
     "base_uri": "https://localhost:8080/",
     "height": 117
    },
    "colab_type": "code",
    "id": "CBNfI-JZ7_TA",
    "outputId": "40205507-1e67-4cc7-85ed-cfa0f1ba02db"
   },
   "outputs": [
    {
     "name": "stdout",
     "output_type": "stream",
     "text": [
      "[[2.70584339e-316 8.48798317e-313 2.05833592e-312 2.18565567e-312]\n",
      " [9.33678149e-313 8.91238232e-313 2.27053550e-312 2.05833592e-312]\n",
      " [2.18565567e-312 8.70018275e-313 1.35570810e+295 1.46030983e-319]]\n",
      "[[6 6 6]\n",
      " [6 6 6]\n",
      " [6 6 6]]\n"
     ]
    }
   ],
   "source": [
    "import numpy as np\n",
    "arr_embty = np.empty((3,4))\n",
    "print(arr_embty)\n",
    "\n",
    "arr_full = np.full((3,3), 6)\n",
    "print(arr_full)"
   ]
  },
  {
   "cell_type": "markdown",
   "metadata": {
    "colab_type": "text",
    "id": "7nXf-e5b8mXW"
   },
   "source": [
    "### Q51. Write the NumPy program to convert the values of Centigradedegrees into the Fahrenheit degrees and the centigrade values are storedintheNumPy array"
   ]
  },
  {
   "cell_type": "code",
   "execution_count": 0,
   "metadata": {
    "colab": {
     "base_uri": "https://localhost:8080/",
     "height": 84
    },
    "colab_type": "code",
    "id": "6wd9E8yr9AUn",
    "outputId": "777e67f8-a933-4919-d77a-8f359dd2c949"
   },
   "outputs": [
    {
     "name": "stdout",
     "output_type": "stream",
     "text": [
      "Values in Fahrenheit degrees-\n",
      "[0, 12, 45.21, 34, 99.91]\n",
      "Values in Centigrade degrees-\n",
      "[-17.77777777777778, -11.11111111111111, 7.33888888888889, 1.1111111111111112, 37.727777777777774]\n"
     ]
    }
   ],
   "source": [
    "Fahrenheit_degress = [0, 12, 45.21 ,34, 99.91]\n",
    "centigrade_degrees = list(map(lambda x: (x - 32) * 5/9,  Fahrenheit_degress))\n",
    "print('Values in Fahrenheit degrees-')\n",
    "print(Fahrenheit_degress)\n",
    "print('Values in Centigrade degrees-')\n",
    "print(centigrade_degrees)"
   ]
  },
  {
   "cell_type": "markdown",
   "metadata": {
    "colab_type": "text",
    "id": "EKq7XwOvAOXS"
   },
   "source": [
    "### Q52. Write the NumPy program to find the real and imaginary parts of an array of complex numbers?"
   ]
  },
  {
   "cell_type": "code",
   "execution_count": 5,
   "metadata": {
    "colab": {
     "base_uri": "https://localhost:8080/",
     "height": 100
    },
    "colab_type": "code",
    "id": "JCKVZLClAQyF",
    "outputId": "bc200fd3-7f4a-4805-c162-048fcbdb77f7"
   },
   "outputs": [
    {
     "name": "stdout",
     "output_type": "stream",
     "text": [
      "Original array:x  [1.+0.j]\n",
      "Original array:y  [0.70710678+0.70710678j]\n",
      "Real part of the array:\n",
      "[1.]\n",
      "[0.70710678]\n",
      "Imaginary part of the array:\n",
      "[0.]\n",
      "[0.70710678]\n"
     ]
    }
   ],
   "source": [
    "import numpy as np \n",
    "x = np.sqrt([1+0j]) \n",
    "y = np.sqrt([0+1j]) \n",
    "print(\"Original array:x \",x) \n",
    "print(\"Original array:y \",y)\n",
    "\n",
    "print(\"Real part of the array:\") \n",
    "print(x.real) \n",
    "print(y.real)\n",
    "print(\"Imaginary part of the array:\") \n",
    "print(x.imag) \n",
    "print(y.imag)"
   ]
  },
  {
   "cell_type": "markdown",
   "metadata": {
    "colab_type": "text",
    "id": "4gaRYq8uFoUh"
   },
   "source": [
    "### Q53. Write theNumPy program to test whether each element of a 1-D array is also present in thesecond array?"
   ]
  },
  {
   "cell_type": "code",
   "execution_count": 0,
   "metadata": {
    "colab": {
     "base_uri": "https://localhost:8080/",
     "height": 84
    },
    "colab_type": "code",
    "id": "74DxfPPjFrhi",
    "outputId": "2cc2388b-6218-41c1-a2e5-7dc9adf7bcde"
   },
   "outputs": [
    {
     "name": "stdout",
     "output_type": "stream",
     "text": [
      "Array1:  [ 0 10 20 40 60]\n",
      "Array2:  [ 0 40]\n",
      "Compare each element of array1 and array2\n",
      "[ True False False  True False]\n"
     ]
    }
   ],
   "source": [
    "import numpy as np\n",
    "arr1 = np.array([0, 10, 20, 40, 60])\n",
    "arr2 = np.array([0, 40])\n",
    "print('Array1: ', arr1)\n",
    "print('Array2: ', arr2)\n",
    "print('Compare each element of array1 and array2')\n",
    "print(np.in1d(arr1, arr2))\n"
   ]
  },
  {
   "cell_type": "markdown",
   "metadata": {
    "colab_type": "text",
    "id": "znC7uWPZGprR"
   },
   "source": [
    "### Q54. Write theNumPy program to find common values between two arrays?"
   ]
  },
  {
   "cell_type": "code",
   "execution_count": 0,
   "metadata": {
    "colab": {
     "base_uri": "https://localhost:8080/",
     "height": 84
    },
    "colab_type": "code",
    "id": "Ww0ohmyiGxi1",
    "outputId": "4fd5393a-b477-4ba2-b56d-11a65e106717"
   },
   "outputs": [
    {
     "name": "stdout",
     "output_type": "stream",
     "text": [
      "Array1: [ 0 10 20 40 60]\n",
      "Array2: [10 30 40]\n",
      "Common values between two arrays-\n",
      "[10 40]\n"
     ]
    }
   ],
   "source": [
    "import numpy as np\n",
    "arr1 = np.array([0, 10, 20, 40, 60])\n",
    "arr2 = np.array([10, 30, 40])\n",
    "print('Array1:', arr1)\n",
    "print('Array2:', arr2)\n",
    "print('Common values between two arrays-')\n",
    "print(np.intersect1d(arr1, arr2))\n"
   ]
  },
  {
   "cell_type": "markdown",
   "metadata": {
    "colab_type": "text",
    "id": "x-jUBZy0Htd4"
   },
   "source": [
    "### Q55. Write theNumPy program to get the unique elements of an array?"
   ]
  },
  {
   "cell_type": "code",
   "execution_count": 0,
   "metadata": {
    "colab": {
     "base_uri": "https://localhost:8080/",
     "height": 167
    },
    "colab_type": "code",
    "id": "gnO8fJXdH_nc",
    "outputId": "a235c50c-f60b-4638-dcc3-67a49550c1ea"
   },
   "outputs": [
    {
     "name": "stdout",
     "output_type": "stream",
     "text": [
      "Original array-\n",
      "[10 10 20 20 30 30]\n",
      "Unique elements of the above array-\n",
      "[10 20 30]\n",
      "Original array-\n",
      "[[1 1]\n",
      " [2 3]]\n",
      "Unique elements of the above array-\n",
      "[1 2 3]\n"
     ]
    }
   ],
   "source": [
    "import numpy as np\n",
    "\n",
    "arr = np.array([10, 10, 20, 20, 30, 30])\n",
    "print('Original array-')\n",
    "print(arr)\n",
    "print('Unique elements of the above array-')\n",
    "print(np.unique(arr))\n",
    "\n",
    "arr = np.array( [[1,1], [2,3]]  )\n",
    "print('Original array-')\n",
    "print(arr)\n",
    "print('Unique elements of the above array-')\n",
    "print(np.unique(arr))"
   ]
  },
  {
   "cell_type": "markdown",
   "metadata": {
    "colab_type": "text",
    "id": "TuzrArzlJI8h"
   },
   "source": [
    "### Q56. Write the NumPy program to find the set exclusive-or of two arrays. Set exclusive-or will return the sorted, unique values that are in only one (not both) of the input arrays?"
   ]
  },
  {
   "cell_type": "code",
   "execution_count": 0,
   "metadata": {
    "colab": {
     "base_uri": "https://localhost:8080/",
     "height": 84
    },
    "colab_type": "code",
    "id": "KtYVqaXRJK6g",
    "outputId": "703d11dc-d75a-405c-8354-766fc10eafbd"
   },
   "outputs": [
    {
     "name": "stdout",
     "output_type": "stream",
     "text": [
      "Array1- [ 0 10 20 40 60 80]\n",
      "Array2- [10 30 40 50 79]\n",
      "Unique values that are in only one (not both) of the input arrays-\n",
      "[ 0 20 30 50 60 79 80]\n"
     ]
    }
   ],
   "source": [
    "import numpy as np\n",
    "arr1 = np.array([0, 10, 20, 40, 60, 80])\n",
    "arr2 = np.array([10, 30, 40, 50, 79])\n",
    "print('Array1-', arr1)\n",
    "print('Array2-', arr2)\n",
    "print('Unique values that are in only one (not both) of the input arrays-')\n",
    "print(np.setxor1d(arr1, arr2))"
   ]
  },
  {
   "cell_type": "markdown",
   "metadata": {
    "colab_type": "text",
    "id": "mV1WGxrsK0t4"
   },
   "source": [
    "### Q57. Write theNumPy program to test if all elements in an array evaluate to True?"
   ]
  },
  {
   "cell_type": "code",
   "execution_count": 6,
   "metadata": {
    "colab": {
     "base_uri": "https://localhost:8080/",
     "height": 84
    },
    "colab_type": "code",
    "id": "bhCIbIrKLKed",
    "outputId": "5c26d040-7d2c-4fc5-c8ac-e095abfadadb"
   },
   "outputs": [
    {
     "name": "stdout",
     "output_type": "stream",
     "text": [
      "False\n",
      "True\n",
      "False\n",
      "True\n"
     ]
    }
   ],
   "source": [
    "import numpy as np \n",
    "print(np.all([[True,False],[True,True]])) \n",
    "print(np.all([[True,True],[True,True]])) \n",
    "print(np.all([10, 20, 0, -50])) \n",
    "print(np.all([10, 20, -50]))\n"
   ]
  },
  {
   "cell_type": "markdown",
   "metadata": {
    "colab_type": "text",
    "id": "tEkJDFsRL-0w"
   },
   "source": [
    "### Q58 Write theNumPy program to test whether any array element along thegiven axis evaluates to True?"
   ]
  },
  {
   "cell_type": "code",
   "execution_count": 7,
   "metadata": {
    "colab": {
     "base_uri": "https://localhost:8080/",
     "height": 50
    },
    "colab_type": "code",
    "id": "VdnJBK1INgdc",
    "outputId": "436b017b-3c9e-451d-a289-23c038b5d5a9"
   },
   "outputs": [
    {
     "name": "stdout",
     "output_type": "stream",
     "text": [
      "False\n",
      "True\n",
      "True\n",
      "True\n"
     ]
    }
   ],
   "source": [
    "import numpy as np\n",
    "print(np.any([[False,False],[False,False]])) \n",
    "print(np.any([[True,True],[True,True]])) \n",
    "print(np.any([10, 20, 0, -50])) \n",
    "print(np.any([10, 20, -50]))"
   ]
  },
  {
   "cell_type": "markdown",
   "metadata": {
    "colab_type": "text",
    "id": "FHud_W3HOZxn"
   },
   "source": [
    "#### Q59. Write the NumPy program to construct an array by repeating?"
   ]
  },
  {
   "cell_type": "code",
   "execution_count": 0,
   "metadata": {
    "colab": {
     "base_uri": "https://localhost:8080/",
     "height": 117
    },
    "colab_type": "code",
    "id": "7nU5Pl7OOcdo",
    "outputId": "6c16d3e2-95de-48b8-ca14-13bfdcebc556"
   },
   "outputs": [
    {
     "name": "stdout",
     "output_type": "stream",
     "text": [
      "Original array\n",
      "[1 2 3 4]\n",
      "Repeating 2 times\n",
      "[1 2 3 4 1 2 3 4]\n",
      "Repeating 3 times\n",
      "[1 2 3 4 1 2 3 4 1 2 3 4]\n"
     ]
    }
   ],
   "source": [
    "arr = np.array([1, 2, 3, 4])\n",
    "print('Original array')\n",
    "print(arr)\n",
    "print('Repeating 2 times')\n",
    "print(np.tile(arr, 2))\n",
    "print('Repeating 3 times')\n",
    "print(np.tile(arr, 3))"
   ]
  },
  {
   "cell_type": "markdown",
   "metadata": {
    "colab_type": "text",
    "id": "6eXYu1v5QRoa"
   },
   "source": [
    "### Q60. Write the NumPy program to find the indices of the maximum and minimum values withthe given axis of an array?"
   ]
  },
  {
   "cell_type": "code",
   "execution_count": 0,
   "metadata": {
    "colab": {
     "base_uri": "https://localhost:8080/",
     "height": 67
    },
    "colab_type": "code",
    "id": "uXwQrsPkQUC3",
    "outputId": "040915b4-df40-40c0-e99e-19c00b799afe"
   },
   "outputs": [
    {
     "name": "stdout",
     "output_type": "stream",
     "text": [
      "Original array- [1 2 3 4 5 6]\n",
      "Maximum Values- 5\n",
      "Minimum Values- 0\n"
     ]
    }
   ],
   "source": [
    "import numpy as np\n",
    "arr = np.array([1, 2, 3, 4, 5, 6])\n",
    "print('Original array-', arr)\n",
    "print('Maximum Values-', np.argmax(arr))\n",
    "print('Minimum Values-', np.argmin(arr))"
   ]
  },
  {
   "cell_type": "markdown",
   "metadata": {
    "colab_type": "text",
    "id": "smpx6ydYqhvv"
   },
   "source": [
    "### Q61. Write theNumPy program compare two arrays using numpy?"
   ]
  },
  {
   "cell_type": "code",
   "execution_count": 0,
   "metadata": {
    "colab": {
     "base_uri": "https://localhost:8080/",
     "height": 187
    },
    "colab_type": "code",
    "id": "Fgo4a-FAqmKN",
    "outputId": "a951ccf3-bcf2-47d0-d1f0-4e5773eb8085"
   },
   "outputs": [
    {
     "name": "stdout",
     "output_type": "stream",
     "text": [
      "Array a- [1 2]\n",
      "Array b- [4 5]\n",
      "a>b\n",
      "[False False]\n",
      "a>=b\n",
      "[False False]\n",
      "a<b\n",
      "[ True  True]\n",
      "a<=b\n",
      "[ True  True]\n"
     ]
    }
   ],
   "source": [
    "import numpy as np\n",
    "a = np.array([1,2])\n",
    "b = np.array([4,5])\n",
    "print('Array a-', a)\n",
    "print('Array b-', b)\n",
    "print('a>b')\n",
    "print(np.greater(a, b))\n",
    "print('a>=b')\n",
    "print(np.greater_equal(a,b))\n",
    "print('a<b')\n",
    "print(np.less(a,b))\n",
    "print('a<=b')\n",
    "print(np.less_equal(a,b))"
   ]
  },
  {
   "cell_type": "markdown",
   "metadata": {
    "colab_type": "text",
    "id": "_7wjrkhKrgrP"
   },
   "source": [
    "### Q62. Write the NumPy program to sort an along the first, last axis of an array?"
   ]
  },
  {
   "cell_type": "code",
   "execution_count": 0,
   "metadata": {
    "colab": {
     "base_uri": "https://localhost:8080/",
     "height": 170
    },
    "colab_type": "code",
    "id": "phHRpecFrzdT",
    "outputId": "43ddb489-62d0-48fd-c2d4-f93b447b0042"
   },
   "outputs": [
    {
     "name": "stdout",
     "output_type": "stream",
     "text": [
      "Original array: \n",
      "[[4 6]\n",
      " [2 1]]\n",
      "Sort along the first axis:\n",
      "[[2 1]\n",
      " [4 6]]\n",
      "Sort along the last axis:\n",
      "[[1 2]\n",
      " [4 6]]\n"
     ]
    }
   ],
   "source": [
    "import numpy as np\n",
    "a = np.array([[4,6],[2,1]])\n",
    "print('Original array: ')\n",
    "print(a)\n",
    "print('Sort along the first axis:')\n",
    "x = np.sort(a, axis=0)\n",
    "print(x)\n",
    "print('Sort along the last axis:')\n",
    "y = np.sort(x, axis=1)\n",
    "print(y)"
   ]
  },
  {
   "cell_type": "markdown",
   "metadata": {
    "colab_type": "text",
    "id": "3nv47BI6tlir"
   },
   "source": [
    "### Q63. Write the NumPy program to sort pairs of first name and last name return their indices(first by last name, then by first name)."
   ]
  },
  {
   "cell_type": "code",
   "execution_count": 0,
   "metadata": {
    "colab": {
     "base_uri": "https://localhost:8080/",
     "height": 51
    },
    "colab_type": "code",
    "id": "kXOhybSYtoVq",
    "outputId": "b6bbb49d-1950-4f0b-9eae-ca29f7f53026"
   },
   "outputs": [
    {
     "name": "stdout",
     "output_type": "stream",
     "text": [
      "('Margery', 'Betsey', 'Shelley', 'Lanell', 'Genesis')\n",
      "[1 3 2 4 0]\n"
     ]
    }
   ],
   "source": [
    "import numpy as np\n",
    "first_names =    ('Margery', 'Betsey', 'Shelley', 'Lanell', 'Genesis')\n",
    "last_names = ('Woolum', 'Battle', 'Plotner', 'Brien', 'Stahl')\n",
    "x = np.lexsort((first_names, last_names))\n",
    "print(x)"
   ]
  },
  {
   "cell_type": "markdown",
   "metadata": {
    "colab_type": "text",
    "id": "eK1UYXLpuktG"
   },
   "source": [
    "### Q64. Write the NumPy program to get the values and indices of the elements that are bigger than 10  int he given array?"
   ]
  },
  {
   "cell_type": "code",
   "execution_count": 0,
   "metadata": {
    "colab": {
     "base_uri": "https://localhost:8080/",
     "height": 102
    },
    "colab_type": "code",
    "id": "X6QtgsMiuw8i",
    "outputId": "de7d26f6-16c7-4a07-f3de-eebbf5917a9b"
   },
   "outputs": [
    {
     "name": "stdout",
     "output_type": "stream",
     "text": [
      "Original array-\n",
      "[[ 0 10 20]\n",
      " [20 30 40]]\n",
      "Values bigger than 10= [20 20 30 40]\n",
      "Their indices are  (array([0, 1, 1, 1]), array([2, 0, 1, 2]))\n"
     ]
    }
   ],
   "source": [
    "import numpy as np\n",
    "x = np.array([[0,10,20],[20,30,40]])\n",
    "print('Original array-')\n",
    "print(x)\n",
    "print('Values bigger than 10=', x[x>10])\n",
    "print('Their indices are ', np.nonzero(x>10))"
   ]
  },
  {
   "cell_type": "markdown",
   "metadata": {
    "colab_type": "text",
    "id": "2CcwKs2cxeRG"
   },
   "source": [
    "### Q65. Write the NumPy program to find the memory size of a NumPy array?"
   ]
  },
  {
   "cell_type": "code",
   "execution_count": 0,
   "metadata": {
    "colab": {
     "base_uri": "https://localhost:8080/",
     "height": 34
    },
    "colab_type": "code",
    "id": "Da44hloWxtrU",
    "outputId": "bd6b3833-7174-43d7-a688-12ba3020d298"
   },
   "outputs": [
    {
     "name": "stdout",
     "output_type": "stream",
     "text": [
      "128 bytes\n"
     ]
    }
   ],
   "source": [
    "import numpy as np\n",
    "x = np.ones((4,4))\n",
    "print(\"%d bytes\" % (x.size * x.itemsize) )"
   ]
  },
  {
   "cell_type": "markdown",
   "metadata": {
    "colab_type": "text",
    "id": "x549ud5OyNQd"
   },
   "source": [
    "### Q66. Write the NumPy program to create an array of ones and an array of zeros?"
   ]
  },
  {
   "cell_type": "code",
   "execution_count": 0,
   "metadata": {
    "colab": {
     "base_uri": "https://localhost:8080/",
     "height": 187
    },
    "colab_type": "code",
    "id": "PrVlh91107e8",
    "outputId": "1659df62-c251-42bc-fcc7-bd9e2a9ca37a"
   },
   "outputs": [
    {
     "name": "stdout",
     "output_type": "stream",
     "text": [
      "Create an array of zeros\n",
      "Default type is float\n",
      "[[0. 0.]]\n",
      "Type changes to int\n",
      "[[0 0]]\n",
      "Create an array of ones\n",
      "Default type is float\n",
      "[[1. 1.]]\n",
      "Type changes to int\n",
      "[[1 1]]\n"
     ]
    }
   ],
   "source": [
    "import numpy as np\n",
    "print('Create an array of zeros')\n",
    "x = np.zeros((1,2))\n",
    "print('Default type is float')\n",
    "print(x)\n",
    "print('Type changes to int')\n",
    "x = x.astype(np.int)\n",
    "print(x)\n",
    "\n",
    "print('Create an array of ones')\n",
    "y = np.ones((1,2))\n",
    "print('Default type is float')\n",
    "print(y)\n",
    "print('Type changes to int')\n",
    "y = y.astype(np.int)\n",
    "print(y)"
   ]
  },
  {
   "cell_type": "markdown",
   "metadata": {
    "colab_type": "text",
    "id": "gnJT1Rm252gn"
   },
   "source": [
    "### Q67. Write the NumPy program to change the dimension of an array?"
   ]
  },
  {
   "cell_type": "code",
   "execution_count": 0,
   "metadata": {
    "colab": {
     "base_uri": "https://localhost:8080/",
     "height": 187
    },
    "colab_type": "code",
    "id": "XNytvSJb54vk",
    "outputId": "a25f77e2-d0e7-4c84-ec55-2e3c2121d26d"
   },
   "outputs": [
    {
     "name": "stdout",
     "output_type": "stream",
     "text": [
      "6 rows and 0 columns\n",
      "(6,)\n",
      "(3, 3) -> 3 rows and 3 columns\n",
      "[[1 2 3]\n",
      " [4 5 6]\n",
      " [7 8 9]]\n",
      "Change array shape to (3, 3) -> 3 rows and 3 columns\n",
      "[[1 2 3]\n",
      " [4 5 6]\n",
      " [7 8 9]]\n"
     ]
    }
   ],
   "source": [
    "import numpy as np\n",
    "arr1 = np.array([1,2,3,4,5,6])\n",
    "print('6 rows and 0 columns')\n",
    "print(arr.shape)\n",
    "\n",
    "arr2 = np.array([[1,2,3],[4,5,6],[7,8,9]])\n",
    "print('(3, 3) -> 3 rows and 3 columns')\n",
    "print(arr2)\n",
    "\n",
    "arr3 = np.array([1,2,3,4,5,6,7,8,9])\n",
    "print('Change array shape to (3, 3) -> 3 rows and 3 columns')\n",
    "arr3 = arr3.reshape(3,3)\n",
    "print(arr3)"
   ]
  },
  {
   "cell_type": "markdown",
   "metadata": {
    "colab_type": "text",
    "id": "af0zZafHmVfp"
   },
   "source": [
    "### Q68. Write the NumPy program to create a new shape to an array without changing its data ?"
   ]
  },
  {
   "cell_type": "code",
   "execution_count": 8,
   "metadata": {
    "colab": {
     "base_uri": "https://localhost:8080/",
     "height": 136
    },
    "colab_type": "code",
    "id": "Ek2Vj-u6m2ru",
    "outputId": "d46a9865-d903-41c9-9dd6-0bea6b9cbe25"
   },
   "outputs": [
    {
     "name": "stdout",
     "output_type": "stream",
     "text": [
      "Reshape 3x2:\n",
      "[[1 2]\n",
      " [3 4]\n",
      " [5 6]]\n",
      "Reshape 2x3:\n",
      "[[1 2 3]\n",
      " [4 5 6]]\n"
     ]
    }
   ],
   "source": [
    "import numpy as np\n",
    "x = np.array([1, 2, 3, 4, 5, 6]) \n",
    "y = np.reshape(x,(3,2))\n",
    "print(\"Reshape 3x2:\") \n",
    "print(y) \n",
    "z = np.reshape(x,(2,3))\n",
    "print(\"Reshape 2x3:\") \n",
    "print(z)"
   ]
  },
  {
   "cell_type": "markdown",
   "metadata": {
    "colab_type": "text",
    "id": "H8cz366Tnmqt"
   },
   "source": [
    "### Q69. Write the NumPy program to create a new array of 3*5, filled with 2?"
   ]
  },
  {
   "cell_type": "code",
   "execution_count": 0,
   "metadata": {
    "colab": {
     "base_uri": "https://localhost:8080/",
     "height": 119
    },
    "colab_type": "code",
    "id": "_9i0j0Fvqznr",
    "outputId": "40f7c998-680c-4ccd-d8dc-000526bc18d0"
   },
   "outputs": [
    {
     "name": "stdout",
     "output_type": "stream",
     "text": [
      "[[2 2 2 2 2]\n",
      " [2 2 2 2 2]\n",
      " [2 2 2 2 2]]\n",
      "[[2 2 2 2 2]\n",
      " [2 2 2 2 2]\n",
      " [2 2 2 2 2]]\n"
     ]
    }
   ],
   "source": [
    "import numpy as np\n",
    "x = np.full((3,5), 2, dtype=np.int)\n",
    "print(x)\n",
    "\n",
    "y = np.ones([3,5], dtype= np.int) * 2\n",
    "print(y)"
   ]
  },
  {
   "cell_type": "markdown",
   "metadata": {
    "colab_type": "text",
    "id": "Q21PMbc-sMDE"
   },
   "source": [
    "### Q70. Write the NumPy program to create a 3-D array with ones on a diagonal and zeros elsewhere?"
   ]
  },
  {
   "cell_type": "code",
   "execution_count": 0,
   "metadata": {
    "colab": {
     "base_uri": "https://localhost:8080/",
     "height": 68
    },
    "colab_type": "code",
    "id": "4hOfdhJQsfKd",
    "outputId": "6b8383be-b1c3-4ff6-90fb-c5701bd3616d"
   },
   "outputs": [
    {
     "name": "stdout",
     "output_type": "stream",
     "text": [
      "[[1. 0. 0.]\n",
      " [0. 1. 0.]\n",
      " [0. 0. 1.]]\n"
     ]
    }
   ],
   "source": [
    "import numpy as np\n",
    "x = np.eye(3)\n",
    "print(x)"
   ]
  },
  {
   "cell_type": "markdown",
   "metadata": {
    "colab_type": "text",
    "id": "LHvXN3biuhnW"
   },
   "source": [
    "### Q71. Write the NumPy program to split an array of 14 elements into the 3 arrays and each of which has 2, 4,and 8 elements in original order?"
   ]
  },
  {
   "cell_type": "code",
   "execution_count": 0,
   "metadata": {
    "colab": {
     "base_uri": "https://localhost:8080/",
     "height": 67
    },
    "colab_type": "code",
    "id": "9_Pch-kLvC3L",
    "outputId": "af8c4d41-652d-4a74-cba9-46f5f8ce3e5f"
   },
   "outputs": [
    {
     "name": "stdout",
     "output_type": "stream",
     "text": [
      "Oroginal array- [ 1  2  3  4  5  6  7  8  9 10 11 12 13 14]\n",
      "After splitting-\n",
      "[array([1, 2]), array([3, 4, 5, 6]), array([ 7,  8,  9, 10, 11, 12, 13, 14])]\n"
     ]
    }
   ],
   "source": [
    "import numpy as np\n",
    "x = np.arange(1,15)\n",
    "print('Oroginal array-', x)\n",
    "print('After splitting-')\n",
    "print( np.split(x, [2,6]))\n"
   ]
  },
  {
   "cell_type": "markdown",
   "metadata": {
    "colab_type": "text",
    "id": "xrK3WKyS4pKM"
   },
   "source": [
    "### Q72. Write the NumPy program to split of an array of shape 4x4 it into two arrays along the second axis ?"
   ]
  },
  {
   "cell_type": "code",
   "execution_count": 9,
   "metadata": {
    "colab": {
     "base_uri": "https://localhost:8080/",
     "height": 134
    },
    "colab_type": "code",
    "id": "a3qogTrU5EZA",
    "outputId": "6a566b78-7e90-44ff-9667-90d81cb159bf"
   },
   "outputs": [
    {
     "name": "stdout",
     "output_type": "stream",
     "text": [
      "Original array: [[ 0  1  2  3]\n",
      " [ 4  5  6  7]\n",
      " [ 8  9 10 11]\n",
      " [12 13 14 15]]\n",
      "After splitting horizontally:\n",
      "[array([[ 0,  1],\n",
      "       [ 4,  5],\n",
      "       [ 8,  9],\n",
      "       [12, 13]]), array([[ 2,  3],\n",
      "       [ 6,  7],\n",
      "       [10, 11],\n",
      "       [14, 15]]), array([], shape=(4, 0), dtype=int32)]\n"
     ]
    }
   ],
   "source": [
    "import numpy as np\n",
    "x = np.arange(16).reshape((4, 4)) \n",
    "print(\"Original array:\",x)\n",
    "print(\"After splitting horizontally:\") \n",
    "print(np.hsplit(x, [2, 6]))"
   ]
  },
  {
   "cell_type": "markdown",
   "metadata": {
    "colab_type": "text",
    "id": "9qYmWD_F6b9x"
   },
   "source": [
    "### Q73. Write the NumPy program to create a 5x5 matrix with row values ranging from 0 to 4?"
   ]
  },
  {
   "cell_type": "code",
   "execution_count": 10,
   "metadata": {
    "colab": {
     "base_uri": "https://localhost:8080/",
     "height": 218
    },
    "colab_type": "code",
    "id": "5hCN9qwG6oAg",
    "outputId": "c2fb8eb6-764e-4e6b-fc9d-e4c21eb68790"
   },
   "outputs": [
    {
     "name": "stdout",
     "output_type": "stream",
     "text": [
      "Original array-\n",
      "[[0. 0. 0. 0. 0.]\n",
      " [0. 0. 0. 0. 0.]\n",
      " [0. 0. 0. 0. 0.]\n",
      " [0. 0. 0. 0. 0.]\n",
      " [0. 0. 0. 0. 0.]]\n",
      "Row values ranging from 0 to 4.\n",
      "[[0. 1. 2. 3. 4.]\n",
      " [0. 1. 2. 3. 4.]\n",
      " [0. 1. 2. 3. 4.]\n",
      " [0. 1. 2. 3. 4.]\n",
      " [0. 1. 2. 3. 4.]]\n"
     ]
    }
   ],
   "source": [
    "import numpy as np\n",
    "x = np.zeros((5,5))\n",
    "print('Original array-')\n",
    "print(x)\n",
    "\n",
    "print('Row values ranging from 0 to 4.')\n",
    "x += np.arange(5)\n",
    "print(x)"
   ]
  },
  {
   "cell_type": "markdown",
   "metadata": {
    "colab_type": "text",
    "id": "GP7vn6Tw7Io1"
   },
   "source": [
    "#### Q74. Write the NumPy program to create an array of zeros and three column types (integer, float, character)?"
   ]
  },
  {
   "cell_type": "code",
   "execution_count": 0,
   "metadata": {
    "colab": {
     "base_uri": "https://localhost:8080/",
     "height": 50
    },
    "colab_type": "code",
    "id": "HLR-mziR7Kup",
    "outputId": "674c177d-a572-4eb7-f4e4-23df6a65b4f3"
   },
   "outputs": [
    {
     "name": "stdout",
     "output_type": "stream",
     "text": [
      "[(1, 2., b'Albert Einstein') (2, 2., b'Edmond Halley')\n",
      " (3, 3., b'Gertrude B. Elion')]\n"
     ]
    }
   ],
   "source": [
    "import numpy as np\n",
    "x = np.zeros(3, dtype = ('i4, f4, a40'))\n",
    "x[:] = [(1, 2., \"Albert Einstein\"), (2, 2., \"Edmond Halley\"), (3, 3., \"Gertrude B. Elion\")]\n",
    "print(x)"
   ]
  },
  {
   "cell_type": "markdown",
   "metadata": {
    "colab_type": "text",
    "id": "j5KoSVI487yc"
   },
   "source": [
    "### Q75. Write the NumPy program to remove the negative values in the numpy array with 0?"
   ]
  },
  {
   "cell_type": "code",
   "execution_count": 0,
   "metadata": {
    "colab": {
     "base_uri": "https://localhost:8080/",
     "height": 84
    },
    "colab_type": "code",
    "id": "2p5rQmjr9IcT",
    "outputId": "befb7091-6d61-41ea-9d3f-ac4ff8e69ae9"
   },
   "outputs": [
    {
     "name": "stdout",
     "output_type": "stream",
     "text": [
      "Original array-\n",
      "[-1 -4  0  2  3  4  5 -6]\n",
      "Replace the negative values of the said array with 0:\n",
      "[0 0 0 2 3 4 5 0]\n"
     ]
    }
   ],
   "source": [
    "import numpy as np\n",
    "x = np.array([-1, -4, 0, 2, 3, 4, 5, -6])\n",
    "print('Original array-')\n",
    "print(x)\n",
    "print(\"Replace the negative values of the said array with 0:\")\n",
    "x[ x < 0] = 0\n",
    "print(x)"
   ]
  },
  {
   "cell_type": "markdown",
   "metadata": {
    "colab_type": "text",
    "id": "6ZhLPZZe9lFy"
   },
   "source": [
    "### Q76. Write the NumPy program to compute the histogram of a set of data?"
   ]
  },
  {
   "cell_type": "code",
   "execution_count": 0,
   "metadata": {
    "colab": {
     "base_uri": "https://localhost:8080/",
     "height": 265
    },
    "colab_type": "code",
    "id": "-hjQvfPO9p0Z",
    "outputId": "2e8fb954-1703-464a-e3bc-15390150596d"
   },
   "outputs": [
    {
     "data": {
      "image/png": "[encoded data removed]",
      "text/plain": [
       "<Figure size 432x288 with 1 Axes>"
      ]
     },
     "metadata": {
      "tags": []
     },
     "output_type": "display_data"
    }
   ],
   "source": [
    "import numpy as np\n",
    "import matplotlib.pyplot as plt\n",
    "x = [1, 2.3, 1.5]\n",
    "plt.hist(x, bins = [0, 1, 2, 3, 5])\n",
    "plt.show()"
   ]
  },
  {
   "cell_type": "markdown",
   "metadata": {
    "colab_type": "text",
    "id": "yhGcN1mPAE4C"
   },
   "source": [
    "### Q77.Write the NumPy program to compute the line graph of a set of data?"
   ]
  },
  {
   "cell_type": "code",
   "execution_count": 0,
   "metadata": {
    "colab": {
     "base_uri": "https://localhost:8080/",
     "height": 265
    },
    "colab_type": "code",
    "id": "AxMBeZ4NApDn",
    "outputId": "93c2bc78-0e56-4c14-e8d2-e60772dd38ad"
   },
   "outputs": [
    {
     "data": {
      "image/png": "[encoded data removed]",
      "text/plain": [
       "<Figure size 432x288 with 1 Axes>"
      ]
     },
     "metadata": {
      "tags": []
     },
     "output_type": "display_data"
    }
   ],
   "source": [
    "import numpy as np\n",
    "import matplotlib.pyplot as plt\n",
    "arr = np.random.randint(1, 50, 10)\n",
    "y, x = np.histogram(arr, bins=np.arange(51))\n",
    "fig, ax = plt.subplots()\n",
    "ax.plot(x[:-1], y)\n",
    "fig.show()"
   ]
  },
  {
   "cell_type": "markdown",
   "metadata": {
    "colab_type": "text",
    "id": "On_pdfsGDIlM"
   },
   "source": [
    "### Q78. Write theNumPy program to extractsall the elements fromsecond row from given (4x4) array?"
   ]
  },
  {
   "cell_type": "code",
   "execution_count": 0,
   "metadata": {
    "colab": {
     "base_uri": "https://localhost:8080/",
     "height": 134
    },
    "colab_type": "code",
    "id": "s_dhZ6rkDNbn",
    "outputId": "5672514e-2624-4d10-9b3f-3ac6b55b1ec5"
   },
   "outputs": [
    {
     "name": "stdout",
     "output_type": "stream",
     "text": [
      "Original array-\n",
      "[[ 0  1  2  3]\n",
      " [ 4  5  6  7]\n",
      " [ 8  9 10 11]\n",
      " [12 13 14 15]]\n",
      "Extracted data- Second row\n",
      "[4 5 6 7]\n"
     ]
    }
   ],
   "source": [
    "import numpy as np\n",
    "arr = np.arange(16).reshape(4,4)\n",
    "print('Original array-')\n",
    "print(arr)\n",
    "print('Extracted data- Second row')\n",
    "print( arr[1])"
   ]
  },
  {
   "cell_type": "markdown",
   "metadata": {
    "colab_type": "text",
    "id": "YGQG-MxRHla2"
   },
   "source": [
    "### Q79. Write the NumPy program to extract first element of the second row and fourth element of fourth row from a given (4x4) array"
   ]
  },
  {
   "cell_type": "code",
   "execution_count": 0,
   "metadata": {
    "colab": {
     "base_uri": "https://localhost:8080/",
     "height": 134
    },
    "colab_type": "code",
    "id": "MNYGDy0BHn5o",
    "outputId": "8b4c769e-1bb5-4eda-ff7c-b923bd54b157"
   },
   "outputs": [
    {
     "name": "stdout",
     "output_type": "stream",
     "text": [
      "Original array-\n",
      "[[ 0  1  2  3]\n",
      " [ 4  5  6  7]\n",
      " [ 8  9 10 11]\n",
      " [12 13 14 15]]\n",
      "Extracted data-First element of the second row and fourth element of fourth roww\n",
      "[ 4 15]\n"
     ]
    }
   ],
   "source": [
    "import numpy as np\n",
    "arr = np.arange(16).reshape(4,4)\n",
    "print('Original array-')\n",
    "print(arr)\n",
    "print('Extracted data-First element of the second row and fourth element of fourth roww')\n",
    "print( arr[[1,3], [0,3]])"
   ]
  },
  {
   "cell_type": "markdown",
   "metadata": {
    "colab_type": "text",
    "id": "hBqvl_OuIsYH"
   },
   "source": [
    "### Q80. Write theNumPy program to add two arrays Aand B of sizes (3,3) and (,3)?"
   ]
  },
  {
   "cell_type": "code",
   "execution_count": 0,
   "metadata": {
    "colab": {
     "base_uri": "https://localhost:8080/",
     "height": 202
    },
    "colab_type": "code",
    "id": "MSAuFi1AI3YZ",
    "outputId": "c87510cf-9fc2-432d-870b-625da29ec254"
   },
   "outputs": [
    {
     "name": "stdout",
     "output_type": "stream",
     "text": [
      "Original array-\n",
      "Array-1\n",
      "[[1. 1. 1.]\n",
      " [1. 1. 1.]\n",
      " [1. 1. 1.]]\n",
      "Array-2\n",
      "[0 1 2]\n",
      "A+B\n",
      " [[1. 2. 3.]\n",
      " [1. 2. 3.]\n",
      " [1. 2. 3.]]\n"
     ]
    }
   ],
   "source": [
    "import numpy as np\n",
    "A = np.ones((3,3))\n",
    "B = np.arange(3)\n",
    "print('Original array-')\n",
    "print('Array-1')\n",
    "print(A)\n",
    "print('Array-2')\n",
    "print(B)\n",
    "print('A+B\\n', A+B)"
   ]
  },
  {
   "cell_type": "markdown",
   "metadata": {
    "colab_type": "text",
    "id": "MjqbbxyEJqyr"
   },
   "source": [
    "\n",
    "Q81. Write the NumPy program to copy data from a given array to another array?"
   ]
  },
  {
   "cell_type": "code",
   "execution_count": 0,
   "metadata": {
    "colab": {
     "base_uri": "https://localhost:8080/",
     "height": 84
    },
    "colab_type": "code",
    "id": "EgrwkSb8Js33",
    "outputId": "223c8622-7da8-4f22-83c8-567c5f352da5"
   },
   "outputs": [
    {
     "name": "stdout",
     "output_type": "stream",
     "text": [
      "Original array-\n",
      "[24 27 30 29 18 14]\n",
      "Copy of the said array-\n",
      "[24 27 30 29 18 14]\n"
     ]
    }
   ],
   "source": [
    "import numpy as np\n",
    "x = np.array([24, 27, 30, 29, 18, 14])\n",
    "print('Original array-')\n",
    "print(x)\n",
    "y = np.copy(x)\n",
    "print('Copy of the said array-')\n",
    "print(y)"
   ]
  },
  {
   "cell_type": "markdown",
   "metadata": {
    "colab_type": "text",
    "id": "rJWt8-APKzUD"
   },
   "source": [
    "### Q82. Write theNumPy program to calculate the sum of all columns of the2D numpy array?\n",
    "\n",
    "> Indented block\n",
    "\n"
   ]
  },
  {
   "cell_type": "code",
   "execution_count": 11,
   "metadata": {
    "colab": {
     "base_uri": "https://localhost:8080/",
     "height": 136
    },
    "colab_type": "code",
    "id": "b4FA6TQ3K8kr",
    "outputId": "152bbfc8-9d23-435f-c84b-56454ae5e832"
   },
   "outputs": [
    {
     "name": "stdout",
     "output_type": "stream",
     "text": [
      "Original array:\n",
      "[[ 0  1  2  3  4  5  6  7  8]\n",
      " [ 9 10 11 12 13 14 15 16 17]\n",
      " [18 19 20 21 22 23 24 25 26]\n",
      " [27 28 29 30 31 32 33 34 35]]\n",
      "\n",
      "Sum of all columns:\n",
      "[54 58 62 66 70 74 78 82 86]\n"
     ]
    }
   ],
   "source": [
    "import numpy as np \n",
    "num = np.arange(36) \n",
    "arr1 = np.reshape(num, [4, 9]) \n",
    "print(\"Original array:\") \n",
    "print(arr1) \n",
    "result = arr1.sum(axis=0) \n",
    "print(\"\\nSum of all columns:\") \n",
    "print(result)"
   ]
  },
  {
   "cell_type": "markdown",
   "metadata": {
    "colab_type": "text",
    "id": "kXpRgHSYMSYG"
   },
   "source": [
    "### Q83. Write theNumPy program to calculate averages without NaNs along thegiven array?"
   ]
  },
  {
   "cell_type": "code",
   "execution_count": 0,
   "metadata": {
    "colab": {
     "base_uri": "https://localhost:8080/",
     "height": 134
    },
    "colab_type": "code",
    "id": "xFeUPPPAMVg8",
    "outputId": "24f3438c-7fb9-4169-9bb8-9102b612ad7b"
   },
   "outputs": [
    {
     "name": "stdout",
     "output_type": "stream",
     "text": [
      "Original array-\n",
      "[[10. 20. 30.]\n",
      " [40. 50. nan]\n",
      " [nan  6. nan]\n",
      " [nan nan nan]]\n",
      "Averages without NaNs along the said array-\n",
      "[20. 45.  6. nan]\n"
     ]
    }
   ],
   "source": [
    "import numpy as np\n",
    "\n",
    "arr1 = np.array([[10, 20 ,30], [40, 50, np.nan], [np.nan, 6, np.nan], [np.nan, np.nan, np.nan]])\n",
    "print('Original array-')\n",
    "print(arr1)\n",
    "\n",
    "masked_arr = np.ma.masked_array(arr1, np.isnan(arr1))\n",
    "average = np.mean(masked_arr, axis=1)\n",
    "\n",
    "print('Averages without NaNs along the said array-')\n",
    "print(result.filled(np.nan))"
   ]
  },
  {
   "cell_type": "markdown",
   "metadata": {
    "colab_type": "text",
    "id": "iYaqvPmBYNUg"
   },
   "source": [
    "### Q84. Create two arrays of six elements. Write the NumPy program to count the number of instances of a value occurring in one array on the condition of another array."
   ]
  },
  {
   "cell_type": "code",
   "execution_count": 0,
   "metadata": {
    "colab": {
     "base_uri": "https://localhost:8080/",
     "height": 51
    },
    "colab_type": "code",
    "id": "0HsWLaCuY-L3",
    "outputId": "cb186525-14d2-4482-f328-8d9b9c08b192"
   },
   "outputs": [
    {
     "name": "stdout",
     "output_type": "stream",
     "text": [
      "Number of instances of a value occurring in one array on the condition of another\n",
      "3\n"
     ]
    }
   ],
   "source": [
    "import numpy as np\n",
    "\n",
    "a = np.array( [ 10, -10, 10, -10, -10, 10] )\n",
    "b = np.array( [0.85, 0.45, 0.9, 0.8, 0.12, 0.6 ] )  \n",
    "c = np.sum( (a == 10) & (b >= .6))\n",
    "print('Number of instances of a value occurring in one array on the condition of another')\n",
    "print(c)"
   ]
  },
  {
   "cell_type": "markdown",
   "metadata": {
    "colab_type": "text",
    "id": "BPIcdpmkaBM2"
   },
   "source": [
    "### Q85.Write the NumPy program to convert a Python dictionary to a Numpy ndarray ?"
   ]
  },
  {
   "cell_type": "code",
   "execution_count": 13,
   "metadata": {
    "colab": {
     "base_uri": "https://localhost:8080/",
     "height": 190
    },
    "colab_type": "code",
    "id": "REtMY03uaGrx",
    "outputId": "a00cb346-ad62-4826-cf22-3fa73e055f95"
   },
   "outputs": [
    {
     "name": "stdout",
     "output_type": "stream",
     "text": [
      "\n",
      "Original dictionary:\n",
      "{'column0': {'a': 1, 'b': 0.0, 'c': 0.0, 'd': 2.0}, 'column1': {'a': 3.0, 'b': 1, 'c': 0.0, 'd': -1.0}, 'column2': {'a': 4, 'b': 1, 'c': 5.0, 'd': -1.0}, 'column3': {'a': 3.0, 'b': -1.0, 'c': -1.0, 'd': -1.0}}\n",
      "Type:  <class 'dict'>\n",
      "\n",
      "ndarray:\n",
      "[[ 1.  0.  0.  2.]\n",
      " [ 3.  1.  0. -1.]\n",
      " [ 4.  1.  5. -1.]\n",
      " [ 3. -1. -1. -1.]]\n",
      "Type:  <class 'numpy.ndarray'>\n"
     ]
    }
   ],
   "source": [
    "import numpy as np \n",
    "from ast import literal_eval \n",
    "udict = \"\"\"{\"column0\":{\"a\":1,\"b\":0.0,\"c\":0.0,\"d\":2.0},\n",
    "\"column1\":{\"a\":3.0,\"b\":1,\"c\":0.0,\"d\":-1.0},\n",
    "\"column2\":{\"a\":4,\"b\":1,\"c\":5.0,\"d\":-1.0},\n",
    "\"column3\":{\"a\":3.0,\"b\":-1.0,\"c\":-1.0,\"d\":-1.0}\n",
    "}\"\"\" \n",
    "t = literal_eval(udict)\n",
    "print(\"\\nOriginal dictionary:\") \n",
    "print(t) \n",
    "print(\"Type: \",type(t)) \n",
    "result_nparra = np.array([[v[j] for j in ['a', 'b', 'c', 'd']] for k, v in t.items()])\n",
    "print(\"\\nndarray:\") \n",
    "print(result_nparra) \n",
    "print(\"Type: \",type(result_nparra))"
   ]
  },
  {
   "cell_type": "markdown",
   "metadata": {
    "colab_type": "text",
    "id": "HXOZPozeHkSU"
   },
   "source": [
    "### Q86. Write the Numpy program to find and store the non-zero unique rows in an array after comparing each row with other row in the given matrix?"
   ]
  },
  {
   "cell_type": "code",
   "execution_count": 4,
   "metadata": {
    "colab": {
     "base_uri": "https://localhost:8080/",
     "height": 306
    },
    "colab_type": "code",
    "id": "dYz7d2gIH-dl",
    "outputId": "8b504737-a017-4935-baf5-4c69046a2d73"
   },
   "outputs": [
    {
     "name": "stdout",
     "output_type": "stream",
     "text": [
      "Non-zero unique rows-\n",
      "[[ 1  1  0]\n",
      " [ 0  2  3]\n",
      " [ 0 -1  1]]\n"
     ]
    }
   ],
   "source": [
    "# https://www.w3resource.com/python-exercises/numpy/python-numpy-exercise-172.php\n",
    "import numpy as np\n",
    "x = np.array([[1, 1, 0],\n",
    "              [0, 0, 0],\n",
    "              [0, 2, 3],\n",
    "              [0, 0, 0],\n",
    "              [0, -1, 1],\n",
    "              [0, 0, 0]])\n",
    "\n",
    "temp = {(0, 0, 0 )}\n",
    "result = []\n",
    "\n",
    "for idx, row in enumerate(map(tuple, x)):\n",
    "    \n",
    "    if row not in temp:\n",
    "        result.append(idx)\n",
    "print('Non-zero unique rows-')\n",
    "print(x[result])"
   ]
  },
  {
   "cell_type": "markdown",
   "metadata": {
    "colab_type": "text",
    "id": "YMiV1RaYp6lj"
   },
   "source": [
    "### Q87. Write the NumPy program to multiply the matrix by another matrix of complex numbers and create a new matrix of complex numbers?"
   ]
  },
  {
   "cell_type": "code",
   "execution_count": 1,
   "metadata": {},
   "outputs": [],
   "source": [
    "import numpy as np"
   ]
  },
  {
   "cell_type": "code",
   "execution_count": 4,
   "metadata": {
    "colab": {
     "base_uri": "https://localhost:8080/",
     "height": 119
    },
    "colab_type": "code",
    "id": "E96k_3epqghn",
    "outputId": "1182718d-e3d2-49fc-9e24-ce04df266734"
   },
   "outputs": [
    {
     "name": "stdout",
     "output_type": "stream",
     "text": [
      "Matrix product of the complex umber is (109-56j)\n"
     ]
    }
   ],
   "source": [
    "x = np.array([1+3j, 2+9j])\n",
    "y = np.array([5+6j, 7+8j])\n",
    "\n",
    "z = np.vdot(x,y)\n",
    "print(f'Matrix product of the complex umber is {z}')"
   ]
  },
  {
   "cell_type": "markdown",
   "metadata": {
    "colab_type": "text",
    "id": "_3O0L5y4r6kM"
   },
   "source": [
    "### Q88. Write a NumPy program to generate the matrix product of two Arrays?\n",
    "\n",
    "Sample Output- \n",
    "Matrices and vectors.\n",
    "x- [[1, 0], [1, 1]] \n",
    "y- [[3, 1], [2, 2]] \n",
    "Matrix product of above two arrays-\n",
    "\n",
    "[[3 1] [5 3]]"
   ]
  },
  {
   "cell_type": "code",
   "execution_count": 6,
   "metadata": {
    "colab": {
     "base_uri": "https://localhost:8080/",
     "height": 170
    },
    "colab_type": "code",
    "id": "16Y6w9oFsHbg",
    "outputId": "117597a9-98f1-4b99-8cbe-86ca75fb95af"
   },
   "outputs": [
    {
     "name": "stdout",
     "output_type": "stream",
     "text": [
      "matrix product of above two arrays- [[3 1]\n",
      " [5 3]]\n"
     ]
    }
   ],
   "source": [
    "\n",
    "x = np.array([[1,0],[1,1] ])\n",
    "y = np.array([[3,1],[2,2]])\n",
    "z = x @ y\n",
    "\n",
    "print(f'matrix product of above two arrays- {z}')"
   ]
  },
  {
   "cell_type": "markdown",
   "metadata": {
    "colab_type": "text",
    "id": "PDAXT1L8vLjH"
   },
   "source": [
    "### Q89. Write the NumPy program to find roots of the following Polynomials?\n",
    "a) (x2 - 4x + 7) \n",
    "b) x4 - 11x3 + 9x2 + 11x ? 10 \n",
    "Sample output- Roots of the first polynomial- [ 1. 1.] \n",
    "Roots of the second polynomial- [ 11.04461946+0.j -0.87114210+0.j 0.91326132+0.4531004j 0.91326132-0.4531004j ]"
   ]
  },
  {
   "cell_type": "code",
   "execution_count": 7,
   "metadata": {
    "colab": {
     "base_uri": "https://localhost:8080/",
     "height": 102
    },
    "colab_type": "code",
    "id": "152B3YRZvm-8",
    "outputId": "88a6d950-7c85-4f35-a59e-916683b57035"
   },
   "outputs": [
    {
     "name": "stdout",
     "output_type": "stream",
     "text": [
      "Roots of the first polynomial- [1. 1.]\n",
      "Roots of the first polynomial- [11.04461946+0.j        -0.8711421 +0.j         0.91326132+0.4531004j\n",
      "  0.91326132-0.4531004j]\n"
     ]
    }
   ],
   "source": [
    "# Coefficient of eqn a\n",
    "coeff_a = [1, -2, 1]\n",
    "print(f'Roots of the first polynomial- {np.roots(coeff_a)}')\n",
    "\n",
    "# Coefficient of eqn b\n",
    "coeff_b = [1, -12, 10, 7, -10]\n",
    "print(f'Roots of the first polynomial- {np.roots(coeff_b)}')"
   ]
  },
  {
   "cell_type": "markdown",
   "metadata": {
    "colab_type": "text",
    "id": "YlWBORrGvuvK"
   },
   "source": [
    "### Q90. Write the NumPy program to calculate inverse of sine, cosine,and inverse tangent for all elements in a given array?\n",
    "Sample output- \n",
    "Inverse sine- [-1.57079633 0. 1.57079633] \n",
    "Inverse cosine- [3.14159265 1.57079633 0. ] \n",
    "Inverse tangent- [-0.78539816 0. 0.78539816]"
   ]
  },
  {
   "cell_type": "code",
   "execution_count": 9,
   "metadata": {},
   "outputs": [
    {
     "name": "stdout",
     "output_type": "stream",
     "text": [
      "[-1.  0.  1.]\n"
     ]
    }
   ],
   "source": [
    "print(np.sin(np.array((-1.57079633, 0., 1.57079633))))"
   ]
  },
  {
   "cell_type": "code",
   "execution_count": 10,
   "metadata": {
    "colab": {
     "base_uri": "https://localhost:8080/",
     "height": 68
    },
    "colab_type": "code",
    "id": "VOjjn508v0Ac",
    "outputId": "2c633042-0c2e-4a46-ac0d-323eb6617ddf"
   },
   "outputs": [
    {
     "name": "stdout",
     "output_type": "stream",
     "text": [
      "Inverse sine-[-1.57079633  0.          1.57079633]\n",
      "Inverse cosine-[3.14159265 1.57079633 0.        ]\n",
      "Inverse tangent-[-0.78539816  0.          0.78539816]\n"
     ]
    }
   ],
   "source": [
    "x = np.array([-1., 0, 1.])\n",
    "print(f'Inverse sine-{np.arcsin(x)}')\n",
    "print(f'Inverse cosine-{np.arccos(x)}')\n",
    "print(f'Inverse tangent-{np.arctan(x)}')\n",
    "\n"
   ]
  },
  {
   "cell_type": "markdown",
   "metadata": {
    "colab_type": "text",
    "id": "TgHXNMt3zci8"
   },
   "source": [
    "### Q91.Write the NumPy program to calculate the difference between neighbouring elements, element-wise of a given array?\n",
    "Sample output- \n",
    "Original array- [1 3 5 7 0] \n",
    "Difference between neighbouring elements, element-wise of the said array- [ 2 2 2 -7]\n"
   ]
  },
  {
   "cell_type": "code",
   "execution_count": 1,
   "metadata": {
    "colab": {
     "base_uri": "https://localhost:8080/",
     "height": 85
    },
    "colab_type": "code",
    "id": "p1Xm2dYcz-WB",
    "outputId": "0731fbcc-7c75-4bbe-e23e-ef9a1e8ae8e4"
   },
   "outputs": [
    {
     "name": "stdout",
     "output_type": "stream",
     "text": [
      "Difference between neighboring elements, element-wise of the said array-[ 2  2  2 -7]\n"
     ]
    }
   ],
   "source": [
    "import numpy as np\n",
    "x = np.array([1, 3, 5, 7, 0])\n",
    "print(f'Difference between neighboring elements, element-wise of the said array-{np.diff(x)}')"
   ]
  },
  {
   "cell_type": "markdown",
   "metadata": {},
   "source": [
    "### Q92. Write the Python program to find the maximum and the minimum value of a given flattened array?\n",
    "Expected Output- \n",
    "Original flattened array- [[0 1] [2 3]] \n",
    "Maximum value of the above flattened array- 3\n",
    "Minimum value of the above flattened array- 0"
   ]
  },
  {
   "cell_type": "code",
   "execution_count": 4,
   "metadata": {},
   "outputs": [
    {
     "name": "stdout",
     "output_type": "stream",
     "text": [
      "Original flattened array- [[0 1]\n",
      " [2 3]]\n",
      "Maximum value of the above flattened array- 3\n",
      "Minimum value of the above flattened array- 0\n"
     ]
    }
   ],
   "source": [
    "# Creating an array\n",
    "x = np.arange(4)\n",
    "x = x.reshape((2,2)) # flattening an array\n",
    "print(f'Original flattened array- {x}')\n",
    "print(f'Maximum value of the above flattened array- {np.amax(x)}')\n",
    "print(f'Minimum value of the above flattened array- {np.amin(x)}')"
   ]
  },
  {
   "cell_type": "markdown",
   "metadata": {
    "colab_type": "text",
    "id": "kYwkKnG17rGL"
   },
   "source": [
    "### Q93. Write the NumPy program to calculate the difference between in the maximum and the minimum values of a given array along the second axis?\n",
    "\n",
    "Expected Output-\n",
    "Original array- [[ 0 1 2 3 4 5] [ 6 7 8 9 10 11]] \n",
    "Difference between the maximum and the minimum values of the said array- [5 5]"
   ]
  },
  {
   "cell_type": "code",
   "execution_count": 5,
   "metadata": {
    "colab": {
     "base_uri": "https://localhost:8080/",
     "height": 102
    },
    "colab_type": "code",
    "id": "oG-owgsb8siB",
    "outputId": "4d642aaf-ad87-464a-ab7c-90e8d4235655"
   },
   "outputs": [
    {
     "name": "stdout",
     "output_type": "stream",
     "text": [
      "Original array-\n",
      "[[ 0  1  2  3  4  5]\n",
      " [ 6  7  8  9 10 11]]\n",
      "[5 5]\n",
      "[5 5]\n",
      "Difference between the maximum and the minimum values of the said array-\n",
      "[5 5]\n"
     ]
    }
   ],
   "source": [
    "x = np.arange(12).reshape((2,6))\n",
    "print('Original array-')\n",
    "print(x)\n",
    "r1 = np.ptp(x , 1)\n",
    "print(r1)\n",
    "r2 = np.max(x,1) - np.min(x,1)\n",
    "print(r2)\n",
    "print('Difference between the maximum and the minimum values of the said array-')\n",
    "print(r1)"
   ]
  },
  {
   "cell_type": "markdown",
   "metadata": {
    "colab_type": "text",
    "id": "RGpH_1kdCp-Z"
   },
   "source": [
    "### Q94. Write the NumPy program to compute the weighted of the given array?"
   ]
  },
  {
   "cell_type": "code",
   "execution_count": 0,
   "metadata": {
    "colab": {
     "base_uri": "https://localhost:8080/",
     "height": 102
    },
    "colab_type": "code",
    "id": "7M4rLePmC7W9",
    "outputId": "c392141b-4dd4-49ab-9eb5-6beae545b5f2"
   },
   "outputs": [
    {
     "name": "stdout",
     "output_type": "stream",
     "text": [
      "Original array-\n",
      "[0 1 2 3 4]\n",
      "\n",
      "Weighted average of the said array-\n",
      "2.6666666666666665\n"
     ]
    }
   ],
   "source": [
    "import numpy as np\n",
    "x = np.array([0, 1, 2, 3, 4])\n",
    "print('Original array-')\n",
    "print(x)\n",
    "weights = np.arange(1, 6)\n",
    "print('\\nWeighted average of the said array-')\n",
    "r1 = np.average(x, weights = weights)\n",
    "r2 = (x*(weights/weights.sum())).sum() \n",
    "assert np.allclose(r1, r2)\n",
    "print(\"\\nWeighted average of the said array:\")\n",
    "print(r1)"
   ]
  },
  {
   "cell_type": "markdown",
   "metadata": {
    "colab_type": "text",
    "id": "KnLDnxtANMQ1"
   },
   "source": [
    "### Q95. Write the NumPy program to compute the mean, standard deviation, and the variance of a given array along the second axis?"
   ]
  },
  {
   "cell_type": "code",
   "execution_count": 0,
   "metadata": {
    "colab": {
     "base_uri": "https://localhost:8080/",
     "height": 153
    },
    "colab_type": "code",
    "id": "k74ygfOgNc64",
    "outputId": "9002f9e8-1d4e-49a9-bf1a-25baffc7ce66"
   },
   "outputs": [
    {
     "name": "stdout",
     "output_type": "stream",
     "text": [
      "Original array-\n",
      "[0 1 2 3 4 5]\n",
      "\n",
      "Mean- 2.5\n",
      "\n",
      "std- 1\n",
      "\n",
      "variance- 2.9166666666666665\n"
     ]
    }
   ],
   "source": [
    "import numpy as np\n",
    "x = np.arange(6)\n",
    "print('Original array-')\n",
    "print(x)\n",
    "\n",
    "mean = np.mean(x)\n",
    "avg = np.average(x)\n",
    "print('\\nMean-', mean)\n",
    "\n",
    "std = np.std(x)\n",
    "print('\\nstd-', 1)\n",
    "var = np.var(x)\n",
    "print('\\nvariance-', var)\n"
   ]
  },
  {
   "cell_type": "markdown",
   "metadata": {
    "colab_type": "text",
    "id": "emZHoXTgQAhM"
   },
   "source": [
    "### Q96. Write the Numpy program to compute the covariance matrix of the two given arrays?"
   ]
  },
  {
   "cell_type": "code",
   "execution_count": 0,
   "metadata": {
    "colab": {
     "base_uri": "https://localhost:8080/",
     "height": 204
    },
    "colab_type": "code",
    "id": "k5CNUDYHQQrs",
    "outputId": "2e761a47-b794-45a8-d7d2-16b5cd3fe114"
   },
   "outputs": [
    {
     "name": "stdout",
     "output_type": "stream",
     "text": [
      "\n",
      "Original array1-\n",
      "[0 1 2]\n",
      "\n",
      "Original array-2\n",
      "[2 1 0]\n",
      "\n",
      "Covariance matrix of the said arrays:\n",
      "\n",
      "[[ 1. -1.]\n",
      " [-1.  1.]]\n"
     ]
    }
   ],
   "source": [
    "import numpy as np\n",
    "x = np.array([0, 1, 2])\n",
    "y = np.array([2, 1, 0])\n",
    "print('\\nOriginal array1-')\n",
    "print(x)\n",
    "print('\\nOriginal array-2')\n",
    "print(y)\n",
    "print('\\nCovariance matrix of the said arrays:\\n')\n",
    "print(np.cov(x,y))"
   ]
  },
  {
   "cell_type": "markdown",
   "metadata": {
    "colab_type": "text",
    "id": "pWWGwDgpQ7xV"
   },
   "source": [
    "### Q97.Write a NumPy program to compute the cross-correlation of two given arrays ?"
   ]
  },
  {
   "cell_type": "code",
   "execution_count": 2,
   "metadata": {
    "colab": {
     "base_uri": "https://localhost:8080/",
     "height": 185
    },
    "colab_type": "code",
    "id": "O1cTaCISCNpE",
    "outputId": "b90635ad-040f-4321-e2c2-8079508d27f7"
   },
   "outputs": [
    {
     "name": "stdout",
     "output_type": "stream",
     "text": [
      "\n",
      "Original array1-\n",
      "[0 1 3]\n",
      "\n",
      "Original array2-\n",
      "[2 4 5]\n",
      "\n",
      "Cross-correlation of the said arrays-\n",
      "[[2.33333333 2.16666667]\n",
      " [2.16666667 2.33333333]]\n"
     ]
    }
   ],
   "source": [
    "import numpy as np\n",
    "x = np.array([0, 1, 3])\n",
    "y = np.array([2, 4, 5])\n",
    "print('\\nOriginal array1-')\n",
    "print(x)\n",
    "print('\\nOriginal array2-')\n",
    "print(y)\n",
    "print('\\nCross-correlation of the said arrays-')\n",
    "print(np.cov(x, y))"
   ]
  },
  {
   "cell_type": "markdown",
   "metadata": {
    "colab_type": "text",
    "id": "G8KmhgCXDFNb"
   },
   "source": [
    "### Q98. Write theNumPy program to compute Pearson product-moment correlation coefficients of two given arrays?"
   ]
  },
  {
   "cell_type": "code",
   "execution_count": 4,
   "metadata": {
    "colab": {
     "base_uri": "https://localhost:8080/",
     "height": 185
    },
    "colab_type": "code",
    "id": "synQReuKDRQd",
    "outputId": "c4b4eeaa-e49b-45f7-ebf2-249daeaec04e"
   },
   "outputs": [
    {
     "name": "stdout",
     "output_type": "stream",
     "text": [
      "\n",
      "Original array1-\n",
      "[0 1 3]\n",
      "\n",
      "Original array2-\n",
      "[2 4 5]\n",
      "\n",
      "Pearson product-moment correlation coefficients of the said arrays\n"
     ]
    },
    {
     "data": {
      "text/plain": [
       "array([[1.        , 0.92857143],\n",
       "       [0.92857143, 1.        ]])"
      ]
     },
     "execution_count": 4,
     "metadata": {
      "tags": []
     },
     "output_type": "execute_result"
    }
   ],
   "source": [
    "import numpy as np\n",
    "x = np.array([0, 1, 3])\n",
    "y = np.array([2, 4, 5])\n",
    "print('\\nOriginal array1-')\n",
    "print(x)\n",
    "print('\\nOriginal array2-')\n",
    "print(y)\n",
    "print('\\nPearson product-moment correlation coefficients of the said arrays')\n",
    "np.corrcoef(x, y)"
   ]
  },
  {
   "cell_type": "markdown",
   "metadata": {
    "colab_type": "text",
    "id": "gk8pC9ptEDrO"
   },
   "source": [
    "### Q99.Write the python program to count the number of occurrences of each value in a given array of non-negative integers?"
   ]
  },
  {
   "cell_type": "code",
   "execution_count": 5,
   "metadata": {
    "colab": {
     "base_uri": "https://localhost:8080/",
     "height": 84
    },
    "colab_type": "code",
    "id": "uH6rr2dwEIKc",
    "outputId": "082b345c-5f99-4943-f471-06386af71ba9"
   },
   "outputs": [
    {
     "name": "stdout",
     "output_type": "stream",
     "text": [
      "Original array\n",
      "[0, 1, 6, 1, 4, 1, 2, 2, 7]\n",
      "Number of occurrences of each value in array-\n",
      "[1 3 2 0 1 0 1 1]\n"
     ]
    }
   ],
   "source": [
    "import numpy as np\n",
    "x = [0, 1, 6, 1, 4, 1, 2, 2, 7]\n",
    "print('Original array')\n",
    "print(x)\n",
    "print('Number of occurrences of each value in array-')\n",
    "print(np.bincount(x))"
   ]
  },
  {
   "cell_type": "markdown",
   "metadata": {
    "colab_type": "text",
    "id": "QSzHMa2gFGOS"
   },
   "source": [
    "### Q100. Write a Numpy program to compute the histogram of nums against the bins?"
   ]
  },
  {
   "cell_type": "code",
   "execution_count": 7,
   "metadata": {
    "colab": {
     "base_uri": "https://localhost:8080/",
     "height": 315
    },
    "colab_type": "code",
    "id": "lAj2KenYFNqx",
    "outputId": "f0aa4d83-1b0b-4afe-917a-139ba73d8767"
   },
   "outputs": [
    {
     "name": "stdout",
     "output_type": "stream",
     "text": [
      "nums-  [0.5 0.7 1.  1.2 1.3 2.1]\n",
      "bins- [0 1 2 3]\n",
      "Result- (array([2, 3, 1]), array([0, 1, 2, 3]))\n"
     ]
    },
    {
     "data": {
      "image/png": "[encoded data removed]",
      "text/plain": [
       "<Figure size 432x288 with 1 Axes>"
      ]
     },
     "metadata": {
      "tags": []
     },
     "output_type": "display_data"
    }
   ],
   "source": [
    "import numpy as np\n",
    "import matplotlib.pyplot as plt\n",
    "nums = np.array([0.5, 0.7, 1.0, 1.2, 1.3, 2.1])\n",
    "bins = np.array([0, 1, 2, 3])\n",
    "print('nums- ', nums)\n",
    "print('bins-', bins)\n",
    "print('Result-', np.histogram(nums, bins))\n",
    "plt.hist(nums, bins=bins)\n",
    "plt.show()"
   ]
  },
  {
   "cell_type": "markdown",
   "metadata": {
    "colab_type": "text",
    "id": "uVFlOlJBGjKH"
   },
   "source": [
    "### Q101. Write the Python program to add, subtract, multiplyand divide two pandas series?"
   ]
  },
  {
   "cell_type": "code",
   "execution_count": 12,
   "metadata": {
    "colab": {
     "base_uri": "https://localhost:8080/",
     "height": 538
    },
    "colab_type": "code",
    "id": "OQ1gmESQG3ce",
    "outputId": "e0677499-00c1-4910-c666-a1d3af43fd1e"
   },
   "outputs": [
    {
     "name": "stdout",
     "output_type": "stream",
     "text": [
      "s1 + s2\n",
      "0     3\n",
      "1     7\n",
      "2    11\n",
      "3    15\n",
      "4    19\n",
      "dtype: int64\n",
      "\n",
      "s1 - s2\n",
      "0     3\n",
      "1     7\n",
      "2    11\n",
      "3    15\n",
      "4    19\n",
      "dtype: int64\n",
      "\n",
      "s1 * s2\n",
      "0     2\n",
      "1    12\n",
      "2    30\n",
      "3    56\n",
      "4    90\n",
      "dtype: int64\n",
      "\n",
      "s1 / s2\n",
      "0    2.000000\n",
      "1    1.333333\n",
      "2    1.200000\n",
      "3    1.142857\n",
      "4    1.111111\n",
      "dtype: float64\n"
     ]
    }
   ],
   "source": [
    "import pandas as pd\n",
    "s1 = pd.Series([2, 4, 6, 8, 10])\n",
    "s2 = pd.Series([1, 3, 5, 7, 9])\n",
    "print('s1 + s2')\n",
    "print(s1+s2)\n",
    "print('\\ns1 - s2')\n",
    "print(s1 + s2)\n",
    "print('\\ns1 * s2')\n",
    "print(s1 * s2)\n",
    "print('\\ns1 / s2')\n",
    "print(s1/s2)"
   ]
  },
  {
   "cell_type": "markdown",
   "metadata": {
    "colab_type": "text",
    "id": "JvCckjE_H4lL"
   },
   "source": [
    "### Q102.Write a Python program to convert a dictionary to thePandas Series?"
   ]
  },
  {
   "cell_type": "code",
   "execution_count": 19,
   "metadata": {
    "colab": {
     "base_uri": "https://localhost:8080/",
     "height": 168
    },
    "colab_type": "code",
    "id": "rbXBmhzDH_JM",
    "outputId": "8de573b4-810a-4e0d-f3f0-301698f3f6e2"
   },
   "outputs": [
    {
     "name": "stdout",
     "output_type": "stream",
     "text": [
      "Original dictionary-\n",
      "{'a': 100, 'b': 200, 'c': 300, 'd': 400, 'e': 800}\n",
      "Converted series-\n",
      "a    100\n",
      "b    200\n",
      "c    300\n",
      "d    400\n",
      "e    800\n",
      "dtype: int64\n"
     ]
    }
   ],
   "source": [
    "import pandas as pd\n",
    "dict = {'a': 100, 'b':200, 'c': 300, 'd': 400, 'e': 800}\n",
    "s = pd.Series(dict)\n",
    "print('Original dictionary-')\n",
    "print(dict)\n",
    "print('Converted series-')\n",
    "print(s)"
   ]
  },
  {
   "cell_type": "markdown",
   "metadata": {
    "colab_type": "text",
    "id": "md2_RrlDI2aE"
   },
   "source": [
    "### Q103.Write a python program to change the data typeof given a column or a Series?"
   ]
  },
  {
   "cell_type": "code",
   "execution_count": 23,
   "metadata": {
    "colab": {
     "base_uri": "https://localhost:8080/",
     "height": 252
    },
    "colab_type": "code",
    "id": "l_u2CiXaJBuY",
    "outputId": "c66c9190-55fd-4d48-afd1-545480e6ff1a"
   },
   "outputs": [
    {
     "name": "stdout",
     "output_type": "stream",
     "text": [
      "Original Data Series-\n",
      "0       100\n",
      "1       200\n",
      "2    python\n",
      "3    300.12\n",
      "4       400\n",
      "dtype: object\n",
      "Change the said data type to numeric-\n",
      "0    100.00\n",
      "1    200.00\n",
      "2       NaN\n",
      "3    300.12\n",
      "4    400.00\n",
      "dtype: float64\n"
     ]
    }
   ],
   "source": [
    "import pandas as pd\n",
    "s1 = pd.Series(['100', '200', 'python', '300.12', '400'])\n",
    "print('Original Data Series-')\n",
    "print(s1)\n",
    "print('Change the said data type to numeric-')\n",
    "s2 = pd.to_numeric(s1, errors='coerce' )\n",
    "print(s2)"
   ]
  },
  {
   "cell_type": "markdown",
   "metadata": {
    "colab_type": "text",
    "id": "pSj3bCSfKVgh"
   },
   "source": [
    "### Q104. Write the python pandas program to convert the first column of a DataFrame as a Series?"
   ]
  },
  {
   "cell_type": "code",
   "execution_count": 33,
   "metadata": {
    "colab": {
     "base_uri": "https://localhost:8080/",
     "height": 302
    },
    "colab_type": "code",
    "id": "loourzN3KY7Q",
    "outputId": "7571e319-cabf-451b-886b-373c81dfbc0e"
   },
   "outputs": [
    {
     "name": "stdout",
     "output_type": "stream",
     "text": [
      "Original DataFrame-\n",
      "   col1  col2  col3\n",
      "0     1     4     7\n",
      "1     2     5     5\n",
      "2     3     6     8\n",
      "3     4     9    12\n",
      "4     7     5     1\n",
      "5    11     0    11\n",
      "1st column as a Series-\n",
      "0     1\n",
      "1     2\n",
      "2     3\n",
      "3     4\n",
      "4     7\n",
      "5    11\n",
      "Name: col1, dtype: int64\n",
      "<class 'pandas.core.series.Series'>\n"
     ]
    }
   ],
   "source": [
    "import pandas as pd\n",
    "d = {'col1': [1, 2, 3, 4, 7, 11], 'col2': [4, 5, 6, 9, 5, 0], 'col3': [7, 5, 8, 12, 1,11]}\n",
    "df = pd.DataFrame(d)\n",
    "print('Original DataFrame-')\n",
    "print(df)\n",
    "\n",
    "s = pd.Series(df['col1'])\n",
    "print('1st column as a Series-')\n",
    "print(s)\n",
    "print(type(s))"
   ]
  },
  {
   "cell_type": "markdown",
   "metadata": {
    "colab_type": "text",
    "id": "uGZERlHPM2Bw"
   },
   "source": [
    "### Q105. Write a pandas program to create the mean and standard deviation of the data of a given Series?"
   ]
  },
  {
   "cell_type": "code",
   "execution_count": 35,
   "metadata": {
    "colab": {
     "base_uri": "https://localhost:8080/",
     "height": 302
    },
    "colab_type": "code",
    "id": "Z5delCbrM46z",
    "outputId": "7a06b4fb-920f-427c-a214-c07089a1c5dc"
   },
   "outputs": [
    {
     "name": "stdout",
     "output_type": "stream",
     "text": [
      "Original Data Series:\n",
      "0     1\n",
      "1     2\n",
      "2     3\n",
      "3     4\n",
      "4     5\n",
      "5     6\n",
      "6     7\n",
      "7     8\n",
      "8     9\n",
      "9     5\n",
      "10    3\n",
      "dtype: int64\n",
      "Mean of the said Data Series-\n",
      "4.818181818181818\n",
      "Standard deviation of the said Data Series-\n",
      "2.522624895547565\n"
     ]
    }
   ],
   "source": [
    "import pandas as pd\n",
    "s = pd.Series([1,2,3,4,5,6,7,8,9,5,3])\n",
    "print('Original Data Series:')\n",
    "print(s)\n",
    "print('Mean of the said Data Series-')\n",
    "print(s.mean())\n",
    "print('Standard deviation of the said Data Series-')\n",
    "print(s.std())"
   ]
  },
  {
   "cell_type": "markdown",
   "metadata": {
    "colab_type": "text",
    "id": "9-neXn6-ON3n"
   },
   "source": [
    "### Q106.Write a pandas program to get powers of an array values element-wise?"
   ]
  },
  {
   "cell_type": "code",
   "execution_count": 40,
   "metadata": {
    "colab": {
     "base_uri": "https://localhost:8080/",
     "height": 296
    },
    "colab_type": "code",
    "id": "3kdz9WVcOWQ0",
    "outputId": "122b9588-67b6-41aa-fda3-c0c08376ae6b"
   },
   "outputs": [
    {
     "name": "stdout",
     "output_type": "stream",
     "text": [
      "    X   Y   Z\n",
      "0  78  84  86\n",
      "1  85  94  97\n",
      "2  96  89  96\n",
      "3  80  83  72\n",
      "4  86  86  83\n"
     ]
    },
    {
     "data": {
      "text/html": [
       "<div>\n",
       "<style scoped>\n",
       "    .dataframe tbody tr th:only-of-type {\n",
       "        vertical-align: middle;\n",
       "    }\n",
       "\n",
       "    .dataframe tbody tr th {\n",
       "        vertical-align: top;\n",
       "    }\n",
       "\n",
       "    .dataframe thead th {\n",
       "        text-align: right;\n",
       "    }\n",
       "</style>\n",
       "<table border=\"1\" class=\"dataframe\">\n",
       "  <thead>\n",
       "    <tr style=\"text-align: right;\">\n",
       "      <th></th>\n",
       "      <th>X</th>\n",
       "      <th>Y</th>\n",
       "      <th>Z</th>\n",
       "    </tr>\n",
       "  </thead>\n",
       "  <tbody>\n",
       "    <tr>\n",
       "      <th>0</th>\n",
       "      <td>474552</td>\n",
       "      <td>592704</td>\n",
       "      <td>636056</td>\n",
       "    </tr>\n",
       "    <tr>\n",
       "      <th>1</th>\n",
       "      <td>614125</td>\n",
       "      <td>830584</td>\n",
       "      <td>912673</td>\n",
       "    </tr>\n",
       "    <tr>\n",
       "      <th>2</th>\n",
       "      <td>884736</td>\n",
       "      <td>704969</td>\n",
       "      <td>884736</td>\n",
       "    </tr>\n",
       "    <tr>\n",
       "      <th>3</th>\n",
       "      <td>512000</td>\n",
       "      <td>571787</td>\n",
       "      <td>373248</td>\n",
       "    </tr>\n",
       "    <tr>\n",
       "      <th>4</th>\n",
       "      <td>636056</td>\n",
       "      <td>636056</td>\n",
       "      <td>571787</td>\n",
       "    </tr>\n",
       "  </tbody>\n",
       "</table>\n",
       "</div>"
      ],
      "text/plain": [
       "        X       Y       Z\n",
       "0  474552  592704  636056\n",
       "1  614125  830584  912673\n",
       "2  884736  704969  884736\n",
       "3  512000  571787  373248\n",
       "4  636056  636056  571787"
      ]
     },
     "execution_count": 40,
     "metadata": {
      "tags": []
     },
     "output_type": "execute_result"
    }
   ],
   "source": [
    "import pandas as pd\n",
    "import numpy as np\n",
    "df = pd.DataFrame( {'X':[78,85,96,80,86], 'Y':[84,94,89,83,86],'Z':[86,97,96,72,83]})\n",
    "print(df)\n",
    "np.power(df, 3)"
   ]
  },
  {
   "cell_type": "markdown",
   "metadata": {
    "colab_type": "text",
    "id": "dBzGRgAyQ38M"
   },
   "source": [
    "### Q107. Write thepandas program to get the first 3 rows of a given DataFrame?"
   ]
  },
  {
   "cell_type": "code",
   "execution_count": 52,
   "metadata": {
    "colab": {
     "base_uri": "https://localhost:8080/",
     "height": 118
    },
    "colab_type": "code",
    "id": "DZMZfLJkRPTJ",
    "outputId": "dfd7bacf-a9dd-4227-84e3-c78663d10112"
   },
   "outputs": [
    {
     "name": "stdout",
     "output_type": "stream",
     "text": [
      "\n",
      "First three rows of the data frame-\n",
      "   attempts       name qualify  score\n",
      "a         1  Anastasia     yes   12.5\n",
      "b         3       Dima      no    9.0\n",
      "c         2  Katherine     yes   16.5\n"
     ]
    }
   ],
   "source": [
    "import pandas as pd\n",
    "\n",
    "exam_data= {'name': ['Anastasia', 'Dima', 'Katherine', 'James', 'Emily', 'Michael', 'Matthew', 'Laura', 'Kevin', 'Jonas'],\n",
    "            'score': [12.5, 9, 16.5, np.nan, 9, 20, 14.5, np.nan, 8, 19],\n",
    "            'attempts':[1, 3, 2, 3, 2, 3, 1, 1, 2, 1],\n",
    "            'qualify':['yes', 'no', 'yes', 'no', 'no', 'yes', 'yes', 'no','no','yes']}\n",
    "labels = ['a', 'b', 'c', 'd', 'e', 'f', 'g', 'h', 'i', 'j']\n",
    "\n",
    "df = pd.DataFrame(exam_data, index = labels)\n",
    "print('\\nFirst three rows of the data frame-')\n",
    "df1 = df.iloc[:3]\n",
    "print(df1[ ['attempts','name', 'qualify', 'score'] ])\n"
   ]
  },
  {
   "cell_type": "markdown",
   "metadata": {
    "colab_type": "text",
    "id": "1oclt3plTsfV"
   },
   "source": [
    "### Q108: Write thepandas program to select the specified columns and the rows from a given data frame?"
   ]
  },
  {
   "cell_type": "code",
   "execution_count": 56,
   "metadata": {
    "colab": {
     "base_uri": "https://localhost:8080/",
     "height": 166
    },
    "colab_type": "code",
    "id": "ZSmcktJ_Tvbg",
    "outputId": "e29ae3cb-3272-4f04-e37b-01c7ed3af512"
   },
   "outputs": [
    {
     "data": {
      "text/html": [
       "<div>\n",
       "<style scoped>\n",
       "    .dataframe tbody tr th:only-of-type {\n",
       "        vertical-align: middle;\n",
       "    }\n",
       "\n",
       "    .dataframe tbody tr th {\n",
       "        vertical-align: top;\n",
       "    }\n",
       "\n",
       "    .dataframe thead th {\n",
       "        text-align: right;\n",
       "    }\n",
       "</style>\n",
       "<table border=\"1\" class=\"dataframe\">\n",
       "  <thead>\n",
       "    <tr style=\"text-align: right;\">\n",
       "      <th></th>\n",
       "      <th>name</th>\n",
       "      <th>score</th>\n",
       "    </tr>\n",
       "  </thead>\n",
       "  <tbody>\n",
       "    <tr>\n",
       "      <th>b</th>\n",
       "      <td>Dima</td>\n",
       "      <td>9.0</td>\n",
       "    </tr>\n",
       "    <tr>\n",
       "      <th>d</th>\n",
       "      <td>James</td>\n",
       "      <td>NaN</td>\n",
       "    </tr>\n",
       "    <tr>\n",
       "      <th>f</th>\n",
       "      <td>Michael</td>\n",
       "      <td>20.0</td>\n",
       "    </tr>\n",
       "    <tr>\n",
       "      <th>g</th>\n",
       "      <td>Matthew</td>\n",
       "      <td>14.5</td>\n",
       "    </tr>\n",
       "  </tbody>\n",
       "</table>\n",
       "</div>"
      ],
      "text/plain": [
       "      name  score\n",
       "b     Dima    9.0\n",
       "d    James    NaN\n",
       "f  Michael   20.0\n",
       "g  Matthew   14.5"
      ]
     },
     "execution_count": 56,
     "metadata": {
      "tags": []
     },
     "output_type": "execute_result"
    }
   ],
   "source": [
    "import pandas as pd\n",
    "\n",
    "exam_data = {'name': ['Anastasia', 'Dima', 'Katherine', 'James', 'Emily', 'Michael', 'Matthew', 'Laura', 'Kevin', 'Jonas'],\n",
    "             'score':[12.5, 9, 16.5, np.nan, 9, 20, 14.5, np.nan, 8, 19],\n",
    "             'attempts':[1, 3, 2, 3, 2, 3, 1, 1, 2, 1],\n",
    "             'qualify':['yes', 'no', 'yes', 'no', 'no', 'yes', 'yes', 'no', 'no', 'yes']}\n",
    "\n",
    "labels = ['a', 'b', 'c', 'd', 'e', 'f', 'g', 'h', 'i', 'j']\n",
    "\n",
    "df = pd.DataFrame(exam_data, index = labels)\n",
    "df.loc[['b','d','f','g'],['name','score']]\n"
   ]
  },
  {
   "cell_type": "markdown",
   "metadata": {
    "colab_type": "text",
    "id": "5rRiVN9rVKJG"
   },
   "source": [
    "### Q109.Write the pandas program to calculate mean score for each different student in DataFrame?"
   ]
  },
  {
   "cell_type": "code",
   "execution_count": 71,
   "metadata": {
    "colab": {
     "base_uri": "https://localhost:8080/",
     "height": 50
    },
    "colab_type": "code",
    "id": "GP_cRjomVSn-",
    "outputId": "b2f9d25a-251c-424c-81a3-c4ab8ac0d65c"
   },
   "outputs": [
    {
     "name": "stdout",
     "output_type": "stream",
     "text": [
      "Mean score for each different student in data frame\n",
      "13.5625\n"
     ]
    }
   ],
   "source": [
    "import pandas as pd\n",
    "\n",
    "exam_data= {'name': ['Anastasia', 'Dima', 'Katherine', 'James', 'Emily', 'Michael', 'Matthew', 'Laura', 'Kevin', 'Jonas'],\n",
    "            'score': [12.5, 9, 16.5, np.nan, 9, 20, 14.5, np.nan, 8, 19],\n",
    "            'attempts':[1, 3, 2, 3, 2, 3, 1, 1, 2, 1],\n",
    "            'qualify':['yes', 'no', 'yes', 'no', 'no', 'yes', 'yes', 'no', 'no', 'yes']}\n",
    "\n",
    "labels = ['a', 'b', 'c', 'd', 'e', 'f', 'g', 'h', 'i', 'j']\n",
    "df = pd.DataFrame(exam_data, index= labels)\n",
    "\n",
    "print('Mean score for each different student in data frame')\n",
    "print(df['score'].mean())"
   ]
  },
  {
   "cell_type": "markdown",
   "metadata": {
    "colab_type": "text",
    "id": "D8isuIZLYS8T"
   },
   "source": [
    "### Q110.Write thePandas program to rename columns of a given DataFrame?"
   ]
  },
  {
   "cell_type": "code",
   "execution_count": 78,
   "metadata": {
    "colab": {
     "base_uri": "https://localhost:8080/",
     "height": 185
    },
    "colab_type": "code",
    "id": "S71WlYxLY6E2",
    "outputId": "2e2c1dda-7c81-4f27-940c-38ef57e40963"
   },
   "outputs": [
    {
     "name": "stdout",
     "output_type": "stream",
     "text": [
      "Original DataFrame\n",
      "   col1  col2  col3\n",
      "0     1     4     7\n",
      "1     2     5     8\n",
      "2     3     6     9\n",
      "New dataframe after renaming columns\n",
      "   Column1  Column2  Column3\n",
      "0        1        4        7\n",
      "1        2        5        8\n",
      "2        3        6        9\n"
     ]
    }
   ],
   "source": [
    "import pandas as pd\n",
    "data = {'col1':[1, 2, 3], 'col2':[4, 5, 6], 'col3':[7, 8, 9]}\n",
    "df = pd.DataFrame(data)\n",
    "print('Original DataFrame')\n",
    "print(df)\n",
    "\n",
    "df = df.rename(columns={'col1':'Column1', 'col2':'Column2', 'col3':'Column3'})\n",
    "print('New dataframe after renaming columns')\n",
    "print(df)"
   ]
  },
  {
   "cell_type": "markdown",
   "metadata": {
    "colab_type": "text",
    "id": "z43qiACacUbX"
   },
   "source": [
    "### Q111.Write a pandas program to count city-wise number of people from a given of data set (city,name of the person)?"
   ]
  },
  {
   "cell_type": "code",
   "execution_count": 88,
   "metadata": {
    "colab": {
     "base_uri": "https://localhost:8080/",
     "height": 84
    },
    "colab_type": "code",
    "id": "M5mflmeVctS-",
    "outputId": "246fc01f-9d0a-42c2-f029-3f37e54ec760"
   },
   "outputs": [
    {
     "name": "stdout",
     "output_type": "stream",
     "text": [
      "          city  Number of people\n",
      "0   California                 4\n",
      "1      Georgia                 2\n",
      "2  Los Angeles                 4\n"
     ]
    }
   ],
   "source": [
    "import pandas as pd\n",
    "data = { 'name': ['Anastasia', 'Dima', 'Katherine', 'James', 'Emily', 'Michael', 'Matthew', 'Laura', 'Kevin', 'Jonas'],\n",
    "        'city': ['California', 'Los Angeles', 'California', 'California', 'California', 'Los Angeles', 'Los Angeles', 'Georgia', 'Georgia', 'Los Angeles']}\n",
    "df = pd.DataFrame(data)\n",
    "g1 = df.groupby(by=['city']).size().reset_index(name='Number of people')\n",
    "\n",
    "print(g1)"
   ]
  },
  {
   "cell_type": "markdown",
   "metadata": {
    "colab_type": "text",
    "id": "XmgevKbVeej_"
   },
   "source": [
    "### Q112. Write a pandas program to widen output display to see more columns?"
   ]
  },
  {
   "cell_type": "code",
   "execution_count": 97,
   "metadata": {
    "colab": {
     "base_uri": "https://localhost:8080/",
     "height": 134
    },
    "colab_type": "code",
    "id": "BAjqJhKeehQr",
    "outputId": "e7559db3-87db-4ef7-e32e-3dcdfcb1547d"
   },
   "outputs": [
    {
     "name": "stdout",
     "output_type": "stream",
     "text": [
      "Original DataFrame\n",
      "   col1  col2  col3\n",
      "0     1     4     7\n",
      "1     4     5     8\n",
      "2     3     6     9\n",
      "3     4     7     0\n",
      "4     5     8     1\n"
     ]
    }
   ],
   "source": [
    "import pandas as pd\n",
    "d = {'col1': [1, 4, 3, 4, 5], 'col2': [4, 5, 6, 7, 8], 'col3': [7, 8, 9, 0, 1]}\n",
    "df = pd.DataFrame(data=d)\n",
    "pd.set_option('display.max_rows', 500)\n",
    "pd.set_option('display.max_columns', 500)\n",
    "pd.set_option('display.width', 1000)\n",
    "print('Original DataFrame')\n",
    "print(df)"
   ]
  },
  {
   "cell_type": "markdown",
   "metadata": {
    "colab_type": "text",
    "id": "yR-AOCj3hBa1"
   },
   "source": [
    "### Q113.Write a pandas program to convert the dataframe column type from string to DateTime?"
   ]
  },
  {
   "cell_type": "code",
   "execution_count": 103,
   "metadata": {
    "colab": {
     "base_uri": "https://localhost:8080/",
     "height": 185
    },
    "colab_type": "code",
    "id": "PMERGTPthEFp",
    "outputId": "ef5b1b88-85f9-43d1-e3e8-e03ca97bd53f"
   },
   "outputs": [
    {
     "name": "stdout",
     "output_type": "stream",
     "text": [
      "String Date-\n",
      "0    3/11/2000\n",
      "1    3/12/2000\n",
      "2    3/13/2000\n",
      "dtype: object\n",
      "Original DataFrame (string to datetime)\n",
      "           0\n",
      "0 2000-03-11\n",
      "1 2000-03-12\n",
      "2 2000-03-13\n"
     ]
    }
   ],
   "source": [
    "import pandas as pd\n",
    "date = ['3/11/2000', '3/12/2000', '3/13/2000']\n",
    "s = pd.Series(date)\n",
    "print('String Date-')\n",
    "print(s)\n",
    "r = pd.to_datetime(s)\n",
    "df = pd.DataFrame(r)\n",
    "print('Original DataFrame (string to datetime)')\n",
    "print(df)"
   ]
  },
  {
   "cell_type": "markdown",
   "metadata": {
    "colab_type": "text",
    "id": "AD0XHgMfiwwc"
   },
   "source": [
    "### Q114. Write a pandas program to append the data to an empty DataFrame?"
   ]
  },
  {
   "cell_type": "code",
   "execution_count": 110,
   "metadata": {
    "colab": {
     "base_uri": "https://localhost:8080/",
     "height": 101
    },
    "colab_type": "code",
    "id": "hHTsAcBzjWfT",
    "outputId": "32c6636b-b8e5-42e1-dc18-4243585c8a9b"
   },
   "outputs": [
    {
     "name": "stdout",
     "output_type": "stream",
     "text": [
      "Original DataFrame-After appending some data\n",
      "   col1  col2\n",
      "0     0     0\n",
      "1     1     1\n",
      "2     2     2\n"
     ]
    }
   ],
   "source": [
    "import pandas as pd\n",
    "import numpy as np\n",
    "df = pd.DataFrame()\n",
    "data = pd.DataFrame({'col1':range(3), 'col2':range(3)})\n",
    "df = df.append(data)\n",
    "print('Original DataFrame-After appending some data')\n",
    "print(df)"
   ]
  },
  {
   "cell_type": "markdown",
   "metadata": {
    "colab_type": "text",
    "id": "oj7z02V0kaQn"
   },
   "source": [
    "### Q115. Write a pandas program to count the number of columns of a DataFrame?"
   ]
  },
  {
   "cell_type": "code",
   "execution_count": 114,
   "metadata": {
    "colab": {
     "base_uri": "https://localhost:8080/",
     "height": 168
    },
    "colab_type": "code",
    "id": "qF-c0IzekiNf",
    "outputId": "22515518-b547-44b1-ce1d-db1281a18060"
   },
   "outputs": [
    {
     "name": "stdout",
     "output_type": "stream",
     "text": [
      "Original DataFrame\n",
      "   col1  col2  col3\n",
      "0     1     4     7\n",
      "1     2     5     8\n",
      "2     3     6    12\n",
      "3     4     9     1\n",
      "4     7     5    11\n",
      "\n",
      "Number of columns- 3\n"
     ]
    }
   ],
   "source": [
    "import pandas as pd\n",
    "d = {'col1': [1, 2, 3, 4, 7], 'col2': [4, 5, 6, 9, 5], 'col3': [7, 8, 12, 1, 11]}\n",
    "df = pd.DataFrame(d)\n",
    "print('Original DataFrame')\n",
    "print(df)\n",
    "print('\\nNumber of columns-', len(df.columns))"
   ]
  },
  {
   "cell_type": "markdown",
   "metadata": {
    "colab_type": "text",
    "id": "UrEp7gXgl7x4"
   },
   "source": [
    "#### Q116. Write a Pandas program to remove the last n rows of a given DataFrame ?"
   ]
  },
  {
   "cell_type": "code",
   "execution_count": 119,
   "metadata": {
    "colab": {
     "base_uri": "https://localhost:8080/",
     "height": 252
    },
    "colab_type": "code",
    "id": "2LJLkQMCmna6",
    "outputId": "e71c3d4a-94be-41c1-8f41-f88fc9f1613b"
   },
   "outputs": [
    {
     "name": "stdout",
     "output_type": "stream",
     "text": [
      "Original DataFrame\n",
      "   col1  col2  col3\n",
      "0     1     4     7\n",
      "1     2     5     5\n",
      "2     3     6     8\n",
      "3     4     9    12\n",
      "4     7     5     1\n",
      "5    11     0    11\n",
      "\n",
      "After removing last 3 rows of the said DataFrame-\n",
      "   col1  col2  col3\n",
      "0     1     4     7\n",
      "1     2     5     5\n",
      "2     3     6     8\n"
     ]
    }
   ],
   "source": [
    "import pandas as pd\n",
    "\n",
    "data = {'col1': [1, 2, 3, 4, 7, 11],\n",
    "     'col2': [4, 5, 6, 9, 5, 0],\n",
    "     'col3': [7, 5, 8, 12, 1,11]}\n",
    "\n",
    "df =pd.DataFrame(data)\n",
    "print('Original DataFrame')\n",
    "print(df)\n",
    "print(\"\\nAfter removing last 3 rows of the said DataFrame-\")\n",
    "df1 = df.iloc[:3]\n",
    "print(df1)"
   ]
  },
  {
   "cell_type": "markdown",
   "metadata": {
    "colab_type": "text",
    "id": "PlyZkGKAnvvk"
   },
   "source": [
    "### Q117. Write a Pandas program to import excel data (coalpublic2013.xlsx ) into a Pandas dataframe."
   ]
  },
  {
   "cell_type": "code",
   "execution_count": 1,
   "metadata": {},
   "outputs": [
    {
     "name": "stdout",
     "output_type": "stream",
     "text": [
      "   Year  MSHA ID                       Mine_Name Production Labor_Hours\n",
      "0  2013   103381            Tacoa Highwall Miner      56004       22392\n",
      "1  2013   103404                Reid School Mine      28807        8447\n",
      "2  2013   100759  North River #1 Underground Min  14,40,115    4,74,784\n",
      "3  2013   103246                      Bear Creek      87587       29193\n",
      "4  2013   103451                     Knight Mine   1,47,499       46393\n"
     ]
    }
   ],
   "source": [
    "import pandas as pd\n",
    "import numpy as np\n",
    "df = pd.read_excel('coalpublic2013.xlsx')\n",
    "print(df.head())"
   ]
  },
  {
   "cell_type": "markdown",
   "metadata": {},
   "source": [
    "### Q118. Write a Pandas program to import excel data (coalpublic2013.xlsx ) into a dataframe and find details where \"Mine Name\" starts with \"P."
   ]
  },
  {
   "cell_type": "code",
   "execution_count": 1,
   "metadata": {},
   "outputs": [
    {
     "name": "stdout",
     "output_type": "stream",
     "text": [
      "    Year  MSHA ID                      Mine_Name  Production  Labor_Hours\n",
      "13  2013   103332                  Powhatan Mine      140521        61394\n",
      "18  2013   102976  Piney Woods Preparation Plant           0        14828\n",
      "19  2013   102976  Piney Woods Preparation Plant           0        23193\n"
     ]
    }
   ],
   "source": [
    "import pandas as pd\n",
    "import numpy as np\n",
    "\n",
    "df = pd.read_excel('coalpublic2013.xlsx')\n",
    "mask = df['Mine_Name'].str.startswith('P')\n",
    "print(df[mask])"
   ]
  },
  {
   "cell_type": "markdown",
   "metadata": {},
   "source": [
    "### Q119. Write a Pandas program to import excel data (employee.xlsx )into a Pandas dataframe and find the list of employees where hire_date> 01-01-07."
   ]
  },
  {
   "cell_type": "code",
   "execution_count": 3,
   "metadata": {},
   "outputs": [
    {
     "data": {
      "text/html": [
       "<div>\n",
       "<table border=\"1\" class=\"dataframe\">\n",
       "  <thead>\n",
       "    <tr style=\"text-align: right;\">\n",
       "      <th></th>\n",
       "      <th>emp_id</th>\n",
       "      <th>first_name</th>\n",
       "      <th>last_name</th>\n",
       "      <th>hire_date</th>\n",
       "    </tr>\n",
       "  </thead>\n",
       "  <tbody>\n",
       "    <tr>\n",
       "      <th>4</th>\n",
       "      <td>104</td>\n",
       "      <td>Bruce</td>\n",
       "      <td>Ernst</td>\n",
       "      <td>2007-05-21</td>\n",
       "    </tr>\n",
       "    <tr>\n",
       "      <th>7</th>\n",
       "      <td>107</td>\n",
       "      <td>Diana</td>\n",
       "      <td>Lorentz</td>\n",
       "      <td>2007-02-07</td>\n",
       "    </tr>\n",
       "    <tr>\n",
       "      <th>13</th>\n",
       "      <td>113</td>\n",
       "      <td>Luis</td>\n",
       "      <td>Popp</td>\n",
       "      <td>2007-12-07</td>\n",
       "    </tr>\n",
       "    <tr>\n",
       "      <th>19</th>\n",
       "      <td>119</td>\n",
       "      <td>Karen</td>\n",
       "      <td>Colmenares</td>\n",
       "      <td>2007-08-10</td>\n",
       "    </tr>\n",
       "  </tbody>\n",
       "</table>\n",
       "</div>"
      ],
      "text/plain": [
       "    emp_id first_name   last_name  hire_date\n",
       "4      104      Bruce       Ernst 2007-05-21\n",
       "7      107      Diana     Lorentz 2007-02-07\n",
       "13     113       Luis        Popp 2007-12-07\n",
       "19     119      Karen  Colmenares 2007-08-10"
      ]
     },
     "execution_count": 3,
     "metadata": {},
     "output_type": "execute_result"
    }
   ],
   "source": [
    "import pandas as pd\n",
    "import numpy as np\n",
    "df = pd.read_excel('employee.xlsx')\n",
    "df[df['hire_date']>'01-01-07']"
   ]
  },
  {
   "cell_type": "markdown",
   "metadata": {},
   "source": [
    "### Q120.Write a Pandas program to import excel data (employee.xlsx ) into a Pandas dataframe and find a list of the employees of a specified year"
   ]
  },
  {
   "cell_type": "code",
   "execution_count": 4,
   "metadata": {},
   "outputs": [
    {
     "data": {
      "text/html": [
       "<div>\n",
       "<table border=\"1\" class=\"dataframe\">\n",
       "  <thead>\n",
       "    <tr style=\"text-align: right;\">\n",
       "      <th></th>\n",
       "      <th>emp_id</th>\n",
       "      <th>first_name</th>\n",
       "      <th>last_name</th>\n",
       "      <th>hire_date</th>\n",
       "    </tr>\n",
       "  </thead>\n",
       "  <tbody>\n",
       "    <tr>\n",
       "      <th>1</th>\n",
       "      <td>101</td>\n",
       "      <td>Neena</td>\n",
       "      <td>Kochhar</td>\n",
       "      <td>2005-09-21</td>\n",
       "    </tr>\n",
       "    <tr>\n",
       "      <th>5</th>\n",
       "      <td>105</td>\n",
       "      <td>David</td>\n",
       "      <td>Austin</td>\n",
       "      <td>2005-06-25</td>\n",
       "    </tr>\n",
       "    <tr>\n",
       "      <th>10</th>\n",
       "      <td>110</td>\n",
       "      <td>John</td>\n",
       "      <td>Chen</td>\n",
       "      <td>2005-09-28</td>\n",
       "    </tr>\n",
       "    <tr>\n",
       "      <th>11</th>\n",
       "      <td>111</td>\n",
       "      <td>Ismael</td>\n",
       "      <td>Sciarra</td>\n",
       "      <td>2005-09-30</td>\n",
       "    </tr>\n",
       "    <tr>\n",
       "      <th>16</th>\n",
       "      <td>116</td>\n",
       "      <td>Shelli</td>\n",
       "      <td>Baida</td>\n",
       "      <td>2005-12-24</td>\n",
       "    </tr>\n",
       "    <tr>\n",
       "      <th>17</th>\n",
       "      <td>117</td>\n",
       "      <td>Sigal</td>\n",
       "      <td>Tobias</td>\n",
       "      <td>2005-07-24</td>\n",
       "    </tr>\n",
       "  </tbody>\n",
       "</table>\n",
       "</div>"
      ],
      "text/plain": [
       "    emp_id first_name last_name  hire_date\n",
       "1      101      Neena   Kochhar 2005-09-21\n",
       "5      105      David    Austin 2005-06-25\n",
       "10     110       John      Chen 2005-09-28\n",
       "11     111     Ismael   Sciarra 2005-09-30\n",
       "16     116     Shelli     Baida 2005-12-24\n",
       "17     117      Sigal    Tobias 2005-07-24"
      ]
     },
     "execution_count": 4,
     "metadata": {},
     "output_type": "execute_result"
    }
   ],
   "source": [
    "import pandas as pd\n",
    "import numpy as np\n",
    "df = pd.read_excel('employee.xlsx')\n",
    "df[pd.DatetimeIndex(df['hire_date']).year == 2005]"
   ]
  },
  {
   "cell_type": "markdown",
   "metadata": {},
   "source": [
    "### Q121.Write a pandas program to import three datasheets from a given excel data  (coalpublic2013.xlsx ) in to a single dataframe."
   ]
  },
  {
   "cell_type": "code",
   "execution_count": 9,
   "metadata": {},
   "outputs": [
    {
     "data": {
      "text/html": [
       "<div>\n",
       "<table border=\"1\" class=\"dataframe\">\n",
       "  <thead>\n",
       "    <tr style=\"text-align: right;\">\n",
       "      <th></th>\n",
       "      <th>Year</th>\n",
       "      <th>MSHA ID</th>\n",
       "      <th>Mine_Name</th>\n",
       "      <th>Production</th>\n",
       "      <th>Labor_Hours</th>\n",
       "    </tr>\n",
       "  </thead>\n",
       "  <tbody>\n",
       "    <tr>\n",
       "      <th>0</th>\n",
       "      <td>2013</td>\n",
       "      <td>103381</td>\n",
       "      <td>Tacoa Highwall Miner</td>\n",
       "      <td>56004</td>\n",
       "      <td>22392</td>\n",
       "    </tr>\n",
       "    <tr>\n",
       "      <th>1</th>\n",
       "      <td>2013</td>\n",
       "      <td>103404</td>\n",
       "      <td>Reid School Mine</td>\n",
       "      <td>28807</td>\n",
       "      <td>28447</td>\n",
       "    </tr>\n",
       "    <tr>\n",
       "      <th>2</th>\n",
       "      <td>2013</td>\n",
       "      <td>100759</td>\n",
       "      <td>North River #1 Underground Min</td>\n",
       "      <td>1440115</td>\n",
       "      <td>474784</td>\n",
       "    </tr>\n",
       "    <tr>\n",
       "      <th>3</th>\n",
       "      <td>2013</td>\n",
       "      <td>103246</td>\n",
       "      <td>Bear Creek</td>\n",
       "      <td>87587</td>\n",
       "      <td>29193</td>\n",
       "    </tr>\n",
       "    <tr>\n",
       "      <th>4</th>\n",
       "      <td>2013</td>\n",
       "      <td>103451</td>\n",
       "      <td>Knight Mine</td>\n",
       "      <td>147499</td>\n",
       "      <td>46393</td>\n",
       "    </tr>\n",
       "    <tr>\n",
       "      <th>5</th>\n",
       "      <td>2013</td>\n",
       "      <td>103433</td>\n",
       "      <td>Crane Central Mine</td>\n",
       "      <td>69339</td>\n",
       "      <td>47195</td>\n",
       "    </tr>\n",
       "    <tr>\n",
       "      <th>6</th>\n",
       "      <td>2013</td>\n",
       "      <td>100329</td>\n",
       "      <td>Concord Mine</td>\n",
       "      <td>0</td>\n",
       "      <td>144002</td>\n",
       "    </tr>\n",
       "    <tr>\n",
       "      <th>7</th>\n",
       "      <td>2013</td>\n",
       "      <td>100851</td>\n",
       "      <td>Oak Grove Mine</td>\n",
       "      <td>2269014</td>\n",
       "      <td>1001809</td>\n",
       "    </tr>\n",
       "    <tr>\n",
       "      <th>8</th>\n",
       "      <td>2013</td>\n",
       "      <td>102901</td>\n",
       "      <td>Shoal Creek Mine</td>\n",
       "      <td>0</td>\n",
       "      <td>12396</td>\n",
       "    </tr>\n",
       "    <tr>\n",
       "      <th>9</th>\n",
       "      <td>2013</td>\n",
       "      <td>102901</td>\n",
       "      <td>Shoal Creek Mine</td>\n",
       "      <td>1453024</td>\n",
       "      <td>1237415</td>\n",
       "    </tr>\n",
       "    <tr>\n",
       "      <th>10</th>\n",
       "      <td>2013</td>\n",
       "      <td>103180</td>\n",
       "      <td>Sloan Mountain Mine</td>\n",
       "      <td>327780</td>\n",
       "      <td>196963</td>\n",
       "    </tr>\n",
       "    <tr>\n",
       "      <th>11</th>\n",
       "      <td>2013</td>\n",
       "      <td>103182</td>\n",
       "      <td>Fishtrap</td>\n",
       "      <td>175058</td>\n",
       "      <td>87314</td>\n",
       "    </tr>\n",
       "    <tr>\n",
       "      <th>12</th>\n",
       "      <td>2013</td>\n",
       "      <td>103285</td>\n",
       "      <td>Narley Mine</td>\n",
       "      <td>154861</td>\n",
       "      <td>90584</td>\n",
       "    </tr>\n",
       "    <tr>\n",
       "      <th>13</th>\n",
       "      <td>2013</td>\n",
       "      <td>103332</td>\n",
       "      <td>Powhatan Mine</td>\n",
       "      <td>140521</td>\n",
       "      <td>61394</td>\n",
       "    </tr>\n",
       "    <tr>\n",
       "      <th>14</th>\n",
       "      <td>2013</td>\n",
       "      <td>103375</td>\n",
       "      <td>Johnson Mine</td>\n",
       "      <td>580</td>\n",
       "      <td>1900</td>\n",
       "    </tr>\n",
       "    <tr>\n",
       "      <th>15</th>\n",
       "      <td>2013</td>\n",
       "      <td>103419</td>\n",
       "      <td>Maxine-Pratt Mine</td>\n",
       "      <td>125824</td>\n",
       "      <td>107469</td>\n",
       "    </tr>\n",
       "    <tr>\n",
       "      <th>16</th>\n",
       "      <td>2013</td>\n",
       "      <td>103432</td>\n",
       "      <td>Skelton Creek</td>\n",
       "      <td>8252</td>\n",
       "      <td>220</td>\n",
       "    </tr>\n",
       "    <tr>\n",
       "      <th>17</th>\n",
       "      <td>2013</td>\n",
       "      <td>103437</td>\n",
       "      <td>Black Warrior Mine No 1</td>\n",
       "      <td>145924</td>\n",
       "      <td>70926</td>\n",
       "    </tr>\n",
       "    <tr>\n",
       "      <th>18</th>\n",
       "      <td>2013</td>\n",
       "      <td>102976</td>\n",
       "      <td>Piney Woods Preparation Plant</td>\n",
       "      <td>0</td>\n",
       "      <td>14828</td>\n",
       "    </tr>\n",
       "    <tr>\n",
       "      <th>19</th>\n",
       "      <td>2013</td>\n",
       "      <td>102976</td>\n",
       "      <td>Piney Woods Preparation Plant</td>\n",
       "      <td>0</td>\n",
       "      <td>23193</td>\n",
       "    </tr>\n",
       "    <tr>\n",
       "      <th>0</th>\n",
       "      <td>2013</td>\n",
       "      <td>103155</td>\n",
       "      <td>Corinth Prep Plant</td>\n",
       "      <td>0</td>\n",
       "      <td>27996</td>\n",
       "    </tr>\n",
       "    <tr>\n",
       "      <th>1</th>\n",
       "      <td>2013</td>\n",
       "      <td>103155</td>\n",
       "      <td>Corinth Prep Plant</td>\n",
       "      <td>0</td>\n",
       "      <td>51994</td>\n",
       "    </tr>\n",
       "    <tr>\n",
       "      <th>2</th>\n",
       "      <td>2013</td>\n",
       "      <td>103195</td>\n",
       "      <td>Mccollum/Sparks Branch Mine</td>\n",
       "      <td>71910</td>\n",
       "      <td>17411</td>\n",
       "    </tr>\n",
       "    <tr>\n",
       "      <th>3</th>\n",
       "      <td>2013</td>\n",
       "      <td>103342</td>\n",
       "      <td>Reese's Branch Mine</td>\n",
       "      <td>263888</td>\n",
       "      <td>115123</td>\n",
       "    </tr>\n",
       "    <tr>\n",
       "      <th>4</th>\n",
       "      <td>2013</td>\n",
       "      <td>103370</td>\n",
       "      <td>Cresent Valley Mine</td>\n",
       "      <td>2860</td>\n",
       "      <td>621</td>\n",
       "    </tr>\n",
       "    <tr>\n",
       "      <th>5</th>\n",
       "      <td>2013</td>\n",
       "      <td>103372</td>\n",
       "      <td>Cane Creek Mine</td>\n",
       "      <td>66258</td>\n",
       "      <td>32401</td>\n",
       "    </tr>\n",
       "    <tr>\n",
       "      <th>6</th>\n",
       "      <td>2013</td>\n",
       "      <td>103376</td>\n",
       "      <td>Town Creek</td>\n",
       "      <td>299167</td>\n",
       "      <td>176499</td>\n",
       "    </tr>\n",
       "    <tr>\n",
       "      <th>7</th>\n",
       "      <td>2013</td>\n",
       "      <td>103389</td>\n",
       "      <td>Carbon Hill Mine</td>\n",
       "      <td>76241</td>\n",
       "      <td>84966</td>\n",
       "    </tr>\n",
       "    <tr>\n",
       "      <th>8</th>\n",
       "      <td>2013</td>\n",
       "      <td>103410</td>\n",
       "      <td>Coal Valley Mine</td>\n",
       "      <td>407841</td>\n",
       "      <td>158591</td>\n",
       "    </tr>\n",
       "    <tr>\n",
       "      <th>9</th>\n",
       "      <td>2013</td>\n",
       "      <td>103423</td>\n",
       "      <td>Dutton Hill Mine</td>\n",
       "      <td>37275</td>\n",
       "      <td>9162</td>\n",
       "    </tr>\n",
       "    <tr>\n",
       "      <th>10</th>\n",
       "      <td>2013</td>\n",
       "      <td>1519322</td>\n",
       "      <td>Ghm #25</td>\n",
       "      <td>25054</td>\n",
       "      <td>3108</td>\n",
       "    </tr>\n",
       "    <tr>\n",
       "      <th>11</th>\n",
       "      <td>2013</td>\n",
       "      <td>103321</td>\n",
       "      <td>Poplar Springs</td>\n",
       "      <td>189370</td>\n",
       "      <td>76366</td>\n",
       "    </tr>\n",
       "    <tr>\n",
       "      <th>12</th>\n",
       "      <td>2013</td>\n",
       "      <td>103358</td>\n",
       "      <td>Old Union</td>\n",
       "      <td>284563</td>\n",
       "      <td>161805</td>\n",
       "    </tr>\n",
       "    <tr>\n",
       "      <th>13</th>\n",
       "      <td>2013</td>\n",
       "      <td>5000030</td>\n",
       "      <td>Usibelli</td>\n",
       "      <td>1631584</td>\n",
       "      <td>286079</td>\n",
       "    </tr>\n",
       "    <tr>\n",
       "      <th>14</th>\n",
       "      <td>2013</td>\n",
       "      <td>201195</td>\n",
       "      <td>Kayenta Mine</td>\n",
       "      <td>7602722</td>\n",
       "      <td>1015333</td>\n",
       "    </tr>\n",
       "    <tr>\n",
       "      <th>0</th>\n",
       "      <td>2013</td>\n",
       "      <td>103380</td>\n",
       "      <td>Calera</td>\n",
       "      <td>0</td>\n",
       "      <td>12621</td>\n",
       "    </tr>\n",
       "    <tr>\n",
       "      <th>1</th>\n",
       "      <td>2013</td>\n",
       "      <td>103380</td>\n",
       "      <td>Calera</td>\n",
       "      <td>0</td>\n",
       "      <td>1402</td>\n",
       "    </tr>\n",
       "    <tr>\n",
       "      <th>2</th>\n",
       "      <td>2013</td>\n",
       "      <td>103422</td>\n",
       "      <td>Clark No 1 Mine</td>\n",
       "      <td>122727</td>\n",
       "      <td>140250</td>\n",
       "    </tr>\n",
       "    <tr>\n",
       "      <th>3</th>\n",
       "      <td>2013</td>\n",
       "      <td>103467</td>\n",
       "      <td>Helena Surface Mine</td>\n",
       "      <td>59664</td>\n",
       "      <td>30539</td>\n",
       "    </tr>\n",
       "    <tr>\n",
       "      <th>4</th>\n",
       "      <td>2013</td>\n",
       "      <td>101247</td>\n",
       "      <td>No 4 Mine</td>\n",
       "      <td>2622528</td>\n",
       "      <td>1551141</td>\n",
       "    </tr>\n",
       "    <tr>\n",
       "      <th>5</th>\n",
       "      <td>2013</td>\n",
       "      <td>101401</td>\n",
       "      <td>No 7 Mine</td>\n",
       "      <td>5405412</td>\n",
       "      <td>2464719</td>\n",
       "    </tr>\n",
       "    <tr>\n",
       "      <th>6</th>\n",
       "      <td>2013</td>\n",
       "      <td>103172</td>\n",
       "      <td>Searles Mine No. 2, 3, 4, 5, 6</td>\n",
       "      <td>258078</td>\n",
       "      <td>119542</td>\n",
       "    </tr>\n",
       "    <tr>\n",
       "      <th>7</th>\n",
       "      <td>2013</td>\n",
       "      <td>103179</td>\n",
       "      <td>Fleetwood Mine No 1</td>\n",
       "      <td>75937</td>\n",
       "      <td>63745</td>\n",
       "    </tr>\n",
       "    <tr>\n",
       "      <th>8</th>\n",
       "      <td>2013</td>\n",
       "      <td>103303</td>\n",
       "      <td>Shannon Mine</td>\n",
       "      <td>317491</td>\n",
       "      <td>164388</td>\n",
       "    </tr>\n",
       "    <tr>\n",
       "      <th>9</th>\n",
       "      <td>2013</td>\n",
       "      <td>103323</td>\n",
       "      <td>Deerlick Mine</td>\n",
       "      <td>133452</td>\n",
       "      <td>46381</td>\n",
       "    </tr>\n",
       "    <tr>\n",
       "      <th>10</th>\n",
       "      <td>2013</td>\n",
       "      <td>103364</td>\n",
       "      <td>Brc Alabama No. 7 Llc</td>\n",
       "      <td>0</td>\n",
       "      <td>14324</td>\n",
       "    </tr>\n",
       "    <tr>\n",
       "      <th>11</th>\n",
       "      <td>2013</td>\n",
       "      <td>103436</td>\n",
       "      <td>Swann's Crossing</td>\n",
       "      <td>137511</td>\n",
       "      <td>77190</td>\n",
       "    </tr>\n",
       "    <tr>\n",
       "      <th>12</th>\n",
       "      <td>2013</td>\n",
       "      <td>100347</td>\n",
       "      <td>Choctaw Mine</td>\n",
       "      <td>537429</td>\n",
       "      <td>215295</td>\n",
       "    </tr>\n",
       "    <tr>\n",
       "      <th>13</th>\n",
       "      <td>2013</td>\n",
       "      <td>101362</td>\n",
       "      <td>Manchester Mine</td>\n",
       "      <td>219457</td>\n",
       "      <td>116914</td>\n",
       "    </tr>\n",
       "    <tr>\n",
       "      <th>14</th>\n",
       "      <td>2013</td>\n",
       "      <td>102996</td>\n",
       "      <td>Jap Creek Mine</td>\n",
       "      <td>375715</td>\n",
       "      <td>164093</td>\n",
       "    </tr>\n",
       "  </tbody>\n",
       "</table>\n",
       "</div>"
      ],
      "text/plain": [
       "    Year  MSHA ID                       Mine_Name  Production  Labor_Hours\n",
       "0   2013   103381            Tacoa Highwall Miner       56004        22392\n",
       "1   2013   103404                Reid School Mine       28807        28447\n",
       "2   2013   100759  North River #1 Underground Min     1440115       474784\n",
       "3   2013   103246                      Bear Creek       87587        29193\n",
       "4   2013   103451                     Knight Mine      147499        46393\n",
       "5   2013   103433              Crane Central Mine       69339        47195\n",
       "6   2013   100329                    Concord Mine           0       144002\n",
       "7   2013   100851                  Oak Grove Mine     2269014      1001809\n",
       "8   2013   102901                Shoal Creek Mine           0        12396\n",
       "9   2013   102901                Shoal Creek Mine     1453024      1237415\n",
       "10  2013   103180             Sloan Mountain Mine      327780       196963\n",
       "11  2013   103182                        Fishtrap      175058        87314\n",
       "12  2013   103285                     Narley Mine      154861        90584\n",
       "13  2013   103332                   Powhatan Mine      140521        61394\n",
       "14  2013   103375                    Johnson Mine         580         1900\n",
       "15  2013   103419               Maxine-Pratt Mine      125824       107469\n",
       "16  2013   103432                   Skelton Creek        8252          220\n",
       "17  2013   103437         Black Warrior Mine No 1      145924        70926\n",
       "18  2013   102976   Piney Woods Preparation Plant           0        14828\n",
       "19  2013   102976   Piney Woods Preparation Plant           0        23193\n",
       "0   2013   103155              Corinth Prep Plant           0        27996\n",
       "1   2013   103155              Corinth Prep Plant           0        51994\n",
       "2   2013   103195     Mccollum/Sparks Branch Mine       71910        17411\n",
       "3   2013   103342             Reese's Branch Mine      263888       115123\n",
       "4   2013   103370             Cresent Valley Mine        2860          621\n",
       "5   2013   103372                 Cane Creek Mine       66258        32401\n",
       "6   2013   103376                      Town Creek      299167       176499\n",
       "7   2013   103389                Carbon Hill Mine       76241        84966\n",
       "8   2013   103410                Coal Valley Mine      407841       158591\n",
       "9   2013   103423                Dutton Hill Mine       37275         9162\n",
       "10  2013  1519322                         Ghm #25       25054         3108\n",
       "11  2013   103321                  Poplar Springs      189370        76366\n",
       "12  2013   103358                       Old Union      284563       161805\n",
       "13  2013  5000030                        Usibelli     1631584       286079\n",
       "14  2013   201195                    Kayenta Mine     7602722      1015333\n",
       "0   2013   103380                          Calera           0        12621\n",
       "1   2013   103380                          Calera           0         1402\n",
       "2   2013   103422                 Clark No 1 Mine      122727       140250\n",
       "3   2013   103467             Helena Surface Mine       59664        30539\n",
       "4   2013   101247                       No 4 Mine     2622528      1551141\n",
       "5   2013   101401                       No 7 Mine     5405412      2464719\n",
       "6   2013   103172  Searles Mine No. 2, 3, 4, 5, 6      258078       119542\n",
       "7   2013   103179             Fleetwood Mine No 1       75937        63745\n",
       "8   2013   103303                    Shannon Mine      317491       164388\n",
       "9   2013   103323                   Deerlick Mine      133452        46381\n",
       "10  2013   103364           Brc Alabama No. 7 Llc           0        14324\n",
       "11  2013   103436                Swann's Crossing      137511        77190\n",
       "12  2013   100347                    Choctaw Mine      537429       215295\n",
       "13  2013   101362                 Manchester Mine      219457       116914\n",
       "14  2013   102996                  Jap Creek Mine      375715       164093"
      ]
     },
     "execution_count": 9,
     "metadata": {},
     "output_type": "execute_result"
    }
   ],
   "source": [
    "import pandas as pd\n",
    "import numpy as np\n",
    "df1 = pd.read_excel('coalpublic2013.xlsx', sheetname='Sheet-1')\n",
    "df2 = pd.read_excel('coalpublic2013.xlsx', sheetname='Sheet-2')\n",
    "df3 = pd.read_excel('coalpublic2013.xlsx', sheetname='Sheet-3')\n",
    "\n",
    "df = pd.concat([df1, df2, df3], axis = 0)\n",
    "df"
   ]
  },
  {
   "cell_type": "markdown",
   "metadata": {},
   "source": [
    "### Q122.Write a pandas program to import three datasheets from a given excel data (employee.xlsx ) into a single dataframe and export the result into new Excel file."
   ]
  },
  {
   "cell_type": "code",
   "execution_count": 19,
   "metadata": {},
   "outputs": [],
   "source": [
    "import pandas as pd\n",
    "import numpy as np\n",
    "\n",
    "df1 = pd.read_excel('employee.xlsx', sheetname='Sheet1')\n",
    "df2 = pd.read_excel('employee.xlsx', sheetname='Sheet2')\n",
    "df3 = pd.read_excel('employee.xlsx', sheetname='Sheet3')\n",
    "df = pd.concat([df1, df2, df3])\n",
    "df.to_excel('employee-1.xlsx', index = False)"
   ]
  },
  {
   "cell_type": "markdown",
   "metadata": {},
   "source": [
    "### Q123.Write a pandas program to create the Pivot table with multiple indexes from the data set of the titanic.csv."
   ]
  },
  {
   "cell_type": "code",
   "execution_count": 48,
   "metadata": {},
   "outputs": [
    {
     "name": "stdout",
     "output_type": "stream",
     "text": [
      "              adult_male  alone      fare  parch  pclass  sibsp  survived\n",
      "sex    age                                                               \n",
      "female 0.75          0.0    0.0   38.5166      2       6      4         2\n",
      "       1.00          0.0    0.0   26.8750      3       6      1         2\n",
      "       2.00          0.0    0.0  259.4750      9      15      9         2\n",
      "       3.00          0.0    0.0   62.6542      3       5      4         1\n",
      "       4.00          0.0    0.0  114.1417      6      13      4         5\n",
      "       5.00          0.0    1.0   90.8708      5      11      7         4\n",
      "       6.00          0.0    0.0   64.2750      3       5      4         1\n",
      "       7.00          0.0    0.0   26.2500      2       2      0         1\n",
      "       8.00          0.0    0.0   47.3250      3       5      3         1\n",
      "       9.00          0.0    0.0  108.7958      7      12     10         0\n",
      "       10.00         0.0    0.0   24.1500      2       3      0         0\n",
      "       11.00         0.0    0.0   31.2750      2       3      4         0\n",
      "       13.00         0.0    1.0   26.7292      1       5      0         2\n",
      "       14.00         0.0    1.0  169.1667      2       9      3         3\n",
      "       14.50         0.0    0.0   14.4542      0       3      1         0\n",
      "       15.00         0.0    2.0  241.0459      1      10      1         4\n",
      "       16.00         0.0    3.0  246.2625      4      12      5         5\n",
      "       17.00         0.0    3.0  210.7833      2      12      6         5\n",
      "       18.00         0.0    4.0  697.0167      9      31      6         8\n",
      "       19.00         0.0    3.0  215.0959      2      13      3         7\n",
      "       20.00         0.0    1.0   18.4875      0       6      1         0\n",
      "       21.00         0.0    4.0  410.4333      4      16      5         4\n",
      "       22.00         0.0    7.0  444.1084      6      26      3        10\n",
      "       23.00         0.0    3.0  405.5417      2      10      4         4\n",
      "       24.00         0.0    7.0  772.1708     15      31     10        14\n",
      "       25.00         0.0    1.0  223.2500      4      11      3         2\n",
      "       26.00         0.0    3.0  136.7292      1      12      2         3\n",
      "       27.00         0.0    2.0   76.8916      3      15      2         5\n",
      "       28.00         0.0    4.0  110.9458      1      16      3         5\n",
      "       29.00         0.0    2.0  320.6208      7      16      3         5\n",
      "...                  ...    ...       ...    ...     ...    ...       ...\n",
      "male   42.00        10.0    6.0  216.1084      1      21      3         3\n",
      "       43.00         3.0    2.0   40.7500      1       8      1         0\n",
      "       44.00         6.0    3.0  156.1250      1      15      3         1\n",
      "       45.00         6.0    5.0  187.1000      0      10      1         2\n",
      "       45.50         2.0    2.0   35.7250      0       4      0         0\n",
      "       46.00         3.0    2.0  166.3750      0       4      1         0\n",
      "       47.00         7.0    7.0  181.3583      0      12      0         0\n",
      "       48.00         5.0    3.0  176.1334      0       8      2         3\n",
      "       49.00         4.0    1.0  256.9167      1       6      3         2\n",
      "       50.00         5.0    2.0  317.0250      0       8      4         1\n",
      "       51.00         6.0    5.0  123.3084      1      13      0         1\n",
      "       52.00         4.0    3.0  136.6500      1       6      1         1\n",
      "       54.00         5.0    3.0  195.1500      1       8      1         0\n",
      "       55.00         1.0    1.0   30.5000      0       1      0         0\n",
      "       55.50         1.0    1.0    8.0500      0       3      0         0\n",
      "       56.00         3.0    3.0   92.7458      0       3      0         1\n",
      "       57.00         1.0    1.0   12.3500      0       2      0         0\n",
      "       58.00         2.0    1.0  142.9750      2       2      0         0\n",
      "       59.00         2.0    2.0   20.7500      0       5      0         0\n",
      "       60.00         3.0    1.0  144.7500      2       4      2         1\n",
      "       61.00         3.0    3.0   72.0583      0       5      0         0\n",
      "       62.00         3.0    3.0   63.6000      0       4      0         1\n",
      "       64.00         2.0    1.0  289.0000      4       2      1         0\n",
      "       65.00         3.0    2.0   96.2792      1       5      0         0\n",
      "       66.00         1.0    1.0   10.5000      0       2      0         0\n",
      "       70.00         2.0    1.0   81.5000      1       3      1         0\n",
      "       70.50         1.0    1.0    7.7500      0       3      0         0\n",
      "       71.00         2.0    2.0   84.1584      0       2      0         0\n",
      "       74.00         1.0    1.0    7.7750      0       3      0         0\n",
      "       80.00         1.0    1.0   30.0000      0       1      0         1\n",
      "\n",
      "[145 rows x 7 columns]\n"
     ]
    }
   ],
   "source": [
    "import pandas as pd\n",
    "import numpy as np\n",
    "df = pd.read_csv('titanic.csv')\n",
    "print(pd.pivot_table(df, index = ['sex', 'age'], aggfunc=np.sum))"
   ]
  },
  {
   "cell_type": "markdown",
   "metadata": {},
   "source": [
    "### Q124. Write a Pandas program to create thePivot table and find survival rate by gender?"
   ]
  },
  {
   "cell_type": "code",
   "execution_count": 56,
   "metadata": {},
   "outputs": [
    {
     "data": {
      "text/html": [
       "<div>\n",
       "<table border=\"1\" class=\"dataframe\">\n",
       "  <thead>\n",
       "    <tr style=\"text-align: right;\">\n",
       "      <th></th>\n",
       "      <th>survived</th>\n",
       "    </tr>\n",
       "    <tr>\n",
       "      <th>sex</th>\n",
       "      <th></th>\n",
       "    </tr>\n",
       "  </thead>\n",
       "  <tbody>\n",
       "    <tr>\n",
       "      <th>female</th>\n",
       "      <td>233</td>\n",
       "    </tr>\n",
       "    <tr>\n",
       "      <th>male</th>\n",
       "      <td>109</td>\n",
       "    </tr>\n",
       "  </tbody>\n",
       "</table>\n",
       "</div>"
      ],
      "text/plain": [
       "        survived\n",
       "sex             \n",
       "female       233\n",
       "male         109"
      ]
     },
     "execution_count": 56,
     "metadata": {},
     "output_type": "execute_result"
    }
   ],
   "source": [
    "import pandas as pd\n",
    "import numpy as np\n",
    "df = pd.read_csv('titanic.csv')\n",
    "pd.pivot_table(df, index=['sex'], values=['survived'],aggfunc=np.sum)"
   ]
  },
  {
   "cell_type": "markdown",
   "metadata": {},
   "source": [
    "### Q125.Write a pandas program to make partition each of the passengers into 4 categories based on their age."
   ]
  },
  {
   "cell_type": "code",
   "execution_count": 16,
   "metadata": {},
   "outputs": [
    {
     "name": "stdout",
     "output_type": "stream",
     "text": [
      "0      (10, 30]\n",
      "1      (30, 60]\n",
      "2      (10, 30]\n",
      "3      (30, 60]\n",
      "4      (30, 60]\n",
      "5           NaN\n",
      "6      (30, 60]\n",
      "7       (0, 10]\n",
      "8      (10, 30]\n",
      "9      (10, 30]\n",
      "10      (0, 10]\n",
      "11     (30, 60]\n",
      "12     (10, 30]\n",
      "13     (30, 60]\n",
      "14     (10, 30]\n",
      "15     (30, 60]\n",
      "16      (0, 10]\n",
      "17          NaN\n",
      "18     (30, 60]\n",
      "19          NaN\n",
      "20     (30, 60]\n",
      "21     (30, 60]\n",
      "22     (10, 30]\n",
      "23     (10, 30]\n",
      "24      (0, 10]\n",
      "25     (30, 60]\n",
      "26          NaN\n",
      "27     (10, 30]\n",
      "28          NaN\n",
      "29          NaN\n",
      "         ...   \n",
      "861    (10, 30]\n",
      "862    (30, 60]\n",
      "863         NaN\n",
      "864    (10, 30]\n",
      "865    (30, 60]\n",
      "866    (10, 30]\n",
      "867    (30, 60]\n",
      "868         NaN\n",
      "869     (0, 10]\n",
      "870    (10, 30]\n",
      "871    (30, 60]\n",
      "872    (30, 60]\n",
      "873    (30, 60]\n",
      "874    (10, 30]\n",
      "875    (10, 30]\n",
      "876    (10, 30]\n",
      "877    (10, 30]\n",
      "878         NaN\n",
      "879    (30, 60]\n",
      "880    (10, 30]\n",
      "881    (30, 60]\n",
      "882    (10, 30]\n",
      "883    (10, 30]\n",
      "884    (10, 30]\n",
      "885    (30, 60]\n",
      "886    (10, 30]\n",
      "887    (10, 30]\n",
      "888         NaN\n",
      "889    (10, 30]\n",
      "890    (30, 60]\n",
      "Name: age, dtype: category\n",
      "Categories (4, object): [(0, 10] < (10, 30] < (30, 60] < (60, 80]]\n"
     ]
    }
   ],
   "source": [
    "import numpy as np\n",
    "import pandas as pd\n",
    "\n",
    "df = pd.read_csv('titanic.csv')\n",
    "result = pd.cut(df['age'], bins= [0, 10, 30, 60, 80])\n",
    "print(result)"
   ]
  },
  {
   "cell_type": "markdown",
   "metadata": {},
   "source": [
    "### Q126.Write a pandas program to create thePivot table and find survival rate by the gender, age of the different categories of various classes."
   ]
  },
  {
   "cell_type": "code",
   "execution_count": 19,
   "metadata": {},
   "outputs": [
    {
     "data": {
      "text/html": [
       "<div>\n",
       "<table border=\"1\" class=\"dataframe\">\n",
       "  <thead>\n",
       "    <tr style=\"text-align: right;\">\n",
       "      <th></th>\n",
       "      <th>class</th>\n",
       "      <th>First</th>\n",
       "      <th>Second</th>\n",
       "      <th>Third</th>\n",
       "    </tr>\n",
       "    <tr>\n",
       "      <th>sex</th>\n",
       "      <th>age</th>\n",
       "      <th></th>\n",
       "      <th></th>\n",
       "      <th></th>\n",
       "    </tr>\n",
       "  </thead>\n",
       "  <tbody>\n",
       "    <tr>\n",
       "      <th rowspan=\"2\" valign=\"top\">female</th>\n",
       "      <th>(0, 20]</th>\n",
       "      <td>0.928571</td>\n",
       "      <td>1.000000</td>\n",
       "      <td>0.510638</td>\n",
       "    </tr>\n",
       "    <tr>\n",
       "      <th>(20, 55]</th>\n",
       "      <td>0.968750</td>\n",
       "      <td>0.912281</td>\n",
       "      <td>0.407407</td>\n",
       "    </tr>\n",
       "    <tr>\n",
       "      <th rowspan=\"2\" valign=\"top\">male</th>\n",
       "      <th>(0, 20]</th>\n",
       "      <td>0.571429</td>\n",
       "      <td>0.526316</td>\n",
       "      <td>0.197368</td>\n",
       "    </tr>\n",
       "    <tr>\n",
       "      <th>(20, 55]</th>\n",
       "      <td>0.440000</td>\n",
       "      <td>0.054054</td>\n",
       "      <td>0.134503</td>\n",
       "    </tr>\n",
       "  </tbody>\n",
       "</table>\n",
       "</div>"
      ],
      "text/plain": [
       "class               First    Second     Third\n",
       "sex    age                                   \n",
       "female (0, 20]   0.928571  1.000000  0.510638\n",
       "       (20, 55]  0.968750  0.912281  0.407407\n",
       "male   (0, 20]   0.571429  0.526316  0.197368\n",
       "       (20, 55]  0.440000  0.054054  0.134503"
      ]
     },
     "execution_count": 19,
     "metadata": {},
     "output_type": "execute_result"
    }
   ],
   "source": [
    "import numpy as np\n",
    "import pandas as pd\n",
    "df = pd.read_csv('titanic.csv')\n",
    "age = pd.cut(df['age'], bins = [0, 20, 55])\n",
    "df1 = df.pivot_table('survived', index=['sex', age], columns='class')\n",
    "df1"
   ]
  },
  {
   "cell_type": "markdown",
   "metadata": {},
   "source": [
    "### Q127.Write a pandas program to create thePivot table and calculate number of women and men were in a particular cabin class."
   ]
  },
  {
   "cell_type": "code",
   "execution_count": 27,
   "metadata": {
    "scrolled": true
   },
   "outputs": [
    {
     "data": {
      "text/html": [
       "<div>\n",
       "<table border=\"1\" class=\"dataframe\">\n",
       "  <thead>\n",
       "    <tr>\n",
       "      <th></th>\n",
       "      <th colspan=\"3\" halign=\"left\">survived</th>\n",
       "      <th colspan=\"3\" halign=\"left\">age</th>\n",
       "      <th colspan=\"3\" halign=\"left\">sibsp</th>\n",
       "      <th>parch</th>\n",
       "      <th>...</th>\n",
       "      <th>deck</th>\n",
       "      <th colspan=\"3\" halign=\"left\">embark_town</th>\n",
       "      <th colspan=\"3\" halign=\"left\">alive</th>\n",
       "      <th colspan=\"3\" halign=\"left\">alone</th>\n",
       "    </tr>\n",
       "    <tr>\n",
       "      <th>pclass</th>\n",
       "      <th>1</th>\n",
       "      <th>2</th>\n",
       "      <th>3</th>\n",
       "      <th>1</th>\n",
       "      <th>2</th>\n",
       "      <th>3</th>\n",
       "      <th>1</th>\n",
       "      <th>2</th>\n",
       "      <th>3</th>\n",
       "      <th>1</th>\n",
       "      <th>...</th>\n",
       "      <th>3</th>\n",
       "      <th>1</th>\n",
       "      <th>2</th>\n",
       "      <th>3</th>\n",
       "      <th>1</th>\n",
       "      <th>2</th>\n",
       "      <th>3</th>\n",
       "      <th>1</th>\n",
       "      <th>2</th>\n",
       "      <th>3</th>\n",
       "    </tr>\n",
       "    <tr>\n",
       "      <th>sex</th>\n",
       "      <th></th>\n",
       "      <th></th>\n",
       "      <th></th>\n",
       "      <th></th>\n",
       "      <th></th>\n",
       "      <th></th>\n",
       "      <th></th>\n",
       "      <th></th>\n",
       "      <th></th>\n",
       "      <th></th>\n",
       "      <th></th>\n",
       "      <th></th>\n",
       "      <th></th>\n",
       "      <th></th>\n",
       "      <th></th>\n",
       "      <th></th>\n",
       "      <th></th>\n",
       "      <th></th>\n",
       "      <th></th>\n",
       "      <th></th>\n",
       "      <th></th>\n",
       "    </tr>\n",
       "  </thead>\n",
       "  <tbody>\n",
       "    <tr>\n",
       "      <th>female</th>\n",
       "      <td>94</td>\n",
       "      <td>76</td>\n",
       "      <td>144</td>\n",
       "      <td>85</td>\n",
       "      <td>74</td>\n",
       "      <td>102</td>\n",
       "      <td>94</td>\n",
       "      <td>76</td>\n",
       "      <td>144</td>\n",
       "      <td>94</td>\n",
       "      <td>...</td>\n",
       "      <td>6</td>\n",
       "      <td>92</td>\n",
       "      <td>76</td>\n",
       "      <td>144</td>\n",
       "      <td>94</td>\n",
       "      <td>76</td>\n",
       "      <td>144</td>\n",
       "      <td>94</td>\n",
       "      <td>76</td>\n",
       "      <td>144</td>\n",
       "    </tr>\n",
       "    <tr>\n",
       "      <th>male</th>\n",
       "      <td>122</td>\n",
       "      <td>108</td>\n",
       "      <td>347</td>\n",
       "      <td>101</td>\n",
       "      <td>99</td>\n",
       "      <td>253</td>\n",
       "      <td>122</td>\n",
       "      <td>108</td>\n",
       "      <td>347</td>\n",
       "      <td>122</td>\n",
       "      <td>...</td>\n",
       "      <td>6</td>\n",
       "      <td>122</td>\n",
       "      <td>108</td>\n",
       "      <td>347</td>\n",
       "      <td>122</td>\n",
       "      <td>108</td>\n",
       "      <td>347</td>\n",
       "      <td>122</td>\n",
       "      <td>108</td>\n",
       "      <td>347</td>\n",
       "    </tr>\n",
       "  </tbody>\n",
       "</table>\n",
       "<p>2 rows × 39 columns</p>\n",
       "</div>"
      ],
      "text/plain": [
       "       survived            age          sibsp           parch ...  deck  \\\n",
       "pclass        1    2    3    1   2    3     1    2    3     1 ...     3   \n",
       "sex                                                           ...         \n",
       "female       94   76  144   85  74  102    94   76  144    94 ...     6   \n",
       "male        122  108  347  101  99  253   122  108  347   122 ...     6   \n",
       "\n",
       "       embark_town           alive           alone            \n",
       "pclass           1    2    3     1    2    3     1    2    3  \n",
       "sex                                                           \n",
       "female          92   76  144    94   76  144    94   76  144  \n",
       "male           122  108  347   122  108  347   122  108  347  \n",
       "\n",
       "[2 rows x 39 columns]"
      ]
     },
     "execution_count": 27,
     "metadata": {},
     "output_type": "execute_result"
    }
   ],
   "source": [
    "import numpy as np\n",
    "import pandas as pd\n",
    "\n",
    "df = pd.read_csv('titanic.csv')\n",
    "df1 = df.pivot_table(index=['sex'], columns=['pclass'], aggfunc='count')\n",
    "df1"
   ]
  },
  {
   "cell_type": "markdown",
   "metadata": {},
   "source": [
    "### Q128.Write a pandas program to create thePivot table and separate the gender according to whether they travelled alone or not to get the probability of survival"
   ]
  },
  {
   "cell_type": "code",
   "execution_count": 38,
   "metadata": {},
   "outputs": [
    {
     "data": {
      "text/plain": [
       "sex     alone\n",
       "female  False    0.712766\n",
       "        True     0.785714\n",
       "male    False    0.271084\n",
       "        True     0.155718\n",
       "Name: survived, dtype: float64"
      ]
     },
     "execution_count": 38,
     "metadata": {},
     "output_type": "execute_result"
    }
   ],
   "source": [
    "import numpy as np\n",
    "import pandas as pd\n",
    "\n",
    "df = pd.read_csv('titanic.csv')\n",
    "df1 = df.pivot_table('survived', index=['sex', 'alone'])\n",
    "df1"
   ]
  },
  {
   "cell_type": "markdown",
   "metadata": {},
   "source": [
    "### Q129.Write a pandas program to create thePivot table and find the probability of survival by class, gender, solo boarding,and the port of embarkation."
   ]
  },
  {
   "cell_type": "code",
   "execution_count": 43,
   "metadata": {},
   "outputs": [
    {
     "name": "stdout",
     "output_type": "stream",
     "text": [
      "embark_town  Cherbourg                     Queenstown                   \\\n",
      "class            First    Second     Third      First Second     Third   \n",
      "sex    alone                                                             \n",
      "female False  1.000000  1.000000  0.611111        1.0    NaN  0.625000   \n",
      "       True   0.944444  1.000000  0.800000        NaN    1.0  0.760000   \n",
      "male   False  0.473684  0.166667  0.500000        0.0    NaN  0.100000   \n",
      "       True   0.347826  0.250000  0.151515        NaN    0.0  0.068966   \n",
      "\n",
      "embark_town  Southampton                      \n",
      "class              First    Second     Third  \n",
      "sex    alone                                  \n",
      "female False    0.941176  0.923077  0.327586  \n",
      "       True     1.000000  0.892857  0.466667  \n",
      "male   False    0.407407  0.300000  0.142857  \n",
      "       True     0.326923  0.089552  0.123762  \n"
     ]
    }
   ],
   "source": [
    "import numpy as np\n",
    "import pandas as pd\n",
    "df = pd.read_csv('titanic.csv')\n",
    "df1 = df.pivot_table('survived', index=['sex', 'alone'], columns=['embark_town', 'class'])\n",
    "print(df1)"
   ]
  },
  {
   "cell_type": "markdown",
   "metadata": {},
   "source": [
    "### Q130.Write a pandas program to get current date, oldest date and number of days between Current date andthe oldest date of Ufo dataset."
   ]
  },
  {
   "cell_type": "code",
   "execution_count": null,
   "metadata": {},
   "outputs": [],
   "source": [
    "import pandas as pd \n",
    "df = pd.read_csv(r'ufo.csv') \n",
    "df['Date_time'] = df['Date_time'].astype('datetime64[ns]')\n",
    "print(\"Original Dataframe:\") \n",
    "print(df.head())\n",
    "print(\"\\nCurrent date of Ufo dataset:\") \n",
    "print(df.Date_time.max())\n",
    "print(\"\\nOldest date of Ufo dataset:\") \n",
    "print(df.Date_time.min())\n",
    "print(\"\\nNumber of days between Current date and oldest date of Ufo dataset:\") \n",
    "print((df.Date_time.max() - df.Date_time.min()).days)"
   ]
  },
  {
   "cell_type": "markdown",
   "metadata": {},
   "source": [
    "### Q131.Write a pandas program to get all sighting days of the unidentified flying object (ufo) between 1950-10-10 and 1960-10-10."
   ]
  },
  {
   "cell_type": "code",
   "execution_count": 194,
   "metadata": {},
   "outputs": [
    {
     "name": "stderr",
     "output_type": "stream",
     "text": [
      "C:\\Program Files (x86)\\Anaconda3\\lib\\site-packages\\IPython\\core\\interactiveshell.py:2717: DtypeWarning: Columns (5,8) have mixed types. Specify dtype option on import or set low_memory=False.\n",
      "  interactivity=interactivity, compiler=compiler, result=result)\n"
     ]
    },
    {
     "data": {
      "text/html": [
       "<div>\n",
       "<table border=\"1\" class=\"dataframe\">\n",
       "  <thead>\n",
       "    <tr style=\"text-align: right;\">\n",
       "      <th></th>\n",
       "      <th>datetime</th>\n",
       "      <th>city</th>\n",
       "      <th>state</th>\n",
       "      <th>country</th>\n",
       "      <th>shape</th>\n",
       "      <th>duration (seconds)</th>\n",
       "      <th>comments</th>\n",
       "      <th>date posted</th>\n",
       "      <th>latitude</th>\n",
       "      <th>longitude</th>\n",
       "    </tr>\n",
       "  </thead>\n",
       "  <tbody>\n",
       "    <tr>\n",
       "      <th>0</th>\n",
       "      <td>10/10/1949 20:30</td>\n",
       "      <td>san marcos</td>\n",
       "      <td>tx</td>\n",
       "      <td>us</td>\n",
       "      <td>cylinder</td>\n",
       "      <td>2700</td>\n",
       "      <td>This event took place in early fall around 194...</td>\n",
       "      <td>4/27/2004</td>\n",
       "      <td>29.8830556</td>\n",
       "      <td>-97.941111</td>\n",
       "    </tr>\n",
       "    <tr>\n",
       "      <th>1</th>\n",
       "      <td>10/10/1949 21:00</td>\n",
       "      <td>lackland afb</td>\n",
       "      <td>tx</td>\n",
       "      <td>NaN</td>\n",
       "      <td>light</td>\n",
       "      <td>7200</td>\n",
       "      <td>1949 Lackland AFB&amp;#44 TX.  Lights racing acros...</td>\n",
       "      <td>12/16/2005</td>\n",
       "      <td>29.38421</td>\n",
       "      <td>-98.581082</td>\n",
       "    </tr>\n",
       "    <tr>\n",
       "      <th>2</th>\n",
       "      <td>10/10/1955 17:00</td>\n",
       "      <td>chester (uk/england)</td>\n",
       "      <td>NaN</td>\n",
       "      <td>gb</td>\n",
       "      <td>circle</td>\n",
       "      <td>20</td>\n",
       "      <td>Green/Orange circular disc over Chester&amp;#44 En...</td>\n",
       "      <td>1/21/2008</td>\n",
       "      <td>53.2</td>\n",
       "      <td>-2.916667</td>\n",
       "    </tr>\n",
       "    <tr>\n",
       "      <th>3</th>\n",
       "      <td>10/10/1956 21:00</td>\n",
       "      <td>edna</td>\n",
       "      <td>tx</td>\n",
       "      <td>us</td>\n",
       "      <td>circle</td>\n",
       "      <td>20</td>\n",
       "      <td>My older brother and twin sister were leaving ...</td>\n",
       "      <td>1/17/2004</td>\n",
       "      <td>28.9783333</td>\n",
       "      <td>-96.645833</td>\n",
       "    </tr>\n",
       "    <tr>\n",
       "      <th>4</th>\n",
       "      <td>10/10/1960 20:00</td>\n",
       "      <td>kaneohe</td>\n",
       "      <td>hi</td>\n",
       "      <td>us</td>\n",
       "      <td>light</td>\n",
       "      <td>900</td>\n",
       "      <td>AS a Marine 1st Lt. flying an FJ4B fighter/att...</td>\n",
       "      <td>1/22/2004</td>\n",
       "      <td>21.4180556</td>\n",
       "      <td>-157.803611</td>\n",
       "    </tr>\n",
       "    <tr>\n",
       "      <th>5</th>\n",
       "      <td>10/10/1961 19:00</td>\n",
       "      <td>bristol</td>\n",
       "      <td>tn</td>\n",
       "      <td>us</td>\n",
       "      <td>sphere</td>\n",
       "      <td>300</td>\n",
       "      <td>My father is now 89 my brother 52 the girl wit...</td>\n",
       "      <td>4/27/2007</td>\n",
       "      <td>36.595</td>\n",
       "      <td>-82.188889</td>\n",
       "    </tr>\n",
       "    <tr>\n",
       "      <th>6</th>\n",
       "      <td>10/10/1965 21:00</td>\n",
       "      <td>penarth (uk/wales)</td>\n",
       "      <td>NaN</td>\n",
       "      <td>gb</td>\n",
       "      <td>circle</td>\n",
       "      <td>180</td>\n",
       "      <td>penarth uk  circle  3mins  stayed 30ft above m...</td>\n",
       "      <td>2/14/2006</td>\n",
       "      <td>51.434722</td>\n",
       "      <td>-3.180000</td>\n",
       "    </tr>\n",
       "    <tr>\n",
       "      <th>7</th>\n",
       "      <td>10/10/1965 23:45</td>\n",
       "      <td>norwalk</td>\n",
       "      <td>ct</td>\n",
       "      <td>us</td>\n",
       "      <td>disk</td>\n",
       "      <td>1200</td>\n",
       "      <td>A bright orange color changing to reddish colo...</td>\n",
       "      <td>10/2/1999</td>\n",
       "      <td>41.1175</td>\n",
       "      <td>-73.408333</td>\n",
       "    </tr>\n",
       "    <tr>\n",
       "      <th>8</th>\n",
       "      <td>10/10/1966 20:00</td>\n",
       "      <td>pell city</td>\n",
       "      <td>al</td>\n",
       "      <td>us</td>\n",
       "      <td>disk</td>\n",
       "      <td>180</td>\n",
       "      <td>Strobe Lighted disk shape object observed clos...</td>\n",
       "      <td>3/19/2009</td>\n",
       "      <td>33.5861111</td>\n",
       "      <td>-86.286111</td>\n",
       "    </tr>\n",
       "    <tr>\n",
       "      <th>9</th>\n",
       "      <td>10/10/1966 21:00</td>\n",
       "      <td>live oak</td>\n",
       "      <td>fl</td>\n",
       "      <td>us</td>\n",
       "      <td>disk</td>\n",
       "      <td>120</td>\n",
       "      <td>Saucer zaps energy from powerline as my pregna...</td>\n",
       "      <td>5/11/2005</td>\n",
       "      <td>30.2947222</td>\n",
       "      <td>-82.984167</td>\n",
       "    </tr>\n",
       "    <tr>\n",
       "      <th>10</th>\n",
       "      <td>10/10/1968 13:00</td>\n",
       "      <td>hawthorne</td>\n",
       "      <td>ca</td>\n",
       "      <td>us</td>\n",
       "      <td>circle</td>\n",
       "      <td>300</td>\n",
       "      <td>ROUND &amp;#44 ORANGE &amp;#44 WITH WHAT I WOULD SAY W...</td>\n",
       "      <td>10/31/2003</td>\n",
       "      <td>33.9163889</td>\n",
       "      <td>-118.351667</td>\n",
       "    </tr>\n",
       "    <tr>\n",
       "      <th>11</th>\n",
       "      <td>10/10/1968 19:00</td>\n",
       "      <td>brevard</td>\n",
       "      <td>nc</td>\n",
       "      <td>us</td>\n",
       "      <td>fireball</td>\n",
       "      <td>180</td>\n",
       "      <td>silent red /orange mass of energy floated by t...</td>\n",
       "      <td>6/12/2008</td>\n",
       "      <td>35.2333333</td>\n",
       "      <td>-82.734444</td>\n",
       "    </tr>\n",
       "    <tr>\n",
       "      <th>12</th>\n",
       "      <td>10/10/1970 16:00</td>\n",
       "      <td>bellmore</td>\n",
       "      <td>ny</td>\n",
       "      <td>us</td>\n",
       "      <td>disk</td>\n",
       "      <td>1800</td>\n",
       "      <td>silver disc seen by family and neighbors</td>\n",
       "      <td>5/11/2000</td>\n",
       "      <td>40.6686111</td>\n",
       "      <td>-73.527500</td>\n",
       "    </tr>\n",
       "    <tr>\n",
       "      <th>13</th>\n",
       "      <td>10/10/1970 19:00</td>\n",
       "      <td>manchester</td>\n",
       "      <td>ky</td>\n",
       "      <td>us</td>\n",
       "      <td>unknown</td>\n",
       "      <td>180</td>\n",
       "      <td>Slow moving&amp;#44 silent craft accelerated at an...</td>\n",
       "      <td>2/14/2008</td>\n",
       "      <td>37.1536111</td>\n",
       "      <td>-83.761944</td>\n",
       "    </tr>\n",
       "    <tr>\n",
       "      <th>14</th>\n",
       "      <td>10/10/1971 21:00</td>\n",
       "      <td>lexington</td>\n",
       "      <td>nc</td>\n",
       "      <td>us</td>\n",
       "      <td>oval</td>\n",
       "      <td>30</td>\n",
       "      <td>green oval shaped light over my local church&amp;#...</td>\n",
       "      <td>2/14/2010</td>\n",
       "      <td>35.8238889</td>\n",
       "      <td>-80.253611</td>\n",
       "    </tr>\n",
       "    <tr>\n",
       "      <th>15</th>\n",
       "      <td>10/10/1972 19:00</td>\n",
       "      <td>harlan county</td>\n",
       "      <td>ky</td>\n",
       "      <td>us</td>\n",
       "      <td>circle</td>\n",
       "      <td>1200</td>\n",
       "      <td>On october 10&amp;#44 1972 myself&amp;#44my 5yrs.daugh...</td>\n",
       "      <td>9/15/2005</td>\n",
       "      <td>36.8430556</td>\n",
       "      <td>-83.321944</td>\n",
       "    </tr>\n",
       "    <tr>\n",
       "      <th>16</th>\n",
       "      <td>10/10/1972 22:30</td>\n",
       "      <td>west bloomfield</td>\n",
       "      <td>mi</td>\n",
       "      <td>us</td>\n",
       "      <td>disk</td>\n",
       "      <td>120</td>\n",
       "      <td>The UFO was so close&amp;#44 my battery in the car...</td>\n",
       "      <td>8/14/2007</td>\n",
       "      <td>42.5377778</td>\n",
       "      <td>-83.233056</td>\n",
       "    </tr>\n",
       "    <tr>\n",
       "      <th>17</th>\n",
       "      <td>10/10/1973 19:00</td>\n",
       "      <td>niantic</td>\n",
       "      <td>ct</td>\n",
       "      <td>us</td>\n",
       "      <td>disk</td>\n",
       "      <td>1800</td>\n",
       "      <td>Oh&amp;#44 what a night &amp;#33  Two (2) saucer-shape...</td>\n",
       "      <td>9/24/2003</td>\n",
       "      <td>41.3252778</td>\n",
       "      <td>-72.193611</td>\n",
       "    </tr>\n",
       "    <tr>\n",
       "      <th>18</th>\n",
       "      <td>10/10/1973 23:00</td>\n",
       "      <td>bermuda nas</td>\n",
       "      <td>NaN</td>\n",
       "      <td>NaN</td>\n",
       "      <td>light</td>\n",
       "      <td>20</td>\n",
       "      <td>saw fast moving blip on the radar scope thin w...</td>\n",
       "      <td>1/11/2002</td>\n",
       "      <td>32.364167</td>\n",
       "      <td>-64.678611</td>\n",
       "    </tr>\n",
       "    <tr>\n",
       "      <th>19</th>\n",
       "      <td>10/10/1974 17:00</td>\n",
       "      <td>willow beach</td>\n",
       "      <td>az</td>\n",
       "      <td>NaN</td>\n",
       "      <td>light</td>\n",
       "      <td>120</td>\n",
       "      <td>The object was a brillant white light standing...</td>\n",
       "      <td>2/18/2001</td>\n",
       "      <td>0</td>\n",
       "      <td>0.000000</td>\n",
       "    </tr>\n",
       "    <tr>\n",
       "      <th>20</th>\n",
       "      <td>10/10/1974 19:30</td>\n",
       "      <td>hudson</td>\n",
       "      <td>ma</td>\n",
       "      <td>us</td>\n",
       "      <td>other</td>\n",
       "      <td>2700</td>\n",
       "      <td>Not sure of the eact month or year of this sig...</td>\n",
       "      <td>8/10/1999</td>\n",
       "      <td>42.3916667</td>\n",
       "      <td>-71.566667</td>\n",
       "    </tr>\n",
       "    <tr>\n",
       "      <th>21</th>\n",
       "      <td>10/10/1974 21:30</td>\n",
       "      <td>cardiff (uk/wales)</td>\n",
       "      <td>NaN</td>\n",
       "      <td>gb</td>\n",
       "      <td>disk</td>\n",
       "      <td>1200</td>\n",
       "      <td>back in 1974 I was 19 at the time and  lived i...</td>\n",
       "      <td>2/1/2007</td>\n",
       "      <td>51.5</td>\n",
       "      <td>-3.200000</td>\n",
       "    </tr>\n",
       "    <tr>\n",
       "      <th>22</th>\n",
       "      <td>10/10/1974 23:00</td>\n",
       "      <td>hudson</td>\n",
       "      <td>ks</td>\n",
       "      <td>us</td>\n",
       "      <td>light</td>\n",
       "      <td>1200</td>\n",
       "      <td>The light chased us.</td>\n",
       "      <td>7/25/2004</td>\n",
       "      <td>38.1055556</td>\n",
       "      <td>-98.659722</td>\n",
       "    </tr>\n",
       "    <tr>\n",
       "      <th>23</th>\n",
       "      <td>10/10/1975 17:00</td>\n",
       "      <td>north charleston</td>\n",
       "      <td>sc</td>\n",
       "      <td>us</td>\n",
       "      <td>light</td>\n",
       "      <td>360</td>\n",
       "      <td>Several Flashing UFO lights over Charleston Na...</td>\n",
       "      <td>2/14/2008</td>\n",
       "      <td>32.8544444</td>\n",
       "      <td>-79.975000</td>\n",
       "    </tr>\n",
       "    <tr>\n",
       "      <th>24</th>\n",
       "      <td>10/10/1976 20:30</td>\n",
       "      <td>washougal</td>\n",
       "      <td>wa</td>\n",
       "      <td>us</td>\n",
       "      <td>oval</td>\n",
       "      <td>60</td>\n",
       "      <td>Three extremely large lights hanging above nea...</td>\n",
       "      <td>2/7/2014</td>\n",
       "      <td>45.5827778</td>\n",
       "      <td>-122.352222</td>\n",
       "    </tr>\n",
       "    <tr>\n",
       "      <th>25</th>\n",
       "      <td>10/10/1976 22:00</td>\n",
       "      <td>stoke mandeville (uk/england)</td>\n",
       "      <td>NaN</td>\n",
       "      <td>gb</td>\n",
       "      <td>cigar</td>\n",
       "      <td>3</td>\n",
       "      <td>White object over Buckinghamshire UK.</td>\n",
       "      <td>12/12/2009</td>\n",
       "      <td>51.783333</td>\n",
       "      <td>-0.783333</td>\n",
       "    </tr>\n",
       "    <tr>\n",
       "      <th>26</th>\n",
       "      <td>10/10/1977 12:00</td>\n",
       "      <td>san antonio</td>\n",
       "      <td>tx</td>\n",
       "      <td>us</td>\n",
       "      <td>other</td>\n",
       "      <td>30</td>\n",
       "      <td>i was about six or seven and my family and me ...</td>\n",
       "      <td>2/24/2005</td>\n",
       "      <td>29.4238889</td>\n",
       "      <td>-98.493333</td>\n",
       "    </tr>\n",
       "    <tr>\n",
       "      <th>27</th>\n",
       "      <td>10/10/1977 22:00</td>\n",
       "      <td>louisville</td>\n",
       "      <td>ky</td>\n",
       "      <td>us</td>\n",
       "      <td>light</td>\n",
       "      <td>30</td>\n",
       "      <td>HBCCUFO CANADIAN REPORT:  Pilot Sighting Of Un...</td>\n",
       "      <td>3/17/2004</td>\n",
       "      <td>38.2541667</td>\n",
       "      <td>-85.759444</td>\n",
       "    </tr>\n",
       "    <tr>\n",
       "      <th>28</th>\n",
       "      <td>10/10/1978 2:00</td>\n",
       "      <td>elmont</td>\n",
       "      <td>ny</td>\n",
       "      <td>us</td>\n",
       "      <td>rectangle</td>\n",
       "      <td>300</td>\n",
       "      <td>A memory I will never forget that happened men...</td>\n",
       "      <td>2/1/2007</td>\n",
       "      <td>40.7008333</td>\n",
       "      <td>-73.713333</td>\n",
       "    </tr>\n",
       "    <tr>\n",
       "      <th>29</th>\n",
       "      <td>10/10/1979 0:00</td>\n",
       "      <td>poughkeepsie</td>\n",
       "      <td>ny</td>\n",
       "      <td>us</td>\n",
       "      <td>chevron</td>\n",
       "      <td>900</td>\n",
       "      <td>1/4 moon-like&amp;#44  its &amp;#39chord&amp;#39 or flat s...</td>\n",
       "      <td>4/16/2005</td>\n",
       "      <td>41.7002778</td>\n",
       "      <td>-73.921389</td>\n",
       "    </tr>\n",
       "    <tr>\n",
       "      <th>...</th>\n",
       "      <td>...</td>\n",
       "      <td>...</td>\n",
       "      <td>...</td>\n",
       "      <td>...</td>\n",
       "      <td>...</td>\n",
       "      <td>...</td>\n",
       "      <td>...</td>\n",
       "      <td>...</td>\n",
       "      <td>...</td>\n",
       "      <td>...</td>\n",
       "    </tr>\n",
       "    <tr>\n",
       "      <th>39405</th>\n",
       "      <td>3/9/2013 22:05</td>\n",
       "      <td>portland</td>\n",
       "      <td>or</td>\n",
       "      <td>us</td>\n",
       "      <td>triangle</td>\n",
       "      <td>45</td>\n",
       "      <td>Three triangular bright orange light objects h...</td>\n",
       "      <td>5/15/2013</td>\n",
       "      <td>45.5236111</td>\n",
       "      <td>-122.675000</td>\n",
       "    </tr>\n",
       "    <tr>\n",
       "      <th>39406</th>\n",
       "      <td>3/9/2013 22:10</td>\n",
       "      <td>riverside</td>\n",
       "      <td>ca</td>\n",
       "      <td>us</td>\n",
       "      <td>oval</td>\n",
       "      <td>20</td>\n",
       "      <td>Very bright green light coming from oval shape...</td>\n",
       "      <td>5/15/2013</td>\n",
       "      <td>33.9533333</td>\n",
       "      <td>-117.395278</td>\n",
       "    </tr>\n",
       "    <tr>\n",
       "      <th>39407</th>\n",
       "      <td>3/9/2013 22:15</td>\n",
       "      <td>charlotte</td>\n",
       "      <td>nc</td>\n",
       "      <td>us</td>\n",
       "      <td>other</td>\n",
       "      <td>20</td>\n",
       "      <td>Massive dark bow shaped flying object over Upt...</td>\n",
       "      <td>4/12/2013</td>\n",
       "      <td>35.2269444</td>\n",
       "      <td>-80.843333</td>\n",
       "    </tr>\n",
       "    <tr>\n",
       "      <th>39408</th>\n",
       "      <td>3/9/2013 22:20</td>\n",
       "      <td>yucaipa</td>\n",
       "      <td>ca</td>\n",
       "      <td>us</td>\n",
       "      <td>circle</td>\n",
       "      <td>180</td>\n",
       "      <td>At approximately 22:20PST&amp;#44 multiple witness...</td>\n",
       "      <td>4/12/2013</td>\n",
       "      <td>34.0336111</td>\n",
       "      <td>-117.042222</td>\n",
       "    </tr>\n",
       "    <tr>\n",
       "      <th>39409</th>\n",
       "      <td>3/9/2013 23:05</td>\n",
       "      <td>merced</td>\n",
       "      <td>ca</td>\n",
       "      <td>us</td>\n",
       "      <td>fireball</td>\n",
       "      <td>120</td>\n",
       "      <td>Orange bright light is sky</td>\n",
       "      <td>5/15/2013</td>\n",
       "      <td>37.3022222</td>\n",
       "      <td>-120.481944</td>\n",
       "    </tr>\n",
       "    <tr>\n",
       "      <th>39410</th>\n",
       "      <td>3/9/2013 23:40</td>\n",
       "      <td>lebanon</td>\n",
       "      <td>pa</td>\n",
       "      <td>us</td>\n",
       "      <td>formation</td>\n",
       "      <td>10</td>\n",
       "      <td>A silent string formation&amp;#448-10 amber lights...</td>\n",
       "      <td>4/12/2013</td>\n",
       "      <td>40.3408333</td>\n",
       "      <td>-76.411667</td>\n",
       "    </tr>\n",
       "    <tr>\n",
       "      <th>39411</th>\n",
       "      <td>3/9/2013 23:40</td>\n",
       "      <td>lebanon</td>\n",
       "      <td>pa</td>\n",
       "      <td>us</td>\n",
       "      <td>formation</td>\n",
       "      <td>10</td>\n",
       "      <td>A silent string formation&amp;#448-10 amber lights...</td>\n",
       "      <td>8/30/2013</td>\n",
       "      <td>40.3408333</td>\n",
       "      <td>-76.411667</td>\n",
       "    </tr>\n",
       "    <tr>\n",
       "      <th>39412</th>\n",
       "      <td>3/10/2013 0:00</td>\n",
       "      <td>thibodaux</td>\n",
       "      <td>la</td>\n",
       "      <td>us</td>\n",
       "      <td>fireball</td>\n",
       "      <td>240</td>\n",
       "      <td>Orb over Thibodaux la</td>\n",
       "      <td>5/15/2013</td>\n",
       "      <td>29.7955556</td>\n",
       "      <td>-90.822778</td>\n",
       "    </tr>\n",
       "    <tr>\n",
       "      <th>39413</th>\n",
       "      <td>3/9/2014 0:12</td>\n",
       "      <td>landrum</td>\n",
       "      <td>sc</td>\n",
       "      <td>us</td>\n",
       "      <td>cross</td>\n",
       "      <td>0</td>\n",
       "      <td>It is stationary then it zig zags&amp;#44 up&amp;#44 d...</td>\n",
       "      <td>3/18/2014</td>\n",
       "      <td>35.175</td>\n",
       "      <td>-82.189444</td>\n",
       "    </tr>\n",
       "    <tr>\n",
       "      <th>39414</th>\n",
       "      <td>3/9/2014 1:00</td>\n",
       "      <td>kuala lumpur (malaysia)</td>\n",
       "      <td>NaN</td>\n",
       "      <td>NaN</td>\n",
       "      <td>changing</td>\n",
       "      <td>0</td>\n",
       "      <td>Strange lights?</td>\n",
       "      <td>3/18/2014</td>\n",
       "      <td>3.139003</td>\n",
       "      <td>101.686855</td>\n",
       "    </tr>\n",
       "    <tr>\n",
       "      <th>39415</th>\n",
       "      <td>3/9/2014 3:00</td>\n",
       "      <td>fort mill</td>\n",
       "      <td>sc</td>\n",
       "      <td>us</td>\n",
       "      <td>unknown</td>\n",
       "      <td>7200</td>\n",
       "      <td>We are being chipped in our sleep.</td>\n",
       "      <td>3/18/2014</td>\n",
       "      <td>35.0072222</td>\n",
       "      <td>-80.945278</td>\n",
       "    </tr>\n",
       "    <tr>\n",
       "      <th>39416</th>\n",
       "      <td>3/9/2014 6:00</td>\n",
       "      <td>hillsville</td>\n",
       "      <td>nc</td>\n",
       "      <td>NaN</td>\n",
       "      <td>cigar</td>\n",
       "      <td>0</td>\n",
       "      <td>A bright cigar shaped UFO seen over Huntsville...</td>\n",
       "      <td>3/18/2014</td>\n",
       "      <td>35.834981</td>\n",
       "      <td>-79.939360</td>\n",
       "    </tr>\n",
       "    <tr>\n",
       "      <th>39417</th>\n",
       "      <td>3/9/2014 16:45</td>\n",
       "      <td>toluca lake</td>\n",
       "      <td>ca</td>\n",
       "      <td>NaN</td>\n",
       "      <td>other</td>\n",
       "      <td>120</td>\n",
       "      <td>Bright Pinpoint of Light Near Aircraft Contrail.</td>\n",
       "      <td>3/18/2014</td>\n",
       "      <td>34.150179</td>\n",
       "      <td>-118.354961</td>\n",
       "    </tr>\n",
       "    <tr>\n",
       "      <th>39418</th>\n",
       "      <td>3/9/2014 19:10</td>\n",
       "      <td>coto de caza</td>\n",
       "      <td>ca</td>\n",
       "      <td>us</td>\n",
       "      <td>flash</td>\n",
       "      <td>1</td>\n",
       "      <td>Quick orangish flash&amp;#44 less then a second in...</td>\n",
       "      <td>3/18/2014</td>\n",
       "      <td>33.6041667</td>\n",
       "      <td>-117.586111</td>\n",
       "    </tr>\n",
       "    <tr>\n",
       "      <th>39419</th>\n",
       "      <td>3/9/2014 19:40</td>\n",
       "      <td>rochester</td>\n",
       "      <td>mn</td>\n",
       "      <td>us</td>\n",
       "      <td>triangle</td>\n",
       "      <td>60</td>\n",
       "      <td>Huge&amp;#44 black&amp;#44 completely silent&amp;#44 slow ...</td>\n",
       "      <td>3/18/2014</td>\n",
       "      <td>44.0216667</td>\n",
       "      <td>-92.469722</td>\n",
       "    </tr>\n",
       "    <tr>\n",
       "      <th>39420</th>\n",
       "      <td>3/9/2014 20:00</td>\n",
       "      <td>inver grove heights</td>\n",
       "      <td>mn</td>\n",
       "      <td>us</td>\n",
       "      <td>formation</td>\n",
       "      <td>300</td>\n",
       "      <td>4 yellow-orange lights flying against busy Sun...</td>\n",
       "      <td>3/18/2014</td>\n",
       "      <td>44.8480556</td>\n",
       "      <td>-93.042500</td>\n",
       "    </tr>\n",
       "    <tr>\n",
       "      <th>39421</th>\n",
       "      <td>3/9/2014 20:00</td>\n",
       "      <td>sunrise</td>\n",
       "      <td>fl</td>\n",
       "      <td>us</td>\n",
       "      <td>light</td>\n",
       "      <td>0</td>\n",
       "      <td>Strange moving light changing color through th...</td>\n",
       "      <td>3/18/2014</td>\n",
       "      <td>26.1336111</td>\n",
       "      <td>-80.113333</td>\n",
       "    </tr>\n",
       "    <tr>\n",
       "      <th>39422</th>\n",
       "      <td>3/9/2014 20:45</td>\n",
       "      <td>albuquerque</td>\n",
       "      <td>nm</td>\n",
       "      <td>us</td>\n",
       "      <td>sphere</td>\n",
       "      <td>60</td>\n",
       "      <td>White sphere descends from sky in the Bosque.</td>\n",
       "      <td>4/18/2014</td>\n",
       "      <td>35.0844444</td>\n",
       "      <td>-106.650556</td>\n",
       "    </tr>\n",
       "    <tr>\n",
       "      <th>39423</th>\n",
       "      <td>3/9/2014 20:45</td>\n",
       "      <td>commack</td>\n",
       "      <td>ny</td>\n",
       "      <td>us</td>\n",
       "      <td>fireball</td>\n",
       "      <td>240</td>\n",
       "      <td>Orange fire like lights in sky.</td>\n",
       "      <td>3/18/2014</td>\n",
       "      <td>40.8427778</td>\n",
       "      <td>-73.293333</td>\n",
       "    </tr>\n",
       "    <tr>\n",
       "      <th>39424</th>\n",
       "      <td>3/9/2014 21:00</td>\n",
       "      <td>allahabad (india)</td>\n",
       "      <td>NaN</td>\n",
       "      <td>NaN</td>\n",
       "      <td>fireball</td>\n",
       "      <td>900</td>\n",
       "      <td>A UFO FLYING.</td>\n",
       "      <td>3/18/2014</td>\n",
       "      <td>25.435801</td>\n",
       "      <td>81.846311</td>\n",
       "    </tr>\n",
       "    <tr>\n",
       "      <th>39425</th>\n",
       "      <td>3/9/2014 21:30</td>\n",
       "      <td>lakeland</td>\n",
       "      <td>fl</td>\n",
       "      <td>us</td>\n",
       "      <td>light</td>\n",
       "      <td>900</td>\n",
       "      <td>Orange lights across the night sky - a strange...</td>\n",
       "      <td>3/18/2014</td>\n",
       "      <td>28.0391667</td>\n",
       "      <td>-81.950000</td>\n",
       "    </tr>\n",
       "    <tr>\n",
       "      <th>39426</th>\n",
       "      <td>3/9/2014 21:30</td>\n",
       "      <td>puyallup</td>\n",
       "      <td>wa</td>\n",
       "      <td>us</td>\n",
       "      <td>other</td>\n",
       "      <td>12</td>\n",
       "      <td>Very large V shaped object with 2 very bright ...</td>\n",
       "      <td>3/18/2014</td>\n",
       "      <td>47.1855556</td>\n",
       "      <td>-122.291667</td>\n",
       "    </tr>\n",
       "    <tr>\n",
       "      <th>39427</th>\n",
       "      <td>3/9/2014 21:40</td>\n",
       "      <td>kemah</td>\n",
       "      <td>tx</td>\n",
       "      <td>us</td>\n",
       "      <td>unknown</td>\n",
       "      <td>600</td>\n",
       "      <td>Each object did not all stop emitting light at...</td>\n",
       "      <td>3/18/2014</td>\n",
       "      <td>29.5425</td>\n",
       "      <td>-95.020278</td>\n",
       "    </tr>\n",
       "    <tr>\n",
       "      <th>39428</th>\n",
       "      <td>3/9/2014 22:00</td>\n",
       "      <td>canton</td>\n",
       "      <td>mi</td>\n",
       "      <td>us</td>\n",
       "      <td>sphere</td>\n",
       "      <td>120</td>\n",
       "      <td>3 orange orbs 1000 feet off ground 100 yards a...</td>\n",
       "      <td>3/18/2014</td>\n",
       "      <td>42.3086111</td>\n",
       "      <td>-83.482222</td>\n",
       "    </tr>\n",
       "    <tr>\n",
       "      <th>39429</th>\n",
       "      <td>3/9/2014 22:00</td>\n",
       "      <td>centennial</td>\n",
       "      <td>co</td>\n",
       "      <td>us</td>\n",
       "      <td>light</td>\n",
       "      <td>10800</td>\n",
       "      <td>Strange lights seen by 5 witnesses dipping low...</td>\n",
       "      <td>3/18/2014</td>\n",
       "      <td>39.5791667</td>\n",
       "      <td>-104.876389</td>\n",
       "    </tr>\n",
       "    <tr>\n",
       "      <th>39430</th>\n",
       "      <td>3/9/2014 22:00</td>\n",
       "      <td>jupiter</td>\n",
       "      <td>fl</td>\n",
       "      <td>us</td>\n",
       "      <td>circle</td>\n",
       "      <td>60</td>\n",
       "      <td>A round orange glowing object moved east to we...</td>\n",
       "      <td>3/18/2014</td>\n",
       "      <td>26.9338889</td>\n",
       "      <td>-80.094444</td>\n",
       "    </tr>\n",
       "    <tr>\n",
       "      <th>39431</th>\n",
       "      <td>3/9/2014 22:00</td>\n",
       "      <td>mesa</td>\n",
       "      <td>az</td>\n",
       "      <td>us</td>\n",
       "      <td>rectangle</td>\n",
       "      <td>300</td>\n",
       "      <td>I was just let my dogs out to the backyard. An...</td>\n",
       "      <td>3/18/2014</td>\n",
       "      <td>33.4222222</td>\n",
       "      <td>-111.821944</td>\n",
       "    </tr>\n",
       "    <tr>\n",
       "      <th>39432</th>\n",
       "      <td>3/9/2014 22:10</td>\n",
       "      <td>st. cloud</td>\n",
       "      <td>fl</td>\n",
       "      <td>us</td>\n",
       "      <td>unknown</td>\n",
       "      <td>600</td>\n",
       "      <td>Loud &amp;quot;booms.&amp;quot;</td>\n",
       "      <td>3/18/2014</td>\n",
       "      <td>28.2486111</td>\n",
       "      <td>-81.281389</td>\n",
       "    </tr>\n",
       "    <tr>\n",
       "      <th>86847</th>\n",
       "      <td>10/1/2003 0:00</td>\n",
       "      <td>texas (east; above)</td>\n",
       "      <td>tx</td>\n",
       "      <td>NaN</td>\n",
       "      <td>cylinder</td>\n",
       "      <td>600</td>\n",
       "      <td>Giant Silver Cylinders Falling in East Texas sky.</td>\n",
       "      <td>10/30/2006</td>\n",
       "      <td>31.9686</td>\n",
       "      <td>-99.901813</td>\n",
       "    </tr>\n",
       "    <tr>\n",
       "      <th>86918</th>\n",
       "      <td>10/1/2005 0:00</td>\n",
       "      <td>tucson (catalina mountains)</td>\n",
       "      <td>az</td>\n",
       "      <td>us</td>\n",
       "      <td>NaN</td>\n",
       "      <td>0</td>\n",
       "      <td>PLEASE NOTE: ANYTIME SOMEONE REPORTS STRANGE L...</td>\n",
       "      <td>2/14/2006</td>\n",
       "      <td>32.2217</td>\n",
       "      <td>-110.925833</td>\n",
       "    </tr>\n",
       "  </tbody>\n",
       "</table>\n",
       "<p>39433 rows × 10 columns</p>\n",
       "</div>"
      ],
      "text/plain": [
       "               datetime                           city state country  \\\n",
       "0      10/10/1949 20:30                     san marcos    tx      us   \n",
       "1      10/10/1949 21:00                   lackland afb    tx     NaN   \n",
       "2      10/10/1955 17:00           chester (uk/england)   NaN      gb   \n",
       "3      10/10/1956 21:00                           edna    tx      us   \n",
       "4      10/10/1960 20:00                        kaneohe    hi      us   \n",
       "5      10/10/1961 19:00                        bristol    tn      us   \n",
       "6      10/10/1965 21:00             penarth (uk/wales)   NaN      gb   \n",
       "7      10/10/1965 23:45                        norwalk    ct      us   \n",
       "8      10/10/1966 20:00                      pell city    al      us   \n",
       "9      10/10/1966 21:00                       live oak    fl      us   \n",
       "10     10/10/1968 13:00                      hawthorne    ca      us   \n",
       "11     10/10/1968 19:00                        brevard    nc      us   \n",
       "12     10/10/1970 16:00                       bellmore    ny      us   \n",
       "13     10/10/1970 19:00                     manchester    ky      us   \n",
       "14     10/10/1971 21:00                      lexington    nc      us   \n",
       "15     10/10/1972 19:00                  harlan county    ky      us   \n",
       "16     10/10/1972 22:30                west bloomfield    mi      us   \n",
       "17     10/10/1973 19:00                        niantic    ct      us   \n",
       "18     10/10/1973 23:00                    bermuda nas   NaN     NaN   \n",
       "19     10/10/1974 17:00                   willow beach    az     NaN   \n",
       "20     10/10/1974 19:30                         hudson    ma      us   \n",
       "21     10/10/1974 21:30             cardiff (uk/wales)   NaN      gb   \n",
       "22     10/10/1974 23:00                         hudson    ks      us   \n",
       "23     10/10/1975 17:00               north charleston    sc      us   \n",
       "24     10/10/1976 20:30                      washougal    wa      us   \n",
       "25     10/10/1976 22:00  stoke mandeville (uk/england)   NaN      gb   \n",
       "26     10/10/1977 12:00                    san antonio    tx      us   \n",
       "27     10/10/1977 22:00                     louisville    ky      us   \n",
       "28      10/10/1978 2:00                         elmont    ny      us   \n",
       "29      10/10/1979 0:00                   poughkeepsie    ny      us   \n",
       "...                 ...                            ...   ...     ...   \n",
       "39405    3/9/2013 22:05                       portland    or      us   \n",
       "39406    3/9/2013 22:10                      riverside    ca      us   \n",
       "39407    3/9/2013 22:15                      charlotte    nc      us   \n",
       "39408    3/9/2013 22:20                        yucaipa    ca      us   \n",
       "39409    3/9/2013 23:05                         merced    ca      us   \n",
       "39410    3/9/2013 23:40                        lebanon    pa      us   \n",
       "39411    3/9/2013 23:40                        lebanon    pa      us   \n",
       "39412    3/10/2013 0:00                      thibodaux    la      us   \n",
       "39413     3/9/2014 0:12                        landrum    sc      us   \n",
       "39414     3/9/2014 1:00        kuala lumpur (malaysia)   NaN     NaN   \n",
       "39415     3/9/2014 3:00                      fort mill    sc      us   \n",
       "39416     3/9/2014 6:00                     hillsville    nc     NaN   \n",
       "39417    3/9/2014 16:45                    toluca lake    ca     NaN   \n",
       "39418    3/9/2014 19:10                   coto de caza    ca      us   \n",
       "39419    3/9/2014 19:40                      rochester    mn      us   \n",
       "39420    3/9/2014 20:00            inver grove heights    mn      us   \n",
       "39421    3/9/2014 20:00                        sunrise    fl      us   \n",
       "39422    3/9/2014 20:45                    albuquerque    nm      us   \n",
       "39423    3/9/2014 20:45                        commack    ny      us   \n",
       "39424    3/9/2014 21:00              allahabad (india)   NaN     NaN   \n",
       "39425    3/9/2014 21:30                       lakeland    fl      us   \n",
       "39426    3/9/2014 21:30                       puyallup    wa      us   \n",
       "39427    3/9/2014 21:40                          kemah    tx      us   \n",
       "39428    3/9/2014 22:00                         canton    mi      us   \n",
       "39429    3/9/2014 22:00                     centennial    co      us   \n",
       "39430    3/9/2014 22:00                        jupiter    fl      us   \n",
       "39431    3/9/2014 22:00                           mesa    az      us   \n",
       "39432    3/9/2014 22:10                      st. cloud    fl      us   \n",
       "86847    10/1/2003 0:00            texas (east; above)    tx     NaN   \n",
       "86918    10/1/2005 0:00    tucson (catalina mountains)    az      us   \n",
       "\n",
       "           shape duration (seconds)  \\\n",
       "0       cylinder               2700   \n",
       "1          light               7200   \n",
       "2         circle                 20   \n",
       "3         circle                 20   \n",
       "4          light                900   \n",
       "5         sphere                300   \n",
       "6         circle                180   \n",
       "7           disk               1200   \n",
       "8           disk                180   \n",
       "9           disk                120   \n",
       "10        circle                300   \n",
       "11      fireball                180   \n",
       "12          disk               1800   \n",
       "13       unknown                180   \n",
       "14          oval                 30   \n",
       "15        circle               1200   \n",
       "16          disk                120   \n",
       "17          disk               1800   \n",
       "18         light                 20   \n",
       "19         light                120   \n",
       "20         other               2700   \n",
       "21          disk               1200   \n",
       "22         light               1200   \n",
       "23         light                360   \n",
       "24          oval                 60   \n",
       "25         cigar                  3   \n",
       "26         other                 30   \n",
       "27         light                 30   \n",
       "28     rectangle                300   \n",
       "29       chevron                900   \n",
       "...          ...                ...   \n",
       "39405   triangle                 45   \n",
       "39406       oval                 20   \n",
       "39407      other                 20   \n",
       "39408     circle                180   \n",
       "39409   fireball                120   \n",
       "39410  formation                 10   \n",
       "39411  formation                 10   \n",
       "39412   fireball                240   \n",
       "39413      cross                  0   \n",
       "39414   changing                  0   \n",
       "39415    unknown               7200   \n",
       "39416      cigar                  0   \n",
       "39417      other                120   \n",
       "39418      flash                  1   \n",
       "39419   triangle                 60   \n",
       "39420  formation                300   \n",
       "39421      light                  0   \n",
       "39422     sphere                 60   \n",
       "39423   fireball                240   \n",
       "39424   fireball                900   \n",
       "39425      light                900   \n",
       "39426      other                 12   \n",
       "39427    unknown                600   \n",
       "39428     sphere                120   \n",
       "39429      light              10800   \n",
       "39430     circle                 60   \n",
       "39431  rectangle                300   \n",
       "39432    unknown                600   \n",
       "86847   cylinder                600   \n",
       "86918        NaN                  0   \n",
       "\n",
       "                                                comments date posted  \\\n",
       "0      This event took place in early fall around 194...   4/27/2004   \n",
       "1      1949 Lackland AFB&#44 TX.  Lights racing acros...  12/16/2005   \n",
       "2      Green/Orange circular disc over Chester&#44 En...   1/21/2008   \n",
       "3      My older brother and twin sister were leaving ...   1/17/2004   \n",
       "4      AS a Marine 1st Lt. flying an FJ4B fighter/att...   1/22/2004   \n",
       "5      My father is now 89 my brother 52 the girl wit...   4/27/2007   \n",
       "6      penarth uk  circle  3mins  stayed 30ft above m...   2/14/2006   \n",
       "7      A bright orange color changing to reddish colo...   10/2/1999   \n",
       "8      Strobe Lighted disk shape object observed clos...   3/19/2009   \n",
       "9      Saucer zaps energy from powerline as my pregna...   5/11/2005   \n",
       "10     ROUND &#44 ORANGE &#44 WITH WHAT I WOULD SAY W...  10/31/2003   \n",
       "11     silent red /orange mass of energy floated by t...   6/12/2008   \n",
       "12              silver disc seen by family and neighbors   5/11/2000   \n",
       "13     Slow moving&#44 silent craft accelerated at an...   2/14/2008   \n",
       "14     green oval shaped light over my local church&#...   2/14/2010   \n",
       "15     On october 10&#44 1972 myself&#44my 5yrs.daugh...   9/15/2005   \n",
       "16     The UFO was so close&#44 my battery in the car...   8/14/2007   \n",
       "17     Oh&#44 what a night &#33  Two (2) saucer-shape...   9/24/2003   \n",
       "18     saw fast moving blip on the radar scope thin w...   1/11/2002   \n",
       "19     The object was a brillant white light standing...   2/18/2001   \n",
       "20     Not sure of the eact month or year of this sig...   8/10/1999   \n",
       "21     back in 1974 I was 19 at the time and  lived i...    2/1/2007   \n",
       "22                                  The light chased us.   7/25/2004   \n",
       "23     Several Flashing UFO lights over Charleston Na...   2/14/2008   \n",
       "24     Three extremely large lights hanging above nea...    2/7/2014   \n",
       "25                 White object over Buckinghamshire UK.  12/12/2009   \n",
       "26     i was about six or seven and my family and me ...   2/24/2005   \n",
       "27     HBCCUFO CANADIAN REPORT:  Pilot Sighting Of Un...   3/17/2004   \n",
       "28     A memory I will never forget that happened men...    2/1/2007   \n",
       "29     1/4 moon-like&#44  its &#39chord&#39 or flat s...   4/16/2005   \n",
       "...                                                  ...         ...   \n",
       "39405  Three triangular bright orange light objects h...   5/15/2013   \n",
       "39406  Very bright green light coming from oval shape...   5/15/2013   \n",
       "39407  Massive dark bow shaped flying object over Upt...   4/12/2013   \n",
       "39408  At approximately 22:20PST&#44 multiple witness...   4/12/2013   \n",
       "39409                         Orange bright light is sky   5/15/2013   \n",
       "39410  A silent string formation&#448-10 amber lights...   4/12/2013   \n",
       "39411  A silent string formation&#448-10 amber lights...   8/30/2013   \n",
       "39412                              Orb over Thibodaux la   5/15/2013   \n",
       "39413  It is stationary then it zig zags&#44 up&#44 d...   3/18/2014   \n",
       "39414                                    Strange lights?   3/18/2014   \n",
       "39415                 We are being chipped in our sleep.   3/18/2014   \n",
       "39416  A bright cigar shaped UFO seen over Huntsville...   3/18/2014   \n",
       "39417   Bright Pinpoint of Light Near Aircraft Contrail.   3/18/2014   \n",
       "39418  Quick orangish flash&#44 less then a second in...   3/18/2014   \n",
       "39419  Huge&#44 black&#44 completely silent&#44 slow ...   3/18/2014   \n",
       "39420  4 yellow-orange lights flying against busy Sun...   3/18/2014   \n",
       "39421  Strange moving light changing color through th...   3/18/2014   \n",
       "39422      White sphere descends from sky in the Bosque.   4/18/2014   \n",
       "39423                    Orange fire like lights in sky.   3/18/2014   \n",
       "39424                                      A UFO FLYING.   3/18/2014   \n",
       "39425  Orange lights across the night sky - a strange...   3/18/2014   \n",
       "39426  Very large V shaped object with 2 very bright ...   3/18/2014   \n",
       "39427  Each object did not all stop emitting light at...   3/18/2014   \n",
       "39428  3 orange orbs 1000 feet off ground 100 yards a...   3/18/2014   \n",
       "39429  Strange lights seen by 5 witnesses dipping low...   3/18/2014   \n",
       "39430  A round orange glowing object moved east to we...   3/18/2014   \n",
       "39431  I was just let my dogs out to the backyard. An...   3/18/2014   \n",
       "39432                            Loud &quot;booms.&quot;   3/18/2014   \n",
       "86847  Giant Silver Cylinders Falling in East Texas sky.  10/30/2006   \n",
       "86918  PLEASE NOTE: ANYTIME SOMEONE REPORTS STRANGE L...   2/14/2006   \n",
       "\n",
       "         latitude   longitude  \n",
       "0      29.8830556  -97.941111  \n",
       "1        29.38421  -98.581082  \n",
       "2            53.2   -2.916667  \n",
       "3      28.9783333  -96.645833  \n",
       "4      21.4180556 -157.803611  \n",
       "5          36.595  -82.188889  \n",
       "6       51.434722   -3.180000  \n",
       "7         41.1175  -73.408333  \n",
       "8      33.5861111  -86.286111  \n",
       "9      30.2947222  -82.984167  \n",
       "10     33.9163889 -118.351667  \n",
       "11     35.2333333  -82.734444  \n",
       "12     40.6686111  -73.527500  \n",
       "13     37.1536111  -83.761944  \n",
       "14     35.8238889  -80.253611  \n",
       "15     36.8430556  -83.321944  \n",
       "16     42.5377778  -83.233056  \n",
       "17     41.3252778  -72.193611  \n",
       "18      32.364167  -64.678611  \n",
       "19              0    0.000000  \n",
       "20     42.3916667  -71.566667  \n",
       "21           51.5   -3.200000  \n",
       "22     38.1055556  -98.659722  \n",
       "23     32.8544444  -79.975000  \n",
       "24     45.5827778 -122.352222  \n",
       "25      51.783333   -0.783333  \n",
       "26     29.4238889  -98.493333  \n",
       "27     38.2541667  -85.759444  \n",
       "28     40.7008333  -73.713333  \n",
       "29     41.7002778  -73.921389  \n",
       "...           ...         ...  \n",
       "39405  45.5236111 -122.675000  \n",
       "39406  33.9533333 -117.395278  \n",
       "39407  35.2269444  -80.843333  \n",
       "39408  34.0336111 -117.042222  \n",
       "39409  37.3022222 -120.481944  \n",
       "39410  40.3408333  -76.411667  \n",
       "39411  40.3408333  -76.411667  \n",
       "39412  29.7955556  -90.822778  \n",
       "39413      35.175  -82.189444  \n",
       "39414    3.139003  101.686855  \n",
       "39415  35.0072222  -80.945278  \n",
       "39416   35.834981  -79.939360  \n",
       "39417   34.150179 -118.354961  \n",
       "39418  33.6041667 -117.586111  \n",
       "39419  44.0216667  -92.469722  \n",
       "39420  44.8480556  -93.042500  \n",
       "39421  26.1336111  -80.113333  \n",
       "39422  35.0844444 -106.650556  \n",
       "39423  40.8427778  -73.293333  \n",
       "39424   25.435801   81.846311  \n",
       "39425  28.0391667  -81.950000  \n",
       "39426  47.1855556 -122.291667  \n",
       "39427     29.5425  -95.020278  \n",
       "39428  42.3086111  -83.482222  \n",
       "39429  39.5791667 -104.876389  \n",
       "39430  26.9338889  -80.094444  \n",
       "39431  33.4222222 -111.821944  \n",
       "39432  28.2486111  -81.281389  \n",
       "86847     31.9686  -99.901813  \n",
       "86918     32.2217 -110.925833  \n",
       "\n",
       "[39433 rows x 10 columns]"
      ]
     },
     "execution_count": 194,
     "metadata": {},
     "output_type": "execute_result"
    }
   ],
   "source": [
    "import numpy as np\n",
    "import pandas as pd\n",
    "df = pd.read_csv('ufo.csv')\n",
    "selected_period = df[(df['datetime'] >= '01-01-1950 00:00:00') & (df['datetime'] <= '31-12-1960 23:59:59')]\n",
    "selected_period"
   ]
  },
  {
   "cell_type": "markdown",
   "metadata": {},
   "source": [
    "### Q132.Write a Pandas program to extract the year, month, day, hour,minute, second,and weekday from unidentified flying object (UFO) reporting date."
   ]
  },
  {
   "cell_type": "code",
   "execution_count": 202,
   "metadata": {},
   "outputs": [
    {
     "name": "stdout",
     "output_type": "stream",
     "text": [
      "[1949 1949 1955 ..., 2013 2013 2013]\n"
     ]
    }
   ],
   "source": [
    "print('Years')\n",
    "print(pd.DatetimeIndex(df['datetime']).year)\n",
    "print('\\nMonth')\n",
    "print(pd.DatetimeIndex(df['datetime']).month)\n",
    "print('\\nDay')\n",
    "print(pd.DatetimeIndex(df['datetime']).day)\n",
    "print('\\nHour')\n",
    "print(pd.DatetimeIndex(df['datetime']).hour)\n",
    "print('\\nMinute')\n",
    "print(pd.DatetimeIndex(df['datetime']).minute)\n",
    "print('\\nSecond')\n",
    "print(pd.DatetimeIndex(df['datetime']).second)\n",
    "print('\\nWeekday')\n",
    "print(pd.DatetimeIndex(df['datetime']).weekday_name)"
   ]
  },
  {
   "cell_type": "markdown",
   "metadata": {},
   "source": [
    "### Q133.Write a pandas program to count year-country wise frequency of reporting dates of the unidentified flying object(UFO)."
   ]
  },
  {
   "cell_type": "code",
   "execution_count": 216,
   "metadata": {},
   "outputs": [
    {
     "name": "stderr",
     "output_type": "stream",
     "text": [
      "C:\\Program Files (x86)\\Anaconda3\\lib\\site-packages\\IPython\\core\\interactiveshell.py:2717: DtypeWarning: Columns (5,8) have mixed types. Specify dtype option on import or set low_memory=False.\n",
      "  interactivity=interactivity, compiler=compiler, result=result)\n"
     ]
    },
    {
     "name": "stdout",
     "output_type": "stream",
     "text": [
      "Original DataFrame\n",
      "           datetime                  city state country     shape  \\\n",
      "0  10/10/1949 20:30            san marcos    tx      us  cylinder   \n",
      "1  10/10/1949 21:00          lackland afb    tx     NaN     light   \n",
      "2  10/10/1955 17:00  chester (uk/england)   NaN      gb    circle   \n",
      "3  10/10/1956 21:00                  edna    tx      us    circle   \n",
      "4  10/10/1960 20:00               kaneohe    hi      us     light   \n",
      "\n",
      "  duration (seconds)                                           comments  \\\n",
      "0               2700  This event took place in early fall around 194...   \n",
      "1               7200  1949 Lackland AFB&#44 TX.  Lights racing acros...   \n",
      "2                 20  Green/Orange circular disc over Chester&#44 En...   \n",
      "3                 20  My older brother and twin sister were leaving ...   \n",
      "4                900  AS a Marine 1st Lt. flying an FJ4B fighter/att...   \n",
      "\n",
      "  date posted    latitude   longitude  \n",
      "0   4/27/2004  29.8830556  -97.941111  \n",
      "1  12/16/2005    29.38421  -98.581082  \n",
      "2   1/21/2008        53.2   -2.916667  \n",
      "3   1/17/2004  28.9783333  -96.645833  \n",
      "4   1/22/2004  21.4180556 -157.803611  \n",
      "count year-country wise frequency of reporting dates of the unidentified flying object(UFO)\n",
      "Year  country\n",
      "1910  us            3\n",
      "1920  us            1\n",
      "1925  us            1\n",
      "1929  us            1\n",
      "1930  us            1\n",
      "1931  us            2\n",
      "1934  us            1\n",
      "1936  ca            1\n",
      "      us            2\n",
      "1937  us            2\n",
      "1939  us            3\n",
      "1941  us            1\n",
      "1942  us            3\n",
      "1943  gb            1\n",
      "      us            1\n",
      "1944  us            3\n",
      "1945  us            7\n",
      "1946  ca            1\n",
      "      us            8\n",
      "1947  us           38\n",
      "1948  us            8\n",
      "1949  us           16\n",
      "1950  us           24\n",
      "1951  ca            2\n",
      "      gb            1\n",
      "      us           14\n",
      "1952  ca            3\n",
      "      gb            1\n",
      "      us           42\n",
      "1953  ca            2\n",
      "                 ... \n",
      "2009  au           15\n",
      "      ca          151\n",
      "      de            6\n",
      "      gb          213\n",
      "      us         3938\n",
      "2010  au           17\n",
      "      ca          154\n",
      "      de            4\n",
      "      gb          119\n",
      "      us         3825\n",
      "2011  au           14\n",
      "      ca          140\n",
      "      de            3\n",
      "      gb           56\n",
      "      us         4666\n",
      "2012  au           20\n",
      "      ca          251\n",
      "      de            6\n",
      "      gb           87\n",
      "      us         6749\n",
      "2013  au           35\n",
      "      ca          273\n",
      "      de            6\n",
      "      gb           52\n",
      "      us         6464\n",
      "2014  au           14\n",
      "      ca           48\n",
      "      de            3\n",
      "      gb           22\n",
      "      us         2119\n",
      "dtype: int64\n"
     ]
    }
   ],
   "source": [
    "import numpy as np\n",
    "import pandas as pd\n",
    "df = pd.read_csv(r'ufo.csv')\n",
    "\n",
    "print('Original DataFrame')\n",
    "print(df.head())\n",
    "\n",
    "df['Year'] = pd.DatetimeIndex(df['datetime']).year\n",
    "result = df.groupby(['Year', 'country']).size()\n",
    "print('count year-country wise frequency of reporting dates of the unidentified flying object(UFO)')\n",
    "print(result)"
   ]
  },
  {
   "cell_type": "markdown",
   "metadata": {},
   "source": [
    "### Q134.Write a pandas program to get the difference (in days) between documented date and reporting date of unidentified flying object (UFO)."
   ]
  },
  {
   "cell_type": "code",
   "execution_count": 226,
   "metadata": {},
   "outputs": [
    {
     "name": "stderr",
     "output_type": "stream",
     "text": [
      "C:\\Program Files (x86)\\Anaconda3\\lib\\site-packages\\IPython\\core\\interactiveshell.py:2717: DtypeWarning: Columns (5,8) have mixed types. Specify dtype option on import or set low_memory=False.\n",
      "  interactivity=interactivity, compiler=compiler, result=result)\n"
     ]
    },
    {
     "name": "stdout",
     "output_type": "stream",
     "text": [
      "             datetime                  city state country     shape  \\\n",
      "0 1949-10-10 20:30:00            san marcos    tx      us  cylinder   \n",
      "1 1949-10-10 21:00:00          lackland afb    tx     NaN     light   \n",
      "2 1955-10-10 17:00:00  chester (uk/england)   NaN      gb    circle   \n",
      "3 1956-10-10 21:00:00                  edna    tx      us    circle   \n",
      "4 1960-10-10 20:00:00               kaneohe    hi      us     light   \n",
      "\n",
      "  duration (seconds)                                           comments  \\\n",
      "0               2700  This event took place in early fall around 194...   \n",
      "1               7200  1949 Lackland AFB&#44 TX.  Lights racing acros...   \n",
      "2                 20  Green/Orange circular disc over Chester&#44 En...   \n",
      "3                 20  My older brother and twin sister were leaving ...   \n",
      "4                900  AS a Marine 1st Lt. flying an FJ4B fighter/att...   \n",
      "\n",
      "  date posted    latitude   longitude  Difference  \n",
      "0  2004-04-27  29.8830556  -97.941111       19922  \n",
      "1  2005-12-16    29.38421  -98.581082       20520  \n",
      "2  2008-01-21        53.2   -2.916667       19095  \n",
      "3  2004-01-17  28.9783333  -96.645833       17264  \n",
      "4  2004-01-22  21.4180556 -157.803611       15808  \n"
     ]
    }
   ],
   "source": [
    "import numpy as np\n",
    "import pandas as pd\n",
    "df = pd.read_csv(r'ufo.csv')\n",
    "df['datetime'] = pd.to_datetime(df['datetime'])\n",
    "df['date posted'] = pd.to_datetime(df['date posted'])\n",
    "df['Difference'] = (df['date posted'] - df['datetime']).dt.days\n",
    "print(df.head())"
   ]
  },
  {
   "cell_type": "markdown",
   "metadata": {},
   "source": [
    "### Q135.Write a pandas program to generate sequences of fixed-frequency dates and time spans."
   ]
  },
  {
   "cell_type": "code",
   "execution_count": 235,
   "metadata": {},
   "outputs": [
    {
     "name": "stdout",
     "output_type": "stream",
     "text": [
      "Hourly Frequence\n",
      "DatetimeIndex(['2019-01-01 00:00:00', '2019-01-01 01:00:00',\n",
      "               '2019-01-01 02:00:00', '2019-01-01 03:00:00',\n",
      "               '2019-01-01 04:00:00', '2019-01-01 05:00:00',\n",
      "               '2019-01-01 06:00:00', '2019-01-01 07:00:00',\n",
      "               '2019-01-01 08:00:00', '2019-01-01 09:00:00',\n",
      "               '2019-01-01 10:00:00', '2019-01-01 11:00:00'],\n",
      "              dtype='datetime64[ns]', freq='H')\n",
      "\n",
      "Minutely Frequence\n",
      "DatetimeIndex(['2019-01-01 00:00:00', '2019-01-01 00:01:00',\n",
      "               '2019-01-01 00:02:00', '2019-01-01 00:03:00',\n",
      "               '2019-01-01 00:04:00', '2019-01-01 00:05:00',\n",
      "               '2019-01-01 00:06:00', '2019-01-01 00:07:00',\n",
      "               '2019-01-01 00:08:00', '2019-01-01 00:09:00',\n",
      "               '2019-01-01 00:10:00', '2019-01-01 00:11:00'],\n",
      "              dtype='datetime64[ns]', freq='T')\n",
      "\n",
      "Secondly Frequence\n",
      "DatetimeIndex(['2019-01-01 00:00:00', '2019-01-01 00:00:01',\n",
      "               '2019-01-01 00:00:02', '2019-01-01 00:00:03',\n",
      "               '2019-01-01 00:00:04', '2019-01-01 00:00:05',\n",
      "               '2019-01-01 00:00:06', '2019-01-01 00:00:07',\n",
      "               '2019-01-01 00:00:08', '2019-01-01 00:00:09',\n",
      "               '2019-01-01 00:00:10', '2019-01-01 00:00:11'],\n",
      "              dtype='datetime64[ns]', freq='S')\n"
     ]
    }
   ],
   "source": [
    "import pandas as pd\n",
    "dtr = pd.date_range('2019-01-01', periods=12, freq='H')\n",
    "print('Hourly Frequence')\n",
    "print(dtr)\n",
    "\n",
    "dtr = pd.date_range('2019-01-01', periods=12, freq='min')\n",
    "print('\\nMinutely Frequence')\n",
    "print(dtr)\n",
    "\n",
    "dtr = pd.date_range('2019-01-01', periods=12, freq='S')\n",
    "print('\\nSecondly Frequence')\n",
    "print(dtr)\n"
   ]
  },
  {
   "cell_type": "markdown",
   "metadata": {},
   "source": [
    "### Q136.Write a pandas program to manipulate and convert date times with timezone information."
   ]
  },
  {
   "cell_type": "code",
   "execution_count": 247,
   "metadata": {},
   "outputs": [
    {
     "name": "stdout",
     "output_type": "stream",
     "text": [
      "DatetimeIndex(['2019-01-01 00:00:00+00:00', '2019-01-01 01:00:00+00:00',\n",
      "               '2019-01-01 02:00:00+00:00', '2019-01-01 03:00:00+00:00',\n",
      "               '2019-01-01 04:00:00+00:00', '2019-01-01 05:00:00+00:00',\n",
      "               '2019-01-01 06:00:00+00:00', '2019-01-01 07:00:00+00:00',\n",
      "               '2019-01-01 08:00:00+00:00', '2019-01-01 09:00:00+00:00',\n",
      "               '2019-01-01 10:00:00+00:00', '2019-01-01 11:00:00+00:00'],\n",
      "              dtype='datetime64[ns, UTC]', freq='H')\n",
      "\n",
      "From UTC to Asia/India:\n",
      "DatetimeIndex(['2019-01-01 05:30:00+05:30', '2019-01-01 06:30:00+05:30',\n",
      "               '2019-01-01 07:30:00+05:30', '2019-01-01 08:30:00+05:30',\n",
      "               '2019-01-01 09:30:00+05:30', '2019-01-01 10:30:00+05:30',\n",
      "               '2019-01-01 11:30:00+05:30', '2019-01-01 12:30:00+05:30',\n",
      "               '2019-01-01 13:30:00+05:30', '2019-01-01 14:30:00+05:30',\n",
      "               '2019-01-01 15:30:00+05:30', '2019-01-01 16:30:00+05:30'],\n",
      "              dtype='datetime64[ns, Asia/Kolkata]', freq='H')\n"
     ]
    }
   ],
   "source": [
    "import pandas as pd\n",
    "dt = pd.date_range('2019-01-01', periods=12, freq='H')\n",
    "dt = dt.tz_localize('UTC')\n",
    "print(dt)\n",
    "print(\"\\nFrom UTC to Asia/India:\")\n",
    "dt = dt.tz_convert('Asia/Kolkata')\n",
    "print(dt)"
   ]
  },
  {
   "cell_type": "markdown",
   "metadata": {},
   "source": [
    "### Q137.Write a pandas program to create the graphical analysis of UFO (unidentified flying object)   Sightings year."
   ]
  },
  {
   "cell_type": "code",
   "execution_count": 5,
   "metadata": {},
   "outputs": [
    {
     "name": "stderr",
     "output_type": "stream",
     "text": [
      "C:\\Program Files (x86)\\Anaconda3\\lib\\site-packages\\IPython\\core\\interactiveshell.py:2717: DtypeWarning: Columns (5,8) have mixed types. Specify dtype option on import or set low_memory=False.\n",
      "  interactivity=interactivity, compiler=compiler, result=result)\n"
     ]
    }
   ],
   "source": [
    "import pandas as pd\n",
    "import matplotlib.pyplot as plt\n",
    "\n",
    "df =pd.read_csv(r'ufo.csv')\n",
    "df['datetime'] = pd.to_datetime(df['datetime'])\n",
    "df['date posted'] = pd.to_datetime(df['date posted'])\n",
    "df['year'] = pd.DatetimeIndex(df['datetime']).year\n",
    "years_data = df['year'].value_counts()"
   ]
  },
  {
   "cell_type": "code",
   "execution_count": 11,
   "metadata": {},
   "outputs": [],
   "source": [
    "years_index = years_data.index"
   ]
  },
  {
   "cell_type": "code",
   "execution_count": 13,
   "metadata": {},
   "outputs": [],
   "source": [
    "year_values = years_data.get_values()"
   ]
  },
  {
   "cell_type": "code",
   "execution_count": 16,
   "metadata": {},
   "outputs": [
    {
     "data": {
      "text/plain": [
       "<Container object of 90 artists>"
      ]
     },
     "execution_count": 16,
     "metadata": {},
     "output_type": "execute_result"
    },
    {
     "data": {
      "image/png": "[encoded data removed]",
      "text/plain": [
       "<matplotlib.figure.Figure at 0x983bd50>"
      ]
     },
     "metadata": {},
     "output_type": "display_data"
    }
   ],
   "source": [
    "%matplotlib inline\n",
    "plt.figure(figsize=(15,8))\n",
    "plt.xticks(rotation = 60)\n",
    "plt.title('UFO Sightings by year')\n",
    "plt.xlabel('Year')\n",
    "plt.ylabel('Number of reports')\n",
    "plt.bar(years_index, year_values)"
   ]
  },
  {
   "cell_type": "markdown",
   "metadata": {},
   "source": [
    "### Q138.Write a pandas program to create a comparison of the top 10 years in which the (UFO)was sighted VS each Month"
   ]
  },
  {
   "cell_type": "code",
   "execution_count": 1,
   "metadata": {},
   "outputs": [
    {
     "name": "stderr",
     "output_type": "stream",
     "text": [
      "C:\\Program Files (x86)\\Anaconda3\\lib\\site-packages\\IPython\\core\\interactiveshell.py:2717: DtypeWarning: Columns (5,8) have mixed types. Specify dtype option on import or set low_memory=False.\n",
      "  interactivity=interactivity, compiler=compiler, result=result)\n"
     ]
    }
   ],
   "source": [
    "import pandas as pd\n",
    "import matplotlib.pyplot as plt\n",
    "df =pd.read_csv(r'ufo.csv')\n",
    "df['datetime'] = pd.to_datetime(df['datetime'])\n",
    "df['date posted'] = pd.to_datetime(df['date posted'])"
   ]
  },
  {
   "cell_type": "code",
   "execution_count": 2,
   "metadata": {},
   "outputs": [],
   "source": [
    "df['year'] = pd.DatetimeIndex(df['datetime']).year\n",
    "years_data = df['year'].value_counts()\n",
    "most_sightings_years  = years_data.head(10)"
   ]
  },
  {
   "cell_type": "code",
   "execution_count": 3,
   "metadata": {
    "collapsed": true
   },
   "outputs": [],
   "source": [
    "def is_top_years(year):\n",
    "    if year in most_sightings_years.index:\n",
    "        return year"
   ]
  },
  {
   "cell_type": "code",
   "execution_count": 6,
   "metadata": {},
   "outputs": [
    {
     "name": "stdout",
     "output_type": "stream",
     "text": [
      "[10 10 10 ...,  9  9  9]\n"
     ]
    }
   ],
   "source": [
    "columns=df['datetime'].dt.month\n",
    "index=df['datetime'].dt.year.apply(is_top_years)\n",
    "aggfunc='count'\n",
    "values='city'\n",
    "\n",
    "columns = columns.get_values()# columns.reset_index(level=1, drop=False,inplace=False)\n",
    "print(columns)"
   ]
  },
  {
   "cell_type": "code",
   "execution_count": 7,
   "metadata": {},
   "outputs": [],
   "source": [
    "month_vs_year = df .pivot_table(columns=columns,index=index, aggfunc='count',values='city')"
   ]
  },
  {
   "cell_type": "code",
   "execution_count": 8,
   "metadata": {},
   "outputs": [
    {
     "name": "stdout",
     "output_type": "stream",
     "text": [
      "\n",
      "Comparison of the top 10 years in which the UFO was sighted vs each month:\n",
      "           1    2    3    4    5    6    7    8    9    10   11   12\n",
      "datetime                                                            \n",
      "2003.0    328  266  191  225  251  306  449  542  505  473  470  383\n",
      "2004.0    303  300  412  389  387  425  440  545  411  452  329  307\n",
      "2005.0    256  279  357  314  300  400  456  352  531  482  465  273\n",
      "2007.0    442  264  360  321  311  419  465  468  448  445  372  358\n",
      "2008.0    472  369  340  442  343  475  570  502  383  530  453  346\n",
      "2009.0    498  394  341  317  359  384  609  499  599  321  322  290\n",
      "2010.0    292  186  260  294  328  379  837  527  449  471  361  306\n",
      "2011.0    326  275  330  316  318  397  759  634  554  639  444  529\n",
      "2012.0    579  388  529  496  513  750  926  886  755  668  773  661\n",
      "2013.0    389  281  397  424  524  625  962  895  779  778  798  747\n"
     ]
    }
   ],
   "source": [
    "print(\"\\nComparison of the top 10 years in which the UFO was sighted vs each month:\")\n",
    "print(month_vs_year.head(10))"
   ]
  },
  {
   "cell_type": "markdown",
   "metadata": {},
   "source": [
    "### Q139.Write a pandas program to create a heatmap(rectangular data asa colour-encoded matrix) for comparison oftop 10 years in which (UFO )was sighted VSeach Month."
   ]
  },
  {
   "cell_type": "code",
   "execution_count": 30,
   "metadata": {
    "scrolled": true
   },
   "outputs": [
    {
     "name": "stderr",
     "output_type": "stream",
     "text": [
      "C:\\Program Files (x86)\\Anaconda3\\lib\\site-packages\\IPython\\core\\interactiveshell.py:2717: DtypeWarning: Columns (5,8) have mixed types. Specify dtype option on import or set low_memory=False.\n",
      "  interactivity=interactivity, compiler=compiler, result=result)\n"
     ]
    },
    {
     "name": "stdout",
     "output_type": "stream",
     "text": [
      "\n",
      "Heatmap for comparison of the top 10 years in which the UFO was sighted vs each month:\n"
     ]
    },
    {
     "data": {
      "image/png": "[encoded data removed]",
      "text/plain": [
       "<matplotlib.figure.Figure at 0xa993650>"
      ]
     },
     "metadata": {},
     "output_type": "display_data"
    }
   ],
   "source": [
    "import pandas as pd\n",
    "import matplotlib.pyplot as plt\n",
    "df =pd.read_csv(r'ufo.csv')\n",
    "df['datetime'] = pd.to_datetime(df['datetime'])\n",
    "\n",
    "df['year'] = pd.DatetimeIndex(df['datetime']).year\n",
    "years_data = df['year'].value_counts()\n",
    "most_sightings_years  = years_data.head(10)\n",
    "\n",
    "def is_top_years(year):\n",
    "    if year in most_sightings_years.index:\n",
    "        return year\n",
    "\n",
    "columns=df['datetime'].dt.month\n",
    "index=df['datetime'].dt.year.apply(is_top_years)\n",
    "aggfunc='count'\n",
    "values='city'\n",
    "\n",
    "columns = columns.get_values()# columns.reset_index(level=1, drop=False,inplace=False)\n",
    "month_vs_year = df .pivot_table(columns=columns,index=index, aggfunc='count',values='city')\n",
    "month_vs_year.columns = month_vs_year.columns.astype(int)\n",
    "print(\"\\nHeatmap for comparison of the top 10 years in which the UFO was sighted vs each month:\")\n",
    "plt.figure(figsize=(10,8))\n",
    "plt.imshow(month_vs_year, cmap='hot', interpolation='nearest')\n",
    "plt.show()\n"
   ]
  },
  {
   "cell_type": "markdown",
   "metadata": {},
   "source": [
    "### Q140.Write a pandas program to create a Timewheel of Hour VSYearcomparison of the top 10 years in which the (UFO)was sighted."
   ]
  },
  {
   "cell_type": "code",
   "execution_count": 26,
   "metadata": {
    "scrolled": true
   },
   "outputs": [],
   "source": [
    "import pandas as pd \n",
    "import matplotlib.pyplot as plt \n",
    "import matplotlib as mpl \n",
    "import matplotlib.cm as cm\n"
   ]
  },
  {
   "cell_type": "code",
   "execution_count": 20,
   "metadata": {
    "collapsed": true
   },
   "outputs": [],
   "source": [
    "def is_top_years(year):\n",
    "    if year in most_sightings_years.index:\n",
    "        return year"
   ]
  },
  {
   "cell_type": "code",
   "execution_count": 33,
   "metadata": {},
   "outputs": [],
   "source": [
    "most_sightigs_yeara = df['datetime'].dt.year.value_counts().head(10)\n",
    "\n",
    "\n",
    "columns=df['datetime'].dt.month\n",
    "index=df['datetime'].dt.year.apply(is_top_years)\n",
    "columns = columns.get_values()\n",
    "month_vs_year = df.pivot_table(columns=columns,\n",
    "                               index=index,\n",
    "                               aggfunc='count',\n",
    "                               values='city'\n",
    "                              )"
   ]
  },
  {
   "cell_type": "code",
   "execution_count": 34,
   "metadata": {
    "collapsed": true
   },
   "outputs": [],
   "source": [
    "month_vs_year.index = month_vs_year.index.astype(int)\n",
    "month_vs_year.columns = month_vs_year.columns.astype(int)"
   ]
  },
  {
   "cell_type": "code",
   "execution_count": 35,
   "metadata": {},
   "outputs": [
    {
     "name": "stdout",
     "output_type": "stream",
     "text": [
      "\n",
      "Comparison of the top 10 years in which the UFO was sighted vs each month:\n"
     ]
    },
    {
     "data": {
      "image/png": "[encoded data removed]",
      "text/plain": [
       "<matplotlib.figure.Figure at 0x128f170>"
      ]
     },
     "metadata": {},
     "output_type": "display_data"
    }
   ],
   "source": [
    "import matplotlib as mpl\n",
    "import matplotlib.cm as cm\n",
    "%matplotlib inline\n",
    "print(\"\\nComparison of the top 10 years in which the UFO was sighted vs each month:\")\n",
    "def pie_heatmap(table, cmap='coolwarm_r', vmin=None, vmax=None,inner_r=0.25, pie_args={}):\n",
    "   n, m = table.shape\n",
    "   vmin= table.min().min() if vmin is None else vmin\n",
    "   vmax= table.max().max() if vmax is None else vmax\n",
    "\n",
    "   centre_circle = plt.Circle((0,0),inner_r,edgecolor='black',facecolor='white',fill=True,linewidth=0.25)\n",
    "   plt.gcf().gca().add_artist(centre_circle)\n",
    "   norm = mpl.colors.Normalize(vmin=vmin, vmax=vmax)\n",
    "   cmapper = cm.ScalarMappable(norm=norm, cmap=cmap)\n",
    "\n",
    "   for i, (row_name, row) in enumerate(table.iterrows()):\n",
    "       labels = None if i > 0 else table.columns\n",
    "       wedges = plt.pie([1] * m,radius=inner_r+float(n-i)/n, colors=[cmapper.to_rgba(x) for x in row.values],\n",
    "           labels=labels, startangle=90, counterclock=False, wedgeprops={'linewidth':-1}, **pie_args)\n",
    "       plt.setp(wedges[0], edgecolor='grey',linewidth=1.5)\n",
    "       wedges = plt.pie([1], radius=inner_r+float(n-i-1)/n, colors=['w'], labels=[row_name], startangle=-90, wedgeprops={'linewidth':0})\n",
    "       plt.setp(wedges[0], edgecolor='grey',linewidth=1.5)\n",
    "plt.figure(figsize=(8,8))\n",
    "plt.title(\"Timewheel of Hour Vs Year\",y=1.08,fontsize=30)\n",
    "pie_heatmap(month_vs_year, vmin=-20,vmax=80,inner_r=0.2)"
   ]
  },
  {
   "cell_type": "markdown",
   "metadata": {},
   "source": [
    "### Q141. Write a python program to draw the line using given axis values with the suitable label in the x-axis, y-axis,and a title."
   ]
  },
  {
   "cell_type": "code",
   "execution_count": 37,
   "metadata": {},
   "outputs": [
    {
     "data": {
      "text/plain": [
       "[<matplotlib.lines.Line2D at 0x13aa6e90>]"
      ]
     },
     "execution_count": 37,
     "metadata": {},
     "output_type": "execute_result"
    },
    {
     "data": {
      "image/png": "[encoded data removed]",
      "text/plain": [
       "<matplotlib.figure.Figure at 0xa12b690>"
      ]
     },
     "metadata": {},
     "output_type": "display_data"
    }
   ],
   "source": [
    "import matplotlib.pyplot as plt\n",
    "x = [1,2,3]\n",
    "y = [2,4,1]\n",
    "plt.xlabel('x-axis')\n",
    "plt.ylabel('y-axis')\n",
    "plt.title('sample graph')\n",
    "plt.plot(x,y)\n"
   ]
  },
  {
   "cell_type": "markdown",
   "metadata": {},
   "source": [
    "### Q142. Write a python program to draw the line charts of the financial data of the Alphabet Inc., between October."
   ]
  },
  {
   "cell_type": "code",
   "execution_count": 40,
   "metadata": {},
   "outputs": [
    {
     "data": {
      "image/png": "[encoded data removed]",
      "text/plain": [
       "<matplotlib.figure.Figure at 0x17a2c610>"
      ]
     },
     "metadata": {},
     "output_type": "display_data"
    }
   ],
   "source": [
    "import matplotlib.pyplot as plt\n",
    "import pandas as pd\n",
    "df = pd.read_csv('fdata.csv', sep=',', parse_dates=True, index_col=0)\n",
    "df.plot()\n",
    "plt.show()"
   ]
  },
  {
   "cell_type": "markdown",
   "metadata": {},
   "source": [
    "### Q143. Write a Python program to plot two or more lines on same plot with the suitable legends of eachline."
   ]
  },
  {
   "cell_type": "code",
   "execution_count": 45,
   "metadata": {},
   "outputs": [
    {
     "data": {
      "image/png": "[encoded data removed]",
      "text/plain": [
       "<matplotlib.figure.Figure at 0x35df1730>"
      ]
     },
     "metadata": {},
     "output_type": "display_data"
    }
   ],
   "source": [
    "import matplotlib.pyplot as plt\n",
    "x1 = [10,20,30]\n",
    "y1 = [20,40,10]\n",
    "plt.plot(x1, y1, label='line 1')\n",
    "\n",
    "x2 = [10,20,30]\n",
    "y2 = [40,10,30]\n",
    "plt.plot(x2, y2, label = 'line 2')\n",
    "plt.xlabel('x-axis')\n",
    "plt.title('Two or more lines on same plot with suitable legends')\n",
    "plt.legend()\n",
    "plt.show()"
   ]
  },
  {
   "cell_type": "markdown",
   "metadata": {},
   "source": [
    "### Q144.Write a python programming to display a bar chart of the popularity of programming languages"
   ]
  },
  {
   "cell_type": "code",
   "execution_count": 57,
   "metadata": {
    "scrolled": true
   },
   "outputs": [
    {
     "data": {
      "image/png": "[encoded data removed]",
      "text/plain": [
       "<matplotlib.figure.Figure at 0xae1ae90>"
      ]
     },
     "metadata": {},
     "output_type": "display_data"
    }
   ],
   "source": [
    "import matplotlib.pyplot as plt\n",
    "x = ['Java','Python','PHP',\"JavaScript\",'C#','C++']\n",
    "popularity = [22.2,17.6,8.8,8,7.7,6.7]\n",
    "\n",
    "x_pos = [i for i, _ in enumerate(x)]\n",
    "plt.bar(x_pos, popularity, color='blue')\n",
    "plt.xlabel('Lauguages')\n",
    "plt.ylabel('Popularity')\n",
    "plt.title('Popularity of Programming Language\\n')\n",
    "plt.xticks(x_pos, x)\n",
    "plt.minorticks_on()\n",
    "plt.grid(which='major', linestyle='-', linewidth='0.5', color='red')\n",
    "plt.grid(which='minor', linestyle=':', linewidth='0.5', color='red')\n",
    "plt.show()"
   ]
  },
  {
   "cell_type": "markdown",
   "metadata": {},
   "source": [
    "### Q145.Write a python programming to display a horizontal bar chart of the popularity of programming languages."
   ]
  },
  {
   "cell_type": "code",
   "execution_count": 62,
   "metadata": {},
   "outputs": [
    {
     "data": {
      "image/png": "[encoded data removed]",
      "text/plain": [
       "<matplotlib.figure.Figure at 0x13373b70>"
      ]
     },
     "metadata": {},
     "output_type": "display_data"
    }
   ],
   "source": [
    "import matplotlib.pyplot as plt\n",
    "x = ['Java','Python','PHP',\"JavaScript\",'C#','C++']\n",
    "popularity = [22.2,17.6,8.8,8,7.7,6.7]\n",
    "\n",
    "x_pos = [i for i, _ in enumerate(x)]\n",
    "plt.barh(x_pos, popularity, color='blue')\n",
    "plt.ylabel('Lauguages')\n",
    "plt.xlabel('Popularity')\n",
    "plt.title('Popularity of Programming Language\\n')\n",
    "plt.yticks(x_pos, x)\n",
    "plt.minorticks_on()\n",
    "plt.grid(which='major', linestyle='-', linewidth='0.5', color='red')\n",
    "plt.grid(which='minor', linestyle=':', linewidth='0.5', color='red')\n",
    "plt.show()"
   ]
  },
  {
   "cell_type": "markdown",
   "metadata": {},
   "source": [
    "### Q146.Write a python programming to display a bar chart of the Popularity of programming languages. Increase bottom margin"
   ]
  },
  {
   "cell_type": "code",
   "execution_count": 66,
   "metadata": {},
   "outputs": [
    {
     "data": {
      "image/png": "[encoded data removed]",
      "text/plain": [
       "<matplotlib.figure.Figure at 0x1596f2b0>"
      ]
     },
     "metadata": {},
     "output_type": "display_data"
    }
   ],
   "source": [
    "import matplotlib.pyplot as plt\n",
    "x=['java','Pytoh','PHP','JavaScript','C#','C++']\n",
    "popularity = [22.2, 17.6, 8.8, 8, 7.7, 6.7]\n",
    "x_pos = [i for i, _ in enumerate(x)]\n",
    "plt.bar(x_pos, popularity, color=(0.4, 0.6, 0.8, 0.10))\n",
    "plt.xlabel('Languages')\n",
    "plt.ylabel('Popularity')\n",
    "plt.title('Popularity of Programming Languages')\n",
    "plt.xticks(x_pos, x, rotation=90)\n",
    "plt.subplots_adjust(bottom=0.4, top=0.8)\n",
    "plt.minorticks_on()\n",
    "plt.grid(which='major', linestyle='-', linewidth='0.5', color='red')\n",
    "plt.grid(which='minor', linestyle=':', linewidth='0.5', color='black')\n",
    "plt.show()"
   ]
  },
  {
   "cell_type": "markdown",
   "metadata": {},
   "source": [
    "### Q147.Write a python program to create the bar plot from a DataFrame."
   ]
  },
  {
   "cell_type": "code",
   "execution_count": 70,
   "metadata": {},
   "outputs": [
    {
     "data": {
      "image/png": "[encoded data removed]",
      "text/plain": [
       "<matplotlib.figure.Figure at 0x1301dfd0>"
      ]
     },
     "metadata": {},
     "output_type": "display_data"
    }
   ],
   "source": [
    "import pandas as pd\n",
    "import matplotlib.pyplot as plt\n",
    "import numpy as np\n",
    "\n",
    "a=np.array([[4,8,5,7,6],[2,3,4,2,6],[4,7,4,7,8],[2,6,4,8,6],[2,4,3,3,2]])\n",
    "df=pd.DataFrame(a, columns=['a','b','c','d','e'], index=[2,4,6,8,10])\n",
    "\n",
    "df.plot(kind='bar')\n",
    "plt.minorticks_on()\n",
    "plt.grid(which='major', linestyle='-', linewidth='0.5', color='green')\n",
    "plt.grid(which='minor', linestyle=':', linewidth='0.5', color='black')\n",
    "plt.show()"
   ]
  },
  {
   "cell_type": "markdown",
   "metadata": {},
   "source": [
    "### Q148.Write a python program to draw thescatter plot comparing two subject marks of Mathematics and Science. Use marks of 10 students"
   ]
  },
  {
   "cell_type": "code",
   "execution_count": 72,
   "metadata": {},
   "outputs": [
    {
     "data": {
      "image/png": "[encoded data removed]",
      "text/plain": [
       "<matplotlib.figure.Figure at 0x45fc2930>"
      ]
     },
     "metadata": {},
     "output_type": "display_data"
    }
   ],
   "source": [
    "import matplotlib.pyplot as plt\n",
    "import pandas as pd\n",
    "\n",
    "math_marks = [88, 92, 80, 89, 100, 80, 60, 100, 80, 34]\n",
    "science_marks = [35,79,79,48,100,88,32,45,20,30]\n",
    "marks_range=[10,20,30,40,50,60,70,80,90,100]\n",
    "plt.scatter(marks_range, math_marks, label='Maths marks', color='r')\n",
    "plt.scatter(marks_range, science_marks, label='Science marks', color='g')\n",
    "plt.title('Scatter plot')\n",
    "plt.xlabel('Marks Range')\n",
    "plt.ylabel('Marks Scored')\n",
    "plt.legend()\n",
    "plt.show()"
   ]
  },
  {
   "cell_type": "markdown",
   "metadata": {},
   "source": [
    "### Q149.Write a python program to draw thescatter plot for three different groups comparing weights and heights."
   ]
  },
  {
   "cell_type": "code",
   "execution_count": 76,
   "metadata": {},
   "outputs": [
    {
     "data": {
      "image/png": "[encoded data removed]",
      "text/plain": [
       "<matplotlib.figure.Figure at 0xae186d0>"
      ]
     },
     "metadata": {},
     "output_type": "display_data"
    }
   ],
   "source": [
    "import matplotlib.pyplot as plt\n",
    "import numpy as np \n",
    "w1=[67,57.2,59.6,59.64,55.8,61.2,60.45,61,56.23,56]\n",
    "h1=[101.7,197.6,98.3,125.1,113.7,157.7,136,148.9,125.3,114.9] \n",
    "w2=[61.9,64,62.1,64.2,62.3,65.4,62.4,61.4,62.5,63.6]\n",
    "h2=[152.8,155.3,135.1,125.2,151.3,135,182.2,195.9,165.1,125.1] \n",
    "w3=[68.2,67.2,68.4,68.7,71,71.3,70.8,70,71.1,71.7]\n",
    "h3=[165.8,170.9,192.8,135.4,161.4,136.1,167.1,235.1,181.1,177.3]\n",
    "\n",
    "weight = np.concatenate([w1, w2, w3])\n",
    "height = np.concatenate([h1, h2, h3])\n",
    "plt.scatter(weight, height, marker='*', color=['red','green','blue'])\n",
    "plt.xlabel('weight', fontsize=16)\n",
    "plt.ylabel('height', fontsize=16)\n",
    "plt.title('Group wise Weight vs Height scatter plot', fontsize=20)\n",
    "plt.show()"
   ]
  },
  {
   "cell_type": "markdown",
   "metadata": {},
   "source": [
    "### Q150.Write a python program to draw a scatter plot to find sea-level rise in past 100 years."
   ]
  },
  {
   "cell_type": "code",
   "execution_count": 83,
   "metadata": {},
   "outputs": [
    {
     "data": {
      "image/png": "[encoded data removed]",
      "text/plain": [
       "<matplotlib.figure.Figure at 0x17a98eb0>"
      ]
     },
     "metadata": {},
     "output_type": "display_data"
    }
   ],
   "source": [
    "import matplotlib.pyplot as plt\n",
    "import pandas as pd\n",
    "data = pd.read_csv('data.csv')\n",
    "year = data['year']\n",
    "sea_levels = data['CSIRO_sea_level']\n",
    "plt.scatter(year, sea_levels, edgecolors='g')\n",
    "plt.xlabel('Year')\n",
    "plt.ylabel('Sea Level(inches)')\n",
    "plt.title('Rise in Sealevel')\n",
    "plt.show()"
   ]
  },
  {
   "cell_type": "code",
   "execution_count": null,
   "metadata": {
    "collapsed": true
   },
   "outputs": [],
   "source": []
  }
 ],
 "metadata": {
  "anaconda-cloud": {},
  "colab": {
   "collapsed_sections": [],
   "name": "Ineuron-Python Subjective Assignement.ipynb",
   "provenance": []
  },
  "kernelspec": {
   "display_name": "Python 3",
   "language": "python",
   "name": "python3"
  },
  "language_info": {
   "codemirror_mode": {
    "name": "ipython",
    "version": 3
   },
   "file_extension": ".py",
   "mimetype": "text/x-python",
   "name": "python",
   "nbconvert_exporter": "python",
   "pygments_lexer": "ipython3",
   "version": "3.6.7"
  }
 },
 "nbformat": 4,
 "nbformat_minor": 1
}
