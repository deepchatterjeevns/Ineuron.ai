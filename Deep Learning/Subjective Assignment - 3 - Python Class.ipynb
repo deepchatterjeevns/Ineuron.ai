{
 "cells": [
  {
   "cell_type": "markdown",
   "metadata": {},
   "source": [
    "# Assignment"
   ]
  },
  {
   "cell_type": "markdown",
   "metadata": {},
   "source": [
    "Q1. Write the Python class to convert an integer to a roman numeral?"
   ]
  },
  {
   "cell_type": "code",
   "execution_count": 1,
   "metadata": {},
   "outputs": [],
   "source": [
    "class num_to_rom():\n",
    "    def __init__(self,number):\n",
    "        self.num = number\n",
    "        \n",
    "    \n",
    "    #https://stackoverflow.com/questions/28777219/basic-program-to-convert-integer-to-roman-numerals/28777781\n",
    "    def num2roman(self):\n",
    "        roman = ''\n",
    "        \n",
    "        num_map = [(1000, 'M'), (900, 'CM'), (500, 'D'), (400, 'CD'), (100, 'C'), (90, 'XC'),\n",
    "           (50, 'L'), (40, 'XL'), (10, 'X'), (9, 'IX'), (5, 'V'), (4, 'IV'), (1, 'I')]\n",
    "\n",
    "        while self.num > 0:\n",
    "            for i, r in num_map:\n",
    "                while self.num >= i:\n",
    "                    roman += r\n",
    "                    self.num -= i\n",
    "\n",
    "        return roman\n",
    "    "
   ]
  },
  {
   "cell_type": "code",
   "execution_count": 2,
   "metadata": {},
   "outputs": [
    {
     "name": "stdout",
     "output_type": "stream",
     "text": [
      "CCCLXIX\n"
     ]
    }
   ],
   "source": [
    "ex_num = num_to_rom(369)\n",
    "print(ex_num.num2roman())"
   ]
  },
  {
   "cell_type": "markdown",
   "metadata": {},
   "source": [
    "Q2 Write the Python class to convert a Roman numeral to an integer?\n"
   ]
  },
  {
   "cell_type": "code",
   "execution_count": 6,
   "metadata": {},
   "outputs": [
    {
     "name": "stdout",
     "output_type": "stream",
     "text": [
      "3986\n",
      "4000\n",
      "100\n"
     ]
    }
   ],
   "source": [
    "class py_solution: \n",
    "    def roman_to_int(self, s): \n",
    "        rom_val = {'I': 1, 'V': 5, 'X': 10, 'L': 50, 'C': 100, 'D': 500, 'M': 1000}\n",
    "\n",
    "        int_val = 0 \n",
    "        for i in range(len(s)): \n",
    "            if i > 0 and rom_val[s[i]] > rom_val[s[i - 1]]: \n",
    "                int_val += rom_val[s[i]] - 2 * rom_val[s[i - 1]] \n",
    "            else: \n",
    "                int_val += rom_val[s[i]] \n",
    "        return int_val\n",
    "print(py_solution().roman_to_int('MMMCMLXXXVI')) \n",
    "print(py_solution().roman_to_int('MMMM')) \n",
    "print(py_solution().roman_to_int('C'))"
   ]
  },
  {
   "cell_type": "markdown",
   "metadata": {},
   "source": [
    "Q3. Write the Python class to find the validity of the string of the\n",
    "parentheses, '(', ')', '{', '}', '[' and '] and the brackets must be closed\n",
    "in the correct order, example - \"()\" and \"()[]{}\" are valid but \"[)\",\n",
    "\"({[)]\" and \"{{{\" are invalid.\n"
   ]
  },
  {
   "cell_type": "code",
   "execution_count": 7,
   "metadata": {},
   "outputs": [
    {
     "name": "stdout",
     "output_type": "stream",
     "text": [
      "True\n",
      "False\n",
      "True\n"
     ]
    }
   ],
   "source": [
    "class py_solution: \n",
    "    def is_valid_parenthese(self, str1): \n",
    "        stack, pchar = [], {\"(\": \")\", \"{\": \"}\", \"[\": \"]\"} \n",
    "        for parenthese in str1: \n",
    "            if parenthese in pchar: \n",
    "                stack.append(parenthese) \n",
    "            elif len(stack) == 0 or pchar[stack.pop()] != parenthese: \n",
    "                return False \n",
    "        return len(stack) == 0\n",
    "\n",
    "print(py_solution().is_valid_parenthese(\"(){}[]\")) \n",
    "print(py_solution().is_valid_parenthese(\"()[{)}\")) \n",
    "print(py_solution().is_valid_parenthese(\"()\"))"
   ]
  },
  {
   "cell_type": "markdown",
   "metadata": {},
   "source": [
    "Q4. Write the Python class to get all possible unique subsets from a set\n",
    "of distinct integers?\n",
    "\n",
    "    Input - [4, 5, 6]\n",
    "    Output - [[], [6], [5], [5, 6], [4], [4, 6], [4, 5], [4, 5, 6]]"
   ]
  },
  {
   "cell_type": "code",
   "execution_count": 8,
   "metadata": {},
   "outputs": [
    {
     "name": "stdout",
     "output_type": "stream",
     "text": [
      "[[], [6], [5], [5, 6], [4], [4, 6], [4, 5], [4, 5, 6]]\n"
     ]
    }
   ],
   "source": [
    "class py_solution: \n",
    "    def sub_sets(self, sset): \n",
    "        return self.subsetsRecur([], sorted(sset))\n",
    "    def subsetsRecur(self, current, sset): \n",
    "        if sset: \n",
    "            return self.subsetsRecur(current, sset[1:]) + self.subsetsRecur(current + [sset[0]], sset[1:]) \n",
    "        return [current]\n",
    "\n",
    "print(py_solution().sub_sets([4,5,6]))"
   ]
  },
  {
   "cell_type": "markdown",
   "metadata": {},
   "source": [
    "Q5. Write the Python class to find a pair of elements (indices of the two\n",
    "numbers) from a given array whose sum equals the specific target\n",
    "number?\n",
    "\n",
    "    Input: numbers- [10,20,10,40,50,60,70], target=50\n",
    "    Output- 3, 4"
   ]
  },
  {
   "cell_type": "code",
   "execution_count": 9,
   "metadata": {},
   "outputs": [
    {
     "name": "stdout",
     "output_type": "stream",
     "text": [
      "index1=2, index2=3\n"
     ]
    }
   ],
   "source": [
    "class py_solution: \n",
    "    def twoSum(self, nums, target): \n",
    "        lookup = {} \n",
    "        for i, num in enumerate(nums): \n",
    "            if target - num in lookup: \n",
    "                return (lookup[target - num], i ) \n",
    "            lookup[num] = i \n",
    "            \n",
    "print(\"index1=%d, index2=%d\" % py_solution().twoSum((10,20,10,40,50,60,70),50))"
   ]
  },
  {
   "cell_type": "markdown",
   "metadata": {},
   "source": [
    "Q6. Write the Python class to find the three elements that sum to zero\n",
    "from the set of n real numbers?\n",
    "\n",
    "    Input array- [-25, -10, -7, -3, 2, 4, 8, 10]\n",
    "    Output - [[-10, 2, 8], [-7, -3, 10]]\n"
   ]
  },
  {
   "cell_type": "code",
   "execution_count": 10,
   "metadata": {},
   "outputs": [
    {
     "name": "stdout",
     "output_type": "stream",
     "text": [
      "[[-10, 2, 8], [-7, -3, 10]]\n"
     ]
    }
   ],
   "source": [
    "class py_solution: \n",
    "    def threeSum(self, nums): \n",
    "        nums, result, i = sorted(nums), [], 0 \n",
    "        while i < len(nums) - 2: \n",
    "            j, k = i + 1, len(nums) - 1 \n",
    "            while j < k: \n",
    "                if nums[i] + nums[j] + nums[k] < 0: \n",
    "                    j += 1 \n",
    "                elif nums[i] + nums[j] + nums[k] > 0:\n",
    "                    k -= 1 \n",
    "                else: \n",
    "                    result.append([nums[i], nums[j], nums[k]]) \n",
    "                    j, k = j + 1, k - 1 \n",
    "                    while j < k and nums[j] == nums[j - 1]: \n",
    "                        j += 1 \n",
    "                    while j < k and nums[k] == nums[k + 1]: \n",
    "                        k -= 1 \n",
    "            i += 1 \n",
    "            while i < len(nums) - 2 and nums[i] == nums[i - 1]: \n",
    "                i += 1 \n",
    "        return result    \n",
    "    \n",
    "print(py_solution().threeSum([-25, -10, -7, -3, 2, 4, 8, 10]))"
   ]
  },
  {
   "cell_type": "markdown",
   "metadata": {},
   "source": [
    "Q7. Write the Python class to implement pow(x, n)?"
   ]
  },
  {
   "cell_type": "code",
   "execution_count": 11,
   "metadata": {},
   "outputs": [
    {
     "data": {
      "text/plain": [
       "27"
      ]
     },
     "execution_count": 11,
     "metadata": {},
     "output_type": "execute_result"
    }
   ],
   "source": [
    "class Power:\n",
    "    def __init__(self):\n",
    "        pass\n",
    "    \n",
    "    def of(self, x, n):\n",
    "        return x**n\n",
    "      \n",
    "\n",
    "power = Power()\n",
    "power.of(3,3)"
   ]
  },
  {
   "cell_type": "markdown",
   "metadata": {},
   "source": [
    "Q8. Write the Python class which has two methods get_String and\n",
    "print_String. get_String accept the string from the user and \n",
    "print_String print the string in upper case."
   ]
  },
  {
   "cell_type": "code",
   "execution_count": 12,
   "metadata": {},
   "outputs": [
    {
     "name": "stdout",
     "output_type": "stream",
     "text": [
      "I will win\n",
      "I WILL WIN\n"
     ]
    }
   ],
   "source": [
    "class IOString(): \n",
    "    def __init__(self): \n",
    "        self.str1 = \"\"\n",
    "    def get_String(self): \n",
    "        self.str1 = input()\n",
    "    def print_String(self): print(self.str1.upper())\n",
    "str1 = IOString() \n",
    "str1.get_String()  \n",
    "str1.print_String()"
   ]
  },
  {
   "cell_type": "markdown",
   "metadata": {},
   "source": [
    "Q9. Write the Python class named Rectangle constructed by a length\n",
    "and width and the method which will compute the area of the\n",
    "rectangle?"
   ]
  },
  {
   "cell_type": "code",
   "execution_count": 13,
   "metadata": {},
   "outputs": [
    {
     "name": "stdout",
     "output_type": "stream",
     "text": [
      "Area of Rectangle is 2000\n"
     ]
    }
   ],
   "source": [
    "class Rectangle:\n",
    "    def __init__(self, length, width):\n",
    "        self.length = length\n",
    "        self.width = width\n",
    "\n",
    "    def area(self):\n",
    "        return self.length * self.width\n",
    "\n",
    "rectangle = Rectangle(40,50)\n",
    "print( 'Area of Rectangle is', rectangle.area() )"
   ]
  },
  {
   "cell_type": "markdown",
   "metadata": {},
   "source": [
    "Q10. Write the Python class named Circle constructed by the radius\n",
    "and two methods which will compute the area and perimeter of\n",
    "the circle?"
   ]
  },
  {
   "cell_type": "code",
   "execution_count": 14,
   "metadata": {},
   "outputs": [
    {
     "name": "stdout",
     "output_type": "stream",
     "text": [
      "Area = 430.10837999999995\n",
      "Perimeter = 73.52279999999999\n"
     ]
    }
   ],
   "source": [
    "class Circle:\n",
    "    def __init__(self, radius):\n",
    "        self.radius = radius\n",
    "\n",
    "    def area(self):\n",
    "        return 3.142 * (self.radius * self.radius)\n",
    "\n",
    "    def perimeter(self):\n",
    "        return 2 * 3.142 * self.radius\n",
    "\n",
    "circle = Circle(11.7)\n",
    "print( 'Area =', circle.area())\n",
    "print( 'Perimeter =', circle.perimeter())\n"
   ]
  },
  {
   "cell_type": "markdown",
   "metadata": {},
   "source": [
    "Q11. Write the Python program to get the class name of an instance in\n",
    "Python?"
   ]
  },
  {
   "cell_type": "code",
   "execution_count": 15,
   "metadata": {},
   "outputs": [
    {
     "name": "stdout",
     "output_type": "stream",
     "text": [
      "Circle\n"
     ]
    }
   ],
   "source": [
    "class Circle:\n",
    "    def __init__(self, radius):\n",
    "        self.radius = radius\n",
    "\n",
    "    def area(self):\n",
    "        return 3.142 * (self.radius * self.radius)\n",
    "\n",
    "    def perimeter(self):\n",
    "        return 2 * 3.142 * self.radius\n",
    "\n",
    "circle = Circle(11.7)\n",
    "print(type(circle).__name__)"
   ]
  },
  {
   "cell_type": "markdown",
   "metadata": {},
   "source": [
    "Q12. Write the Python program to count the number of students of\n",
    "individual class?\n",
    "\n",
    "    Sample dataclasses = (\n",
    "    ('V', 1),\n",
    "    ('VI', 1),\n",
    "    ('V', 2),\n",
    "    ('VI', 2),\n",
    "    ('VI', 3),\n",
    "    ('VII', 1),\n",
    "    )\n",
    "    Expected OutputCounter({'VI': 3, 'V': 2, 'VII': 1})"
   ]
  },
  {
   "cell_type": "code",
   "execution_count": 16,
   "metadata": {},
   "outputs": [
    {
     "name": "stdout",
     "output_type": "stream",
     "text": [
      "Counter({'VI': 3, 'V': 2, 'VII': 1})\n"
     ]
    }
   ],
   "source": [
    "from collections import Counter\n",
    "classes = (\n",
    "    ('V', 1),\n",
    "    ('VI', 1),\n",
    "    ('V', 2),\n",
    "    ('VI', 2),\n",
    "    ('VI', 3),\n",
    "    ('VII', 1),\n",
    ")\n",
    "students = Counter(class_name for class_name, no_students in classes)\n",
    "print(students)"
   ]
  },
  {
   "cell_type": "markdown",
   "metadata": {},
   "source": [
    "## Great Job!"
   ]
  }
 ],
 "metadata": {
  "kernelspec": {
   "display_name": "Python 3",
   "language": "python",
   "name": "python3"
  },
  "language_info": {
   "codemirror_mode": {
    "name": "ipython",
    "version": 3
   },
   "file_extension": ".py",
   "mimetype": "text/x-python",
   "name": "python",
   "nbconvert_exporter": "python",
   "pygments_lexer": "ipython3",
   "version": "3.6.7"
  }
 },
 "nbformat": 4,
 "nbformat_minor": 2
}
