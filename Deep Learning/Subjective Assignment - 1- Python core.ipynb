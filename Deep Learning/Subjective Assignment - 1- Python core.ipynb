{
 "cells": [
  {
   "cell_type": "markdown",
   "metadata": {},
   "source": [
    "Q1. Write a Python program to get the string from the given string where\n",
    "all the occurrence of its first char has been changed to '$,' except first\n",
    "char itself?\n",
    "\n",
    "    Sample String: 'prospect'\n",
    "    Expected Result : 'pros$ect'\n"
   ]
  },
  {
   "cell_type": "code",
   "execution_count": 1,
   "metadata": {},
   "outputs": [],
   "source": [
    "def change_char(str):\n",
    "    first_char = str[0]\n",
    "    str = str.replace(first_char,'$')\n",
    "    str = first_char + str[1:]\n",
    "    return str\n",
    "    "
   ]
  },
  {
   "cell_type": "code",
   "execution_count": 3,
   "metadata": {},
   "outputs": [
    {
     "name": "stdout",
     "output_type": "stream",
     "text": [
      "pros$ect\n"
     ]
    }
   ],
   "source": [
    "Sample_string = 'prospect'\n",
    "Expected_result = change_char(Sample_string)\n",
    "print(Expected_result)"
   ]
  },
  {
   "cell_type": "markdown",
   "metadata": {},
   "source": [
    "Q2. Write a Python program to get the single string from the two given\n",
    "strings, and separated by the space and swap the first two characters of\n",
    "each string?\n",
    "\n",
    "    Sample String : 'abc', 'xyz'.\n",
    "    Expected Result: 'xyc abz'"
   ]
  },
  {
   "cell_type": "code",
   "execution_count": 5,
   "metadata": {},
   "outputs": [],
   "source": [
    "def swap_char(str1,str2):\n",
    "    new_str1 = str2[:2] + str1[2:]\n",
    "    new_str2 = str1[:2] + str2[2:]\n",
    "    result = new_str1 + \" \" + new_str2\n",
    "    print(f'Expected result: {result}')"
   ]
  },
  {
   "cell_type": "code",
   "execution_count": 6,
   "metadata": {},
   "outputs": [
    {
     "name": "stdout",
     "output_type": "stream",
     "text": [
      "Expected result: xyc abz\n"
     ]
    }
   ],
   "source": [
    "swap_char('abc', 'xyz')"
   ]
  },
  {
   "cell_type": "markdown",
   "metadata": {},
   "source": [
    "Q3. Write the Python program to add 'ing' at the end of the given string\n",
    "(length of the string should be at least 3). If given string already ends\n",
    "with 'ing,' then add 'ly' instead. If string length of the given string is less\n",
    "than 3, leave it unchanged?\n",
    "\n",
    "\n",
    "    Sample string: ' abc '\n",
    "    Expected result: ' abcing '\n",
    "    Sample string: ' string '\n",
    "    Expected result: ' stringly '\n"
   ]
  },
  {
   "cell_type": "code",
   "execution_count": 19,
   "metadata": {},
   "outputs": [],
   "source": [
    "def add_str(str):\n",
    "    if len(str) < 3:\n",
    "        print(f'As the string length is less than 3 so expected result {str}')\n",
    "    else:\n",
    "        if str[-3:] == 'ing':\n",
    "            new_str = str + 'ly'\n",
    "            print(f'Expected result: {new_str}')\n",
    "        else:\n",
    "            new_str = str + 'ing'\n",
    "            print(f'Expected result: {new_str}')"
   ]
  },
  {
   "cell_type": "code",
   "execution_count": 20,
   "metadata": {},
   "outputs": [
    {
     "name": "stdout",
     "output_type": "stream",
     "text": [
      "Expected result: abcing\n",
      "Expected result: stringly\n"
     ]
    }
   ],
   "source": [
    "add_str('abc')\n",
    "add_str('string')"
   ]
  },
  {
   "cell_type": "markdown",
   "metadata": {},
   "source": [
    "Q4. Write the Python program to find the first appearance of the\n",
    "substring 'not' and 'poor' from the given string, if 'not' follows the 'poor',\n",
    "replace the whole 'not'...' poor' substring with 'good'.Return the resulting\n",
    "string.\n",
    "\n",
    "    Sample string: 'The lyrics are not that poor!'\n",
    "    'The lyrics are poor!'\n",
    "    Expected Result: 'The lyrics are good!'\n",
    "    'The lyrics are poor!'"
   ]
  },
  {
   "cell_type": "code",
   "execution_count": 25,
   "metadata": {},
   "outputs": [],
   "source": [
    "def replace_str(str1):\n",
    "    not_1 = str1.find('not')\n",
    "    poor_1 = str1.find('poor')\n",
    "    \n",
    "    if poor_1 > not_1 and poor_1 > 0 and not_1 > 0:\n",
    "        str1 = str1.replace(str1[not_1:(poor_1 + 4)], 'good')\n",
    "        print(f'Expected result: {str1}')\n",
    "    else:\n",
    "        print(f'Expected result: {str1}')\n",
    "        "
   ]
  },
  {
   "cell_type": "code",
   "execution_count": 26,
   "metadata": {},
   "outputs": [
    {
     "name": "stdout",
     "output_type": "stream",
     "text": [
      "Expected result: The lyrics is good!\n",
      "Expected result: The lyrics is poor!\n"
     ]
    }
   ],
   "source": [
    "replace_str('The lyrics is not that poor!')\n",
    "replace_str('The lyrics is poor!')"
   ]
  },
  {
   "cell_type": "markdown",
   "metadata": {},
   "source": [
    "Q5. Write the Python program to remove the characters which have odd\n",
    "index values of a given string."
   ]
  },
  {
   "cell_type": "code",
   "execution_count": 27,
   "metadata": {},
   "outputs": [
    {
     "name": "stdout",
     "output_type": "stream",
     "text": [
      "hrces\n"
     ]
    }
   ],
   "source": [
    "def rem_odd_char(str):\n",
    "    return \"\".join(str[index] for index in range(len(str)) if index%2 != 0 )\n",
    "\n",
    "#Example\n",
    "print(rem_odd_char('characters'))"
   ]
  },
  {
   "cell_type": "markdown",
   "metadata": {},
   "source": [
    "Q6. Write the python program to print the following floating numbers up\n",
    "to 2 decimal places?"
   ]
  },
  {
   "cell_type": "code",
   "execution_count": 3,
   "metadata": {},
   "outputs": [
    {
     "data": {
      "text/plain": [
       "3.15"
      ]
     },
     "execution_count": 3,
     "metadata": {},
     "output_type": "execute_result"
    }
   ],
   "source": [
    "def two_decimals(number):\n",
    "    return float('{:.2f}'.format(number))\n",
    "\n",
    "#Example\n",
    "two_decimals(3.14576)"
   ]
  },
  {
   "cell_type": "markdown",
   "metadata": {},
   "source": [
    "Q7. Write the Python program to format a number with a percentage?"
   ]
  },
  {
   "cell_type": "code",
   "execution_count": 4,
   "metadata": {},
   "outputs": [
    {
     "name": "stdout",
     "output_type": "stream",
     "text": [
      "200%\n"
     ]
    }
   ],
   "source": [
    "def format_num(number):\n",
    "    return (f'{number}%')\n",
    "\n",
    "print(format_num(200))"
   ]
  },
  {
   "cell_type": "markdown",
   "metadata": {},
   "source": [
    "Q8. Write the Python program to count occurrences of a substring in a\n",
    "String?"
   ]
  },
  {
   "cell_type": "code",
   "execution_count": 8,
   "metadata": {},
   "outputs": [],
   "source": [
    "def count_str(string,sub_string):\n",
    "    print(string.count(sub_string))"
   ]
  },
  {
   "cell_type": "code",
   "execution_count": 9,
   "metadata": {},
   "outputs": [
    {
     "name": "stdout",
     "output_type": "stream",
     "text": [
      "1\n"
     ]
    }
   ],
   "source": [
    "string = 'A quick brown fox jumps over the lazy dog.'\n",
    "sub_string = 'A'\n",
    "count_str(string,sub_string)"
   ]
  },
  {
   "cell_type": "markdown",
   "metadata": {},
   "source": [
    "Q9. Write the Python program to count repeated characters in a string.\n",
    "\n",
    "    Sample string: ' thequickbrownjumpsoverthelazydog '\n",
    "    \n",
    "    Expected output:\n",
    "    o 3\n",
    "    e 3\n",
    "    u 2\n",
    "    h 2\n",
    "    r 2\n",
    "    t 2"
   ]
  },
  {
   "cell_type": "code",
   "execution_count": 11,
   "metadata": {},
   "outputs": [
    {
     "name": "stdout",
     "output_type": "stream",
     "text": [
      "o 4\n",
      "e 3\n",
      "t 2\n",
      "h 2\n",
      "u 2\n",
      "r 2\n"
     ]
    }
   ],
   "source": [
    "from collections import defaultdict\n",
    "str1 = 'thequickbrownfoxjumpsoverthelazydog'\n",
    "d = defaultdict(int)\n",
    "for c in str1:\n",
    "    d[c] += 1\n",
    "    \n",
    "for c in sorted(d, key = d.get, reverse = True):\n",
    "    if d[c]>1:\n",
    "        print(f'{c} {d[c]}')\n"
   ]
  },
  {
   "cell_type": "markdown",
   "metadata": {},
   "source": [
    "Q10. Write the Python program to print the square and cube symbol in\n",
    "the area of a rectangle and volume of a cylinder?\n",
    "\n",
    "    Sample outputThe area of the rectangle is 1256.66cm2\n",
    "    The volume of the cylinder is 1254.725cm3\n"
   ]
  },
  {
   "cell_type": "code",
   "execution_count": 12,
   "metadata": {},
   "outputs": [
    {
     "name": "stdout",
     "output_type": "stream",
     "text": [
      "The area of rectangle is 1256.66cm²\n",
      "The volume of cylinder is 1254.725cm³\n"
     ]
    }
   ],
   "source": [
    "def square(num):\n",
    "    print(f'The area of rectangle is {num}cm\\u00b2')\n",
    "    \n",
    "    \n",
    "def cube(num):\n",
    "    print(f'The volume of cylinder is {num}cm\\u00b3')\n",
    "    \n",
    "#Examples\n",
    "square(1256.66)\n",
    "cube(1254.725)"
   ]
  },
  {
   "cell_type": "markdown",
   "metadata": {},
   "source": [
    "Q11. Write the Python program to check if a string contains all letters of\n",
    "the alphabet?"
   ]
  },
  {
   "cell_type": "code",
   "execution_count": 17,
   "metadata": {},
   "outputs": [],
   "source": [
    "def all_alphabets(str1):\n",
    "    contain_all_alphabets = True\n",
    "    for char in 'ABCDEFGHIJKLMNOPQRSTUVWXYZ':\n",
    "        if char not in str1.upper():\n",
    "            contain_all_alphabets = False\n",
    "            break\n",
    "    print(f'{str1} contains all alphabets: {contain_all_alphabets}')"
   ]
  },
  {
   "cell_type": "code",
   "execution_count": 18,
   "metadata": {},
   "outputs": [
    {
     "name": "stdout",
     "output_type": "stream",
     "text": [
      "abcdefghijklmnopqrstuvwxyz contains all alphabets: True\n",
      "abcdefghijklmnopqrstuvwxz contains all alphabets: False\n"
     ]
    }
   ],
   "source": [
    "all_alphabets('abcdefghijklmnopqrstuvwxyz')\n",
    "all_alphabets('abcdefghijklmnopqrstuvwxz')"
   ]
  },
  {
   "cell_type": "markdown",
   "metadata": {},
   "source": [
    "Q12. Write the Python program to find the second most repeated word\n",
    "in a given string?"
   ]
  },
  {
   "cell_type": "code",
   "execution_count": 19,
   "metadata": {},
   "outputs": [
    {
     "name": "stdout",
     "output_type": "stream",
     "text": [
      "('is', 2)\n"
     ]
    }
   ],
   "source": [
    "import collections\n",
    "\n",
    "_list_of_words = 'where there is a will thee is a way'.split()\n",
    "_dict_repeated_words = {}\n",
    "for i in range(len(_list_of_words)):\n",
    "    word = _list_of_words[i]\n",
    "    if word in _dict_repeated_words.keys():\n",
    "        _dict_repeated_words[word] = _dict_repeated_words[word] + 1\n",
    "    else:\n",
    "        _dict_repeated_words[word] = 1\n",
    "else:\n",
    "    _dict_repeated_words = sorted(_dict_repeated_words.items(), key=lambda kv: kv[1])\n",
    "    print(_dict_repeated_words[-2])"
   ]
  },
  {
   "cell_type": "markdown",
   "metadata": {},
   "source": [
    "Q13. Write the Python program to find the minimum window in the given\n",
    "string, which will contains all the characters of another given\n",
    "strings?\n",
    "\n",
    "    Example 1\n",
    "    Input : string1 = \" PRWSOERIUSFK \"\n",
    "    string2 = \" OSU \"\n",
    "    Output: Minimum window is \"OERIUS\""
   ]
  },
  {
   "cell_type": "code",
   "execution_count": 1,
   "metadata": {},
   "outputs": [],
   "source": [
    "# https://www.w3resource.com/python-exercises/string/python-data-type-string-exercise-74.php\n",
    "import collections\n",
    "def min_window(str1, str2):\n",
    "    result_char, missing_char = collections.Counter(str2), len(str2)\n",
    "    i = p = q = 0\n",
    "    for j, c in enumerate(str1, 1):\n",
    "        missing_char -= result_char[c] > 0\n",
    "        result_char[c] -= 1\n",
    "        if not missing_char:\n",
    "            while i < q and result_char[str1[i]] < 0:\n",
    "                result_char[str1[i]] += 1\n",
    "                i += 1\n",
    "            if not q or j - i <= q - p:\n",
    "                p, q = i, j\n",
    "    return str1[p:q]"
   ]
  },
  {
   "cell_type": "code",
   "execution_count": 2,
   "metadata": {},
   "outputs": [
    {
     "name": "stdout",
     "output_type": "stream",
     "text": [
      "Original Strings:\n",
      " PRWSOERIUSFK \n",
      " OSU\n",
      "Minimum window:\n",
      "OERIUS\n"
     ]
    }
   ],
   "source": [
    "str1 = \"PRWSOERIUSFK\"\n",
    "str2 = \"OSU\"\n",
    "print(\"Original Strings:\\n\",str1,\"\\n\",str2)\n",
    "print(\"Minimum window:\")\n",
    "print(min_window(str1,str2))"
   ]
  },
  {
   "cell_type": "markdown",
   "metadata": {},
   "source": [
    "Q14. Write the Python program to count number of substrings from a\n",
    "given string of lowercase alphabets with exactly k distinct (given)\n",
    "characters?\n",
    "\n",
    "    Input a string (lowercase alphabets): wolf\n",
    "    Input k: 4\n",
    "    Number of substrings with exactly 4 distinct characters: 1"
   ]
  },
  {
   "cell_type": "code",
   "execution_count": 1,
   "metadata": {},
   "outputs": [
    {
     "name": "stdout",
     "output_type": "stream",
     "text": [
      "Input a string (lowercase alphabets):wolf\n",
      "Input k: 4\n",
      "Number of substrings with exactly 4 distinct characters : 1\n"
     ]
    }
   ],
   "source": [
    "def count_k_dist(str1, k): \n",
    "    str_len = len(str1) \n",
    "    result = 0\n",
    "    ctr = [0] * 27\n",
    "    for i in range(0, str_len): \n",
    "        dist_ctr = 0\n",
    "        ctr = [0] * 27\n",
    "        for j in range(i, str_len): \n",
    "            if(ctr[ord(str1[j]) - 97] == 0): \n",
    "                dist_ctr += 1\n",
    "            ctr[ord(str1[j]) - 97] += 1\n",
    "            if(dist_ctr == k): \n",
    "                result += 1 \n",
    "            if(dist_ctr > k): \n",
    "                break\n",
    "    return result\n",
    "str1 = input(\"Input a string (lowercase alphabets):\") \n",
    "k = int(input(\"Input k: \"))\n",
    "\n",
    "print(\"Number of substrings with exactly\", k, \"distinct characters : \", end = \"\") \n",
    "print(count_k_dist(str1, k))"
   ]
  },
  {
   "cell_type": "markdown",
   "metadata": {},
   "source": [
    "Q15. Write the Python program to count number of substrings with same\n",
    "first and last characters of the given string?\n",
    "\n",
    "    Input a string: abcd\n",
    "    4\n"
   ]
  },
  {
   "cell_type": "code",
   "execution_count": 2,
   "metadata": {},
   "outputs": [],
   "source": [
    "def countSubstringWithEqualEnds(s): \n",
    "  \n",
    "    result = 0; \n",
    "    n = len(s); \n",
    "  \n",
    "    # Iterating through all substrings in \n",
    "    # way so that we can find first and  \n",
    "    # last character easily \n",
    "    for i in range(n): \n",
    "        for j in range(i, n): \n",
    "            if (s[i] == s[j]): \n",
    "                result = result + 1\n",
    "  \n",
    "    return result "
   ]
  },
  {
   "cell_type": "code",
   "execution_count": 4,
   "metadata": {},
   "outputs": [
    {
     "name": "stdout",
     "output_type": "stream",
     "text": [
      "4\n"
     ]
    }
   ],
   "source": [
    "s = \"abcd\" \n",
    "print(countSubstringWithEqualEnds(s)) "
   ]
  },
  {
   "cell_type": "markdown",
   "metadata": {},
   "source": [
    "## Great Job!"
   ]
  }
 ],
 "metadata": {
  "kernelspec": {
   "display_name": "Python 3",
   "language": "python",
   "name": "python3"
  },
  "language_info": {
   "codemirror_mode": {
    "name": "ipython",
    "version": 3
   },
   "file_extension": ".py",
   "mimetype": "text/x-python",
   "name": "python",
   "nbconvert_exporter": "python",
   "pygments_lexer": "ipython3",
   "version": "3.6.7"
  }
 },
 "nbformat": 4,
 "nbformat_minor": 2
}
