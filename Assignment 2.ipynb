{
 "cells": [
  {
   "cell_type": "markdown",
   "metadata": {},
   "source": [
    "### Task 1:\n",
    "#### 1.1\n",
    "    Write a Python Program to implement your own myreduce() function which works exactly like Python's built-in function reduce()"
   ]
  },
  {
   "cell_type": "code",
   "execution_count": 1,
   "metadata": {},
   "outputs": [],
   "source": [
    "def myreduce(func,iterable):\n",
    "    initial = iterable[0] # first element of iterable\n",
    "    for i in iterable[1:]:\n",
    "        initial = func(initial,i)\n",
    "    return initial\n"
   ]
  },
  {
   "cell_type": "code",
   "execution_count": 8,
   "metadata": {},
   "outputs": [
    {
     "name": "stdout",
     "output_type": "stream",
     "text": [
      "Result for custom function:  16\n",
      "Result for inbuilt function: 16\n"
     ]
    }
   ],
   "source": [
    "# Examples for myreduce() function and comparing with inbuilt reduce function\n",
    "# Sum of all elemets of a list\n",
    "from functools import reduce\n",
    "func = lambda x,y: x + y\n",
    "my_list = [1,3,5,7]\n",
    "\n",
    "result_custom = myreduce(func,my_list)\n",
    "print(f'Result for custom function:  {result_custom}')\n",
    "\n",
    "result_inbuilt = reduce(func,my_list)\n",
    "print(f'Result for inbuilt function: {result_inbuilt}')\n",
    "\n"
   ]
  },
  {
   "cell_type": "markdown",
   "metadata": {},
   "source": [
    "#### 1.2\n",
    "    Write a Python program to implement your own myfilter() function which works exactly like Python's built-in function filter()"
   ]
  },
  {
   "cell_type": "code",
   "execution_count": 3,
   "metadata": {},
   "outputs": [],
   "source": [
    "def myfilter(func, iterable):\n",
    "    result = []\n",
    "    for i in iterable:\n",
    "        if func(i):\n",
    "            result.append(i)\n",
    "    return result\n",
    "    "
   ]
  },
  {
   "cell_type": "code",
   "execution_count": 7,
   "metadata": {},
   "outputs": [
    {
     "name": "stdout",
     "output_type": "stream",
     "text": [
      "Result for custom function:  [0, 2, 4, 6, 8, 10, 12, 14]\n",
      "Result for inbuilt function: [0, 2, 4, 6, 8, 10, 12, 14]\n"
     ]
    }
   ],
   "source": [
    "# Examples for myfilter() function and comparing with inbuilt filter function\n",
    "# filter even numbers from a range\n",
    "from functools import reduce\n",
    "func = lambda x: x%2==0\n",
    "my_list = range(15)\n",
    "\n",
    "result_custom = myfilter(func,my_list)\n",
    "print(f'Result for custom function:  {result_custom}')\n",
    "\n",
    "result_inbuilt = list(filter(func,my_list))\n",
    "print(f'Result for inbuilt function: {result_inbuilt}')"
   ]
  },
  {
   "cell_type": "markdown",
   "metadata": {},
   "source": [
    "#### 2.\n",
    "    Implement List comprehensions to produce the following lists.\n",
    "\n",
    "    Write List comprehensions to produce the following Lists ['A', 'C', 'A', 'D', 'G', 'I', ’L’, ‘ D’]\n",
    "\n",
    "    ['x', 'xx', 'xxx', 'xxxx', 'y', 'yy', 'yyy', 'yyyy', 'z', 'zz', 'zzz', 'zzzz']\n",
    "\n",
    "    ['x', 'y', 'z', 'xx', 'yy', 'zz', 'xx', 'yy', 'zz', 'xxxx', 'yyyy', 'zzzz']\n",
    "\n",
    "    [[2], [3], [4], [3], [4], [5], [4], [5], [6]]\n",
    "\n",
    "    [[2, 3, 4, 5], [3, 4, 5, 6], [4, 5, 6, 7], [5, 6, 7, 8]]\n",
    "\n",
    "    [(1, 1), (2, 1), (3, 1), (1, 2), (2, 2), (3, 2), (1, 3), (2, 3), (3, 3)]"
   ]
  },
  {
   "cell_type": "code",
   "execution_count": 27,
   "metadata": {},
   "outputs": [
    {
     "name": "stdout",
     "output_type": "stream",
     "text": [
      "['A', 'C', 'A', 'D', 'G', 'I', 'L', 'D']\n",
      "\n",
      "['x', 'xx', 'xxx', 'xxxx', 'y', 'yy', 'yyy', 'yyyy', 'z', 'zz', 'zzz', 'zzzz']\n",
      "\n",
      "['x', 'y', 'z', 'xx', 'yy', 'zz', 'xxx', 'yyy', 'zzz', 'xxxx', 'yyyy', 'zzzz']\n",
      "\n",
      "[[2], [3], [4], [3], [4], [5], [4], [5], [6]]\n",
      "\n",
      "[[2, 3, 4, 5], [3, 4, 5, 6], [4, 5, 6, 7], [5, 6, 7, 8]]\n",
      "\n",
      "[(1, 1), (2, 1), (3, 1), (1, 2), (2, 2), (3, 2), (1, 3), (2, 3), (3, 3)]\n",
      "\n"
     ]
    }
   ],
   "source": [
    "print([i for i in 'ACADGILD'], end='\\n\\n')\n",
    "\n",
    "print([i*j for i in 'xyz' for j in range(1,5)], end='\\n\\n')\n",
    "\n",
    "print([i*j for i in range(1,5) for j in 'xyz'], end='\\n\\n')\n",
    "\n",
    "print([[i+j] for i in range(2,5) for j in range(3)], end='\\n\\n')\n",
    "\n",
    "print([[i+j for i in range(2,6)] for j in range(4)], end='\\n\\n')\n",
    "\n",
    "print([(j,i) for i in range(1,4) for j in range(1,4)], end='\\n\\n')\n",
    "\n"
   ]
  },
  {
   "cell_type": "markdown",
   "metadata": {},
   "source": [
    "#### 3.\n",
    "      Implement a function longestWord() that takes a list of words and returns the longest one."
   ]
  },
  {
   "cell_type": "code",
   "execution_count": 28,
   "metadata": {},
   "outputs": [],
   "source": [
    "def longestWord():\n",
    "    input_string = input(\"Enter words separated by space: \")\n",
    "    word_list = input_string.split()\n",
    "    words_len = [len(words) for words in word_list]\n",
    "    longest_word = word_list[words_len.index(max(words_len))]\n",
    "    print(f'The longest word among the list is {longest_word}')"
   ]
  },
  {
   "cell_type": "code",
   "execution_count": 29,
   "metadata": {},
   "outputs": [
    {
     "name": "stdout",
     "output_type": "stream",
     "text": [
      "Enter words separated by space: Artificial Intelligence Deep Learning\n",
      "The longest word among the list is Intelligence\n"
     ]
    }
   ],
   "source": [
    "longestWord()"
   ]
  },
  {
   "cell_type": "markdown",
   "metadata": {},
   "source": [
    "### Task 2:\n",
    "#### 1.1\n",
    "      Write a Python Program(with class concepts) to find the area of the triangle using the below formula. area = (s(s-a)(s-b)*(s-      c)) ** 0.5\n",
    "\n",
    "      Function to take the length of the sides of triangle from user should be defined in the parent\n",
    "\n",
    "      class and function to calculate the area should be defined in subclass."
   ]
  },
  {
   "cell_type": "code",
   "execution_count": 1,
   "metadata": {},
   "outputs": [],
   "source": [
    "\n",
    "class Triangle:\n",
    "    def __init__(self,a,b,c):\n",
    "        self.a=a\n",
    "        self.b=b\n",
    "        self.c=c\n",
    "class Area(Triangle):     \n",
    "    def __init__(self,*args):\n",
    "        super(Area, self).__init__(*args) \n",
    "    def get_area(self):                     \n",
    "        s=(self.a+self.b+self.c)/2\n",
    "        area = (s*(s-self.a)*(s-self.b)*(s-self.c))**0.5    \n",
    "        return area\n",
    "\n"
   ]
  },
  {
   "cell_type": "code",
   "execution_count": 2,
   "metadata": {},
   "outputs": [
    {
     "name": "stdout",
     "output_type": "stream",
     "text": [
      "The area of traingle is 43.30\n"
     ]
    }
   ],
   "source": [
    "sides = Area(10,10,10)\n",
    "result = sides.get_area()\n",
    "print(f'The area of traingle is {result:.2f}')"
   ]
  },
  {
   "cell_type": "markdown",
   "metadata": {},
   "source": [
    "#### 1.2\n",
    "        Write a function filter_long_words() that takes a list of words and an integer n and returns the list of words that are         longer than n."
   ]
  },
  {
   "cell_type": "code",
   "execution_count": 19,
   "metadata": {},
   "outputs": [],
   "source": [
    "def filter_long_words():\n",
    "    input_string = input(\"Enter words separated by space: \")\n",
    "    n = int(input(\"Enter an integer: \"))\n",
    "    word_list = input_string.split()\n",
    "    words = []\n",
    "    for word in word_list:\n",
    "        if (len(word)>n):\n",
    "            words.append(word)\n",
    "    return words\n",
    "    "
   ]
  },
  {
   "cell_type": "code",
   "execution_count": 20,
   "metadata": {},
   "outputs": [
    {
     "name": "stdout",
     "output_type": "stream",
     "text": [
      "Enter words separated by space: Now student of iNeuron Later alumuni\n",
      "Enter an integer: 3\n"
     ]
    },
    {
     "data": {
      "text/plain": [
       "['student', 'iNeuron', 'Later', 'alumuni']"
      ]
     },
     "execution_count": 20,
     "metadata": {},
     "output_type": "execute_result"
    }
   ],
   "source": [
    "filter_long_words()"
   ]
  },
  {
   "cell_type": "markdown",
   "metadata": {},
   "source": [
    "\n",
    "#### 2.1\n",
    "     Write a Python program using function concept that maps list of words into a list of integers representing the lengths of      the corresponding words.\n",
    "\n",
    "     Hint: If a list [ ab,cde,erty] is passed on to the python function output should come as [2,3,4] Here 2,3 and 4 are the        lengths of the words in the list."
   ]
  },
  {
   "cell_type": "code",
   "execution_count": 17,
   "metadata": {},
   "outputs": [],
   "source": [
    "def len_of_words():\n",
    "    \n",
    "    input_string = input(\"Enter words separated by space: \")\n",
    "    word_list = input_string.split()\n",
    "    words_len = [len(words) for words in word_list]\n",
    "    return words_len\n",
    "    "
   ]
  },
  {
   "cell_type": "code",
   "execution_count": 18,
   "metadata": {},
   "outputs": [
    {
     "name": "stdout",
     "output_type": "stream",
     "text": [
      "Enter words separated by space: Student of iNeuron\n"
     ]
    },
    {
     "data": {
      "text/plain": [
       "[7, 2, 7]"
      ]
     },
     "execution_count": 18,
     "metadata": {},
     "output_type": "execute_result"
    }
   ],
   "source": [
    "len_of_words()"
   ]
  },
  {
   "cell_type": "markdown",
   "metadata": {},
   "source": [
    "#### 2.2\n",
    "      Write a Python function which takes a character (i.e. a string of length 1) and returns True if it is a vowel, False otherwise."
   ]
  },
  {
   "cell_type": "code",
   "execution_count": 5,
   "metadata": {},
   "outputs": [],
   "source": [
    "def is_vowel():\n",
    "    char = input(\"Enter a character: \")\n",
    "    vowels = ['a','e','i','o','u']\n",
    "    if char.lower() in vowels:\n",
    "        print('True')\n",
    "    else:\n",
    "        print('False')"
   ]
  },
  {
   "cell_type": "code",
   "execution_count": 7,
   "metadata": {},
   "outputs": [
    {
     "name": "stdout",
     "output_type": "stream",
     "text": [
      "Enter a character: A\n",
      "True\n"
     ]
    }
   ],
   "source": [
    "is_vowel()\n"
   ]
  },
  {
   "cell_type": "code",
   "execution_count": null,
   "metadata": {},
   "outputs": [],
   "source": []
  }
 ],
 "metadata": {
  "kernelspec": {
   "display_name": "Python 3",
   "language": "python",
   "name": "python3"
  },
  "language_info": {
   "codemirror_mode": {
    "name": "ipython",
    "version": 3
   },
   "file_extension": ".py",
   "mimetype": "text/x-python",
   "name": "python",
   "nbconvert_exporter": "python",
   "pygments_lexer": "ipython3",
   "version": "3.6.7"
  }
 },
 "nbformat": 4,
 "nbformat_minor": 2
}
